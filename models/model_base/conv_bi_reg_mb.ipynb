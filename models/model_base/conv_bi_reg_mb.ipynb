{
  "nbformat": 4,
  "nbformat_minor": 0,
  "metadata": {
    "colab": {
      "provenance": []
    },
    "kernelspec": {
      "name": "python3",
      "display_name": "Python 3"
    },
    "language_info": {
      "name": "python"
    },
    "accelerator": "TPU"
  },
  "cells": [
    {
      "cell_type": "markdown",
      "source": [
        "# **Importamos librerias**"
      ],
      "metadata": {
        "id": "glLlsmN7OXJh"
      }
    },
    {
      "cell_type": "code",
      "execution_count": 1,
      "metadata": {
        "id": "NhT-k91tNqY0"
      },
      "outputs": [],
      "source": [
        "import tensorflow as tf\n",
        "import keras\n",
        "import numpy as np\n",
        "import pandas as pd\n",
        "import matplotlib.pyplot as plt\n",
        "from google.colab import drive"
      ]
    },
    {
      "cell_type": "markdown",
      "source": [
        "# **Activamos la TPU**"
      ],
      "metadata": {
        "id": "_Dp3sx55jdFu"
      }
    },
    {
      "cell_type": "code",
      "source": [
        "resolver = tf.distribute.cluster_resolver.TPUClusterResolver(tpu='')\n",
        "tf.config.experimental_connect_to_cluster(resolver)\n",
        "# This is the TPU initialization code that has to be at the beginning.\n",
        "tf.tpu.experimental.initialize_tpu_system(resolver)\n",
        "print(\"All devices: \", tf.config.list_logical_devices('TPU'))\n",
        "strategy = tf.distribute.TPUStrategy(resolver)"
      ],
      "metadata": {
        "colab": {
          "base_uri": "https://localhost:8080/"
        },
        "id": "2uF5ptQgjfhh",
        "outputId": "ea345bfa-b2b2-4c14-add1-3b61b70a67f0"
      },
      "execution_count": 2,
      "outputs": [
        {
          "output_type": "stream",
          "name": "stdout",
          "text": [
            "All devices:  [LogicalDevice(name='/job:worker/replica:0/task:0/device:TPU:0', device_type='TPU'), LogicalDevice(name='/job:worker/replica:0/task:0/device:TPU:1', device_type='TPU'), LogicalDevice(name='/job:worker/replica:0/task:0/device:TPU:2', device_type='TPU'), LogicalDevice(name='/job:worker/replica:0/task:0/device:TPU:3', device_type='TPU'), LogicalDevice(name='/job:worker/replica:0/task:0/device:TPU:4', device_type='TPU'), LogicalDevice(name='/job:worker/replica:0/task:0/device:TPU:5', device_type='TPU'), LogicalDevice(name='/job:worker/replica:0/task:0/device:TPU:6', device_type='TPU'), LogicalDevice(name='/job:worker/replica:0/task:0/device:TPU:7', device_type='TPU')]\n"
          ]
        }
      ]
    },
    {
      "cell_type": "markdown",
      "source": [
        "# **Importamos la data**"
      ],
      "metadata": {
        "id": "3ejr_5-uO7CG"
      }
    },
    {
      "cell_type": "code",
      "source": [
        "\n",
        "# conectamos al drive\n",
        "drive.mount('/content/drive')\n",
        "\n",
        "# Definimos el directorio\n",
        "dir_data_kaggle='./drive/MyDrive/lwpwq/data'\n",
        "\n",
        "# extraemos la data\n",
        "\n",
        "dyn_train=np.load(dir_data_kaggle+'/dyn_train_data_mb.npy', allow_pickle=True)\n",
        "dyn_test=np.load(dir_data_kaggle+'/dyn_test_data_mb.npy', allow_pickle=True)\n",
        "\n",
        "\n",
        "stat_train=np.load(dir_data_kaggle+'/stat_train_data_mb.npy', allow_pickle=True)\n",
        "stat_test=np.load(dir_data_kaggle+'/stat_test_data_mb.npy', allow_pickle=True)\n",
        "\n",
        "\n",
        "target_train=np.load(dir_data_kaggle+'/target_train_data_mb.npy', allow_pickle=True)\n",
        "target_test=np.load(dir_data_kaggle+'/target_test_data_mb.npy', allow_pickle=True)\n"
      ],
      "metadata": {
        "id": "-dA8ma1dO6aO",
        "colab": {
          "base_uri": "https://localhost:8080/"
        },
        "outputId": "a0002b37-4991-4981-e2fe-686270980c57"
      },
      "execution_count": 3,
      "outputs": [
        {
          "output_type": "stream",
          "name": "stdout",
          "text": [
            "Mounted at /content/drive\n"
          ]
        }
      ]
    },
    {
      "cell_type": "markdown",
      "source": [
        "# **Acomodamos la data**"
      ],
      "metadata": {
        "id": "nEuK5vkIaB3R"
      }
    },
    {
      "cell_type": "code",
      "source": [
        "# escalamos la data\n",
        "\n",
        "target_train=(target_train-0.5)/5.5\n",
        "\n",
        "target_test=(target_test-0.5)/5.5"
      ],
      "metadata": {
        "id": "wJkP69IoaGna"
      },
      "execution_count": 4,
      "outputs": []
    },
    {
      "cell_type": "markdown",
      "source": [
        "# **Construimos el modelo**"
      ],
      "metadata": {
        "id": "8n5m_IGnWBEi"
      }
    },
    {
      "cell_type": "code",
      "source": [
        "# definimos las dimensiones\n",
        "\n",
        "stat_input_shape=stat_train.shape[1]\n",
        "dyn_input_shape=dyn_train.shape[1:]\n",
        "\n",
        "with strategy.scope():\n",
        "\n",
        "\n",
        "  input_stat= tf.keras.layers.Input(stat_input_shape)\n",
        "  input_dyn= tf.keras.layers.Input(dyn_input_shape)\n",
        "\n",
        "  masking_layer=keras.layers.Masking(mask_value=-1)\n",
        "\n",
        "  masking_dyn=masking_layer(input_dyn)\n",
        "\n",
        "  conv_layers= tf.keras.Sequential([\n",
        "\n",
        "  keras.layers.Conv1D(filters=64, kernel_size=3, padding='same'),\n",
        "  keras.layers.BatchNormalization(),\n",
        "  keras.layers.ReLU(),\n",
        "\n",
        "  keras.layers.Conv1D(filters=64, kernel_size=3, padding='same'),\n",
        "  keras.layers.BatchNormalization(),\n",
        "  keras.layers.ReLU(),\n",
        "\n",
        "  keras.layers.GlobalAveragePooling1D(),\n",
        "\n",
        "                                                               ])\n",
        "  conv_stack=conv_layers(masking_dyn)\n",
        "\n",
        "\n",
        "  concat = tf.keras.layers.concatenate([input_stat, conv_stack])\n",
        "\n",
        "  dense_1=keras.layers.Dense(units=8, activation='sigmoid')(concat)\n",
        "\n",
        "  dense_2= keras.layers.Dense(units=8, activation='sigmoid')(dense_1)\n",
        "\n",
        "  output=  keras.layers.Dense(units=1, activation='sigmoid')(dense_2)\n",
        "\n",
        "  model = tf.keras.Model(inputs=[input_stat, input_dyn], outputs=[output])\n",
        "\n",
        "\n",
        "  # compilamos\n",
        "\n",
        "  model.compile(\n",
        "    optimizer='rmsprop',\n",
        "    loss=keras.losses.MeanSquaredError(),\n",
        "    metrics=[keras.metrics.RootMeanSquaredError()],\n",
        "      )\n"
      ],
      "metadata": {
        "id": "hNYv3YX4WKSJ"
      },
      "execution_count": 5,
      "outputs": []
    },
    {
      "cell_type": "code",
      "source": [
        "# definimos algunos parametros de entrenamiento\n",
        "\n",
        "epochs = 200\n",
        "batch_size = 320\n",
        "\n",
        "callbacks = [\n",
        "    keras.callbacks.ModelCheckpoint(\n",
        "        'best_model.keras', save_best_only=True, monitor='val_loss'),\n",
        "\n",
        "    keras.callbacks.ReduceLROnPlateau(\n",
        "        monitor='val_loss', factor=0.5, patience=10, min_lr=10e-8),\n",
        "\n",
        "    keras.callbacks.EarlyStopping(monitor='val_loss', patience=20, verbose=1),\n",
        "]\n"
      ],
      "metadata": {
        "id": "2FialyiZobIW"
      },
      "execution_count": 6,
      "outputs": []
    },
    {
      "cell_type": "code",
      "source": [
        "\n",
        "\n",
        "# entrenamos\n",
        "\n",
        "history = model.fit(\n",
        "    x=(stat_train,dyn_train),\n",
        "    y=target_train,\n",
        "    batch_size=batch_size,\n",
        "    epochs=epochs,\n",
        "    callbacks=callbacks,\n",
        "    validation_split=0.2,\n",
        "    verbose=1,\n",
        ")"
      ],
      "metadata": {
        "id": "GtMa72eXoege",
        "colab": {
          "base_uri": "https://localhost:8080/"
        },
        "outputId": "45b3ad4a-9988-43b8-da40-62c2ef529d64"
      },
      "execution_count": 7,
      "outputs": [
        {
          "output_type": "stream",
          "name": "stdout",
          "text": [
            "Epoch 1/200\n",
            "4/4 [==============================] - 15s 2s/step - loss: 0.0512 - root_mean_squared_error: 0.2262 - val_loss: 0.0454 - val_root_mean_squared_error: 0.2131 - lr: 0.0010\n",
            "Epoch 2/200\n",
            "4/4 [==============================] - 1s 412ms/step - loss: 0.0452 - root_mean_squared_error: 0.2125 - val_loss: 0.0429 - val_root_mean_squared_error: 0.2071 - lr: 0.0010\n",
            "Epoch 3/200\n",
            "4/4 [==============================] - 2s 553ms/step - loss: 0.0420 - root_mean_squared_error: 0.2049 - val_loss: 0.0410 - val_root_mean_squared_error: 0.2025 - lr: 0.0010\n",
            "Epoch 4/200\n",
            "4/4 [==============================] - 1s 354ms/step - loss: 0.0398 - root_mean_squared_error: 0.1994 - val_loss: 0.0396 - val_root_mean_squared_error: 0.1989 - lr: 0.0010\n",
            "Epoch 5/200\n",
            "4/4 [==============================] - 1s 371ms/step - loss: 0.0382 - root_mean_squared_error: 0.1953 - val_loss: 0.0385 - val_root_mean_squared_error: 0.1962 - lr: 0.0010\n",
            "Epoch 6/200\n",
            "4/4 [==============================] - 1s 376ms/step - loss: 0.0370 - root_mean_squared_error: 0.1923 - val_loss: 0.0376 - val_root_mean_squared_error: 0.1939 - lr: 0.0010\n",
            "Epoch 7/200\n",
            "4/4 [==============================] - 1s 374ms/step - loss: 0.0361 - root_mean_squared_error: 0.1901 - val_loss: 0.0368 - val_root_mean_squared_error: 0.1919 - lr: 0.0010\n",
            "Epoch 8/200\n",
            "4/4 [==============================] - 1s 361ms/step - loss: 0.0355 - root_mean_squared_error: 0.1883 - val_loss: 0.0363 - val_root_mean_squared_error: 0.1905 - lr: 0.0010\n",
            "Epoch 9/200\n",
            "4/4 [==============================] - 1s 398ms/step - loss: 0.0350 - root_mean_squared_error: 0.1870 - val_loss: 0.0358 - val_root_mean_squared_error: 0.1892 - lr: 0.0010\n",
            "Epoch 10/200\n",
            "4/4 [==============================] - 1s 372ms/step - loss: 0.0346 - root_mean_squared_error: 0.1860 - val_loss: 0.0355 - val_root_mean_squared_error: 0.1883 - lr: 0.0010\n",
            "Epoch 11/200\n",
            "4/4 [==============================] - 1s 364ms/step - loss: 0.0344 - root_mean_squared_error: 0.1854 - val_loss: 0.0352 - val_root_mean_squared_error: 0.1876 - lr: 0.0010\n",
            "Epoch 12/200\n",
            "4/4 [==============================] - 1s 413ms/step - loss: 0.0342 - root_mean_squared_error: 0.1850 - val_loss: 0.0350 - val_root_mean_squared_error: 0.1872 - lr: 0.0010\n",
            "Epoch 13/200\n",
            "4/4 [==============================] - 1s 423ms/step - loss: 0.0341 - root_mean_squared_error: 0.1848 - val_loss: 0.0349 - val_root_mean_squared_error: 0.1868 - lr: 0.0010\n",
            "Epoch 14/200\n",
            "4/4 [==============================] - 1s 353ms/step - loss: 0.0341 - root_mean_squared_error: 0.1846 - val_loss: 0.0348 - val_root_mean_squared_error: 0.1865 - lr: 0.0010\n",
            "Epoch 15/200\n",
            "4/4 [==============================] - 1s 343ms/step - loss: 0.0340 - root_mean_squared_error: 0.1845 - val_loss: 0.0347 - val_root_mean_squared_error: 0.1864 - lr: 0.0010\n",
            "Epoch 16/200\n",
            "4/4 [==============================] - 1s 344ms/step - loss: 0.0340 - root_mean_squared_error: 0.1844 - val_loss: 0.0347 - val_root_mean_squared_error: 0.1863 - lr: 0.0010\n",
            "Epoch 17/200\n",
            "4/4 [==============================] - 1s 336ms/step - loss: 0.0340 - root_mean_squared_error: 0.1844 - val_loss: 0.0347 - val_root_mean_squared_error: 0.1862 - lr: 0.0010\n",
            "Epoch 18/200\n",
            "4/4 [==============================] - 1s 313ms/step - loss: 0.0340 - root_mean_squared_error: 0.1845 - val_loss: 0.0347 - val_root_mean_squared_error: 0.1862 - lr: 0.0010\n",
            "Epoch 19/200\n",
            "4/4 [==============================] - 1s 360ms/step - loss: 0.0340 - root_mean_squared_error: 0.1845 - val_loss: 0.0346 - val_root_mean_squared_error: 0.1861 - lr: 0.0010\n",
            "Epoch 20/200\n",
            "4/4 [==============================] - 1s 346ms/step - loss: 0.0340 - root_mean_squared_error: 0.1844 - val_loss: 0.0346 - val_root_mean_squared_error: 0.1861 - lr: 0.0010\n",
            "Epoch 21/200\n",
            "4/4 [==============================] - 1s 302ms/step - loss: 0.0340 - root_mean_squared_error: 0.1845 - val_loss: 0.0346 - val_root_mean_squared_error: 0.1861 - lr: 0.0010\n",
            "Epoch 22/200\n",
            "4/4 [==============================] - 1s 305ms/step - loss: 0.0340 - root_mean_squared_error: 0.1844 - val_loss: 0.0347 - val_root_mean_squared_error: 0.1862 - lr: 0.0010\n",
            "Epoch 23/200\n",
            "4/4 [==============================] - 2s 584ms/step - loss: 0.0341 - root_mean_squared_error: 0.1845 - val_loss: 0.0346 - val_root_mean_squared_error: 0.1861 - lr: 0.0010\n",
            "Epoch 24/200\n",
            "4/4 [==============================] - 1s 359ms/step - loss: 0.0340 - root_mean_squared_error: 0.1844 - val_loss: 0.0346 - val_root_mean_squared_error: 0.1861 - lr: 0.0010\n",
            "Epoch 25/200\n",
            "4/4 [==============================] - 1s 290ms/step - loss: 0.0341 - root_mean_squared_error: 0.1846 - val_loss: 0.0346 - val_root_mean_squared_error: 0.1861 - lr: 0.0010\n",
            "Epoch 26/200\n",
            "4/4 [==============================] - 1s 299ms/step - loss: 0.0340 - root_mean_squared_error: 0.1844 - val_loss: 0.0346 - val_root_mean_squared_error: 0.1861 - lr: 0.0010\n",
            "Epoch 27/200\n",
            "4/4 [==============================] - 1s 305ms/step - loss: 0.0340 - root_mean_squared_error: 0.1845 - val_loss: 0.0346 - val_root_mean_squared_error: 0.1861 - lr: 0.0010\n",
            "Epoch 28/200\n",
            "4/4 [==============================] - 1s 296ms/step - loss: 0.0340 - root_mean_squared_error: 0.1844 - val_loss: 0.0346 - val_root_mean_squared_error: 0.1861 - lr: 5.0000e-04\n",
            "Epoch 29/200\n",
            "4/4 [==============================] - 1s 308ms/step - loss: 0.0340 - root_mean_squared_error: 0.1844 - val_loss: 0.0346 - val_root_mean_squared_error: 0.1861 - lr: 5.0000e-04\n",
            "Epoch 30/200\n",
            "4/4 [==============================] - 1s 300ms/step - loss: 0.0340 - root_mean_squared_error: 0.1844 - val_loss: 0.0346 - val_root_mean_squared_error: 0.1861 - lr: 5.0000e-04\n",
            "Epoch 31/200\n",
            "4/4 [==============================] - 1s 343ms/step - loss: 0.0340 - root_mean_squared_error: 0.1844 - val_loss: 0.0346 - val_root_mean_squared_error: 0.1860 - lr: 5.0000e-04\n",
            "Epoch 32/200\n",
            "4/4 [==============================] - 1s 312ms/step - loss: 0.0340 - root_mean_squared_error: 0.1844 - val_loss: 0.0346 - val_root_mean_squared_error: 0.1860 - lr: 5.0000e-04\n",
            "Epoch 33/200\n",
            "4/4 [==============================] - 1s 306ms/step - loss: 0.0340 - root_mean_squared_error: 0.1843 - val_loss: 0.0346 - val_root_mean_squared_error: 0.1860 - lr: 5.0000e-04\n",
            "Epoch 34/200\n",
            "4/4 [==============================] - 1s 391ms/step - loss: 0.0340 - root_mean_squared_error: 0.1844 - val_loss: 0.0346 - val_root_mean_squared_error: 0.1860 - lr: 5.0000e-04\n",
            "Epoch 35/200\n",
            "4/4 [==============================] - 1s 407ms/step - loss: 0.0340 - root_mean_squared_error: 0.1844 - val_loss: 0.0346 - val_root_mean_squared_error: 0.1860 - lr: 5.0000e-04\n",
            "Epoch 36/200\n",
            "4/4 [==============================] - 1s 335ms/step - loss: 0.0340 - root_mean_squared_error: 0.1844 - val_loss: 0.0346 - val_root_mean_squared_error: 0.1860 - lr: 5.0000e-04\n",
            "Epoch 37/200\n",
            "4/4 [==============================] - 1s 302ms/step - loss: 0.0340 - root_mean_squared_error: 0.1844 - val_loss: 0.0346 - val_root_mean_squared_error: 0.1860 - lr: 5.0000e-04\n",
            "Epoch 38/200\n",
            "4/4 [==============================] - 1s 305ms/step - loss: 0.0340 - root_mean_squared_error: 0.1844 - val_loss: 0.0346 - val_root_mean_squared_error: 0.1860 - lr: 2.5000e-04\n",
            "Epoch 39/200\n",
            "4/4 [==============================] - 2s 479ms/step - loss: 0.0340 - root_mean_squared_error: 0.1844 - val_loss: 0.0346 - val_root_mean_squared_error: 0.1860 - lr: 2.5000e-04\n",
            "Epoch 40/200\n",
            "4/4 [==============================] - 1s 295ms/step - loss: 0.0340 - root_mean_squared_error: 0.1844 - val_loss: 0.0346 - val_root_mean_squared_error: 0.1860 - lr: 2.5000e-04\n",
            "Epoch 41/200\n",
            "4/4 [==============================] - 1s 311ms/step - loss: 0.0340 - root_mean_squared_error: 0.1844 - val_loss: 0.0346 - val_root_mean_squared_error: 0.1860 - lr: 2.5000e-04\n",
            "Epoch 42/200\n",
            "4/4 [==============================] - 1s 298ms/step - loss: 0.0340 - root_mean_squared_error: 0.1844 - val_loss: 0.0346 - val_root_mean_squared_error: 0.1860 - lr: 2.5000e-04\n",
            "Epoch 43/200\n",
            "4/4 [==============================] - 1s 340ms/step - loss: 0.0340 - root_mean_squared_error: 0.1844 - val_loss: 0.0346 - val_root_mean_squared_error: 0.1860 - lr: 2.5000e-04\n",
            "Epoch 44/200\n",
            "4/4 [==============================] - 1s 292ms/step - loss: 0.0340 - root_mean_squared_error: 0.1844 - val_loss: 0.0346 - val_root_mean_squared_error: 0.1860 - lr: 2.5000e-04\n",
            "Epoch 45/200\n",
            "4/4 [==============================] - 1s 380ms/step - loss: 0.0340 - root_mean_squared_error: 0.1844 - val_loss: 0.0346 - val_root_mean_squared_error: 0.1860 - lr: 2.5000e-04\n",
            "Epoch 46/200\n",
            "4/4 [==============================] - 1s 404ms/step - loss: 0.0340 - root_mean_squared_error: 0.1844 - val_loss: 0.0346 - val_root_mean_squared_error: 0.1860 - lr: 2.5000e-04\n",
            "Epoch 47/200\n",
            "4/4 [==============================] - 1s 401ms/step - loss: 0.0340 - root_mean_squared_error: 0.1844 - val_loss: 0.0346 - val_root_mean_squared_error: 0.1859 - lr: 2.5000e-04\n",
            "Epoch 48/200\n",
            "4/4 [==============================] - 1s 331ms/step - loss: 0.0340 - root_mean_squared_error: 0.1844 - val_loss: 0.0346 - val_root_mean_squared_error: 0.1859 - lr: 1.2500e-04\n",
            "Epoch 49/200\n",
            "4/4 [==============================] - 1s 343ms/step - loss: 0.0340 - root_mean_squared_error: 0.1844 - val_loss: 0.0346 - val_root_mean_squared_error: 0.1859 - lr: 1.2500e-04\n",
            "Epoch 50/200\n",
            "4/4 [==============================] - 1s 298ms/step - loss: 0.0340 - root_mean_squared_error: 0.1844 - val_loss: 0.0346 - val_root_mean_squared_error: 0.1859 - lr: 1.2500e-04\n",
            "Epoch 51/200\n",
            "4/4 [==============================] - 1s 340ms/step - loss: 0.0340 - root_mean_squared_error: 0.1844 - val_loss: 0.0346 - val_root_mean_squared_error: 0.1859 - lr: 1.2500e-04\n",
            "Epoch 52/200\n",
            "4/4 [==============================] - 1s 297ms/step - loss: 0.0340 - root_mean_squared_error: 0.1844 - val_loss: 0.0346 - val_root_mean_squared_error: 0.1859 - lr: 1.2500e-04\n",
            "Epoch 53/200\n",
            "4/4 [==============================] - 1s 339ms/step - loss: 0.0340 - root_mean_squared_error: 0.1844 - val_loss: 0.0346 - val_root_mean_squared_error: 0.1859 - lr: 1.2500e-04\n",
            "Epoch 54/200\n",
            "4/4 [==============================] - 1s 349ms/step - loss: 0.0340 - root_mean_squared_error: 0.1844 - val_loss: 0.0346 - val_root_mean_squared_error: 0.1859 - lr: 1.2500e-04\n",
            "Epoch 55/200\n",
            "4/4 [==============================] - 1s 342ms/step - loss: 0.0340 - root_mean_squared_error: 0.1844 - val_loss: 0.0346 - val_root_mean_squared_error: 0.1859 - lr: 1.2500e-04\n",
            "Epoch 56/200\n",
            "4/4 [==============================] - 1s 320ms/step - loss: 0.0340 - root_mean_squared_error: 0.1843 - val_loss: 0.0346 - val_root_mean_squared_error: 0.1859 - lr: 1.2500e-04\n",
            "Epoch 57/200\n",
            "4/4 [==============================] - 1s 407ms/step - loss: 0.0340 - root_mean_squared_error: 0.1844 - val_loss: 0.0346 - val_root_mean_squared_error: 0.1859 - lr: 1.2500e-04\n",
            "Epoch 58/200\n",
            "4/4 [==============================] - 2s 522ms/step - loss: 0.0340 - root_mean_squared_error: 0.1844 - val_loss: 0.0346 - val_root_mean_squared_error: 0.1859 - lr: 1.2500e-04\n",
            "Epoch 59/200\n",
            "4/4 [==============================] - 1s 343ms/step - loss: 0.0340 - root_mean_squared_error: 0.1844 - val_loss: 0.0346 - val_root_mean_squared_error: 0.1859 - lr: 1.2500e-04\n",
            "Epoch 60/200\n",
            "4/4 [==============================] - 1s 344ms/step - loss: 0.0340 - root_mean_squared_error: 0.1844 - val_loss: 0.0346 - val_root_mean_squared_error: 0.1859 - lr: 1.2500e-04\n",
            "Epoch 61/200\n",
            "4/4 [==============================] - 1s 347ms/step - loss: 0.0340 - root_mean_squared_error: 0.1844 - val_loss: 0.0346 - val_root_mean_squared_error: 0.1859 - lr: 1.2500e-04\n",
            "Epoch 62/200\n",
            "4/4 [==============================] - 1s 307ms/step - loss: 0.0340 - root_mean_squared_error: 0.1844 - val_loss: 0.0346 - val_root_mean_squared_error: 0.1859 - lr: 6.2500e-05\n",
            "Epoch 63/200\n",
            "4/4 [==============================] - 1s 334ms/step - loss: 0.0340 - root_mean_squared_error: 0.1844 - val_loss: 0.0346 - val_root_mean_squared_error: 0.1859 - lr: 6.2500e-05\n",
            "Epoch 64/200\n",
            "4/4 [==============================] - 1s 333ms/step - loss: 0.0340 - root_mean_squared_error: 0.1843 - val_loss: 0.0346 - val_root_mean_squared_error: 0.1859 - lr: 6.2500e-05\n",
            "Epoch 65/200\n",
            "4/4 [==============================] - 1s 308ms/step - loss: 0.0340 - root_mean_squared_error: 0.1843 - val_loss: 0.0346 - val_root_mean_squared_error: 0.1859 - lr: 6.2500e-05\n",
            "Epoch 66/200\n",
            "4/4 [==============================] - 1s 311ms/step - loss: 0.0340 - root_mean_squared_error: 0.1844 - val_loss: 0.0346 - val_root_mean_squared_error: 0.1859 - lr: 6.2500e-05\n",
            "Epoch 67/200\n",
            "4/4 [==============================] - 1s 406ms/step - loss: 0.0340 - root_mean_squared_error: 0.1844 - val_loss: 0.0346 - val_root_mean_squared_error: 0.1859 - lr: 6.2500e-05\n",
            "Epoch 68/200\n",
            "4/4 [==============================] - 1s 403ms/step - loss: 0.0340 - root_mean_squared_error: 0.1844 - val_loss: 0.0346 - val_root_mean_squared_error: 0.1859 - lr: 6.2500e-05\n",
            "Epoch 69/200\n",
            "4/4 [==============================] - 1s 332ms/step - loss: 0.0340 - root_mean_squared_error: 0.1844 - val_loss: 0.0346 - val_root_mean_squared_error: 0.1859 - lr: 6.2500e-05\n",
            "Epoch 70/200\n",
            "4/4 [==============================] - 1s 343ms/step - loss: 0.0340 - root_mean_squared_error: 0.1843 - val_loss: 0.0346 - val_root_mean_squared_error: 0.1859 - lr: 6.2500e-05\n",
            "Epoch 71/200\n",
            "4/4 [==============================] - 1s 312ms/step - loss: 0.0340 - root_mean_squared_error: 0.1843 - val_loss: 0.0346 - val_root_mean_squared_error: 0.1859 - lr: 6.2500e-05\n",
            "Epoch 72/200\n",
            "4/4 [==============================] - 1s 306ms/step - loss: 0.0340 - root_mean_squared_error: 0.1844 - val_loss: 0.0346 - val_root_mean_squared_error: 0.1859 - lr: 3.1250e-05\n",
            "Epoch 73/200\n",
            "4/4 [==============================] - 1s 300ms/step - loss: 0.0340 - root_mean_squared_error: 0.1844 - val_loss: 0.0346 - val_root_mean_squared_error: 0.1859 - lr: 3.1250e-05\n",
            "Epoch 74/200\n",
            "4/4 [==============================] - 1s 300ms/step - loss: 0.0340 - root_mean_squared_error: 0.1844 - val_loss: 0.0346 - val_root_mean_squared_error: 0.1859 - lr: 3.1250e-05\n",
            "Epoch 75/200\n",
            "4/4 [==============================] - 1s 301ms/step - loss: 0.0340 - root_mean_squared_error: 0.1844 - val_loss: 0.0346 - val_root_mean_squared_error: 0.1859 - lr: 3.1250e-05\n",
            "Epoch 76/200\n",
            "4/4 [==============================] - 1s 312ms/step - loss: 0.0340 - root_mean_squared_error: 0.1844 - val_loss: 0.0346 - val_root_mean_squared_error: 0.1859 - lr: 3.1250e-05\n",
            "Epoch 77/200\n",
            "4/4 [==============================] - 1s 296ms/step - loss: 0.0340 - root_mean_squared_error: 0.1844 - val_loss: 0.0346 - val_root_mean_squared_error: 0.1859 - lr: 3.1250e-05\n",
            "Epoch 78/200\n",
            "4/4 [==============================] - 1s 303ms/step - loss: 0.0340 - root_mean_squared_error: 0.1844 - val_loss: 0.0346 - val_root_mean_squared_error: 0.1859 - lr: 3.1250e-05\n",
            "Epoch 79/200\n",
            "4/4 [==============================] - 1s 341ms/step - loss: 0.0340 - root_mean_squared_error: 0.1844 - val_loss: 0.0346 - val_root_mean_squared_error: 0.1859 - lr: 3.1250e-05\n",
            "Epoch 80/200\n",
            "4/4 [==============================] - 2s 547ms/step - loss: 0.0340 - root_mean_squared_error: 0.1844 - val_loss: 0.0346 - val_root_mean_squared_error: 0.1859 - lr: 3.1250e-05\n",
            "Epoch 81/200\n",
            "4/4 [==============================] - 1s 304ms/step - loss: 0.0340 - root_mean_squared_error: 0.1844 - val_loss: 0.0346 - val_root_mean_squared_error: 0.1859 - lr: 3.1250e-05\n",
            "Epoch 82/200\n",
            "4/4 [==============================] - 1s 304ms/step - loss: 0.0340 - root_mean_squared_error: 0.1843 - val_loss: 0.0346 - val_root_mean_squared_error: 0.1859 - lr: 1.5625e-05\n",
            "Epoch 83/200\n",
            "4/4 [==============================] - 1s 308ms/step - loss: 0.0340 - root_mean_squared_error: 0.1844 - val_loss: 0.0346 - val_root_mean_squared_error: 0.1859 - lr: 1.5625e-05\n",
            "Epoch 84/200\n",
            "4/4 [==============================] - 1s 301ms/step - loss: 0.0340 - root_mean_squared_error: 0.1844 - val_loss: 0.0346 - val_root_mean_squared_error: 0.1859 - lr: 1.5625e-05\n",
            "Epoch 85/200\n",
            "4/4 [==============================] - 1s 304ms/step - loss: 0.0340 - root_mean_squared_error: 0.1844 - val_loss: 0.0346 - val_root_mean_squared_error: 0.1859 - lr: 1.5625e-05\n",
            "Epoch 86/200\n",
            "4/4 [==============================] - 1s 304ms/step - loss: 0.0340 - root_mean_squared_error: 0.1843 - val_loss: 0.0346 - val_root_mean_squared_error: 0.1859 - lr: 1.5625e-05\n",
            "Epoch 87/200\n",
            "4/4 [==============================] - 1s 294ms/step - loss: 0.0340 - root_mean_squared_error: 0.1844 - val_loss: 0.0346 - val_root_mean_squared_error: 0.1859 - lr: 1.5625e-05\n",
            "Epoch 88/200\n",
            "4/4 [==============================] - 1s 306ms/step - loss: 0.0340 - root_mean_squared_error: 0.1843 - val_loss: 0.0346 - val_root_mean_squared_error: 0.1859 - lr: 1.5625e-05\n",
            "Epoch 89/200\n",
            "4/4 [==============================] - 1s 299ms/step - loss: 0.0340 - root_mean_squared_error: 0.1844 - val_loss: 0.0346 - val_root_mean_squared_error: 0.1859 - lr: 1.5625e-05\n",
            "Epoch 90/200\n",
            "4/4 [==============================] - 1s 335ms/step - loss: 0.0340 - root_mean_squared_error: 0.1843 - val_loss: 0.0346 - val_root_mean_squared_error: 0.1859 - lr: 1.5625e-05\n",
            "Epoch 90: early stopping\n"
          ]
        }
      ]
    },
    {
      "cell_type": "markdown",
      "source": [
        "# **Testeamos el modelo**"
      ],
      "metadata": {
        "id": "3VjurbTHotw_"
      }
    },
    {
      "cell_type": "code",
      "source": [
        "# testeamos el mejor modelo\n",
        "\n",
        "model = keras.models.load_model('best_model.keras')\n",
        "\n",
        "test_loss, test_acc = model.evaluate((stat_test,dyn_test), target_test)\n",
        "\n",
        "print(f'Test accuracy: {test_acc}')\n",
        "print(f'Test loss: {test_loss}')\n"
      ],
      "metadata": {
        "id": "2ph-TzzVotTg",
        "colab": {
          "base_uri": "https://localhost:8080/"
        },
        "outputId": "7823fce5-36b8-42e4-a636-782833f98a49"
      },
      "execution_count": 8,
      "outputs": [
        {
          "output_type": "stream",
          "name": "stdout",
          "text": [
            "31/31 [==============================] - 1s 28ms/step - loss: 0.0350 - root_mean_squared_error: 0.1871\n",
            "Test accuracy: 0.1871422827243805\n",
            "Test loss: 0.03502223268151283\n"
          ]
        }
      ]
    },
    {
      "cell_type": "code",
      "source": [
        "# visualizamos el entrenamiento\n",
        "\n",
        "metric = 'root_mean_squared_error'\n",
        "\n",
        "plt.figure(figsize=(15,7))\n",
        "\n",
        "plt.plot(history.history[metric])\n",
        "plt.plot(history.history['val_' + metric])\n",
        "\n",
        "plt.title('model ' + metric)\n",
        "plt.ylabel(metric, fontsize='large')\n",
        "plt.xlabel('epoch', fontsize='large')\n",
        "plt.legend(['train', 'val'], loc='best')\n",
        "plt.show()\n",
        "plt.close()\n"
      ],
      "metadata": {
        "id": "mF2ugfJNoy_O",
        "colab": {
          "base_uri": "https://localhost:8080/",
          "height": 645
        },
        "outputId": "d3c21f8d-c4b6-41e7-c9d1-93d9ac59183d"
      },
      "execution_count": 9,
      "outputs": [
        {
          "output_type": "display_data",
          "data": {
            "text/plain": [
              "<Figure size 1500x700 with 1 Axes>"
            ],
            "image/png": "[encoded data removed]"
          },
          "metadata": {}
        }
      ]
    },
    {
      "cell_type": "code",
      "source": [
        "# testeo con otras metricas\n",
        "\n",
        "pred_test=model.predict(x=(stat_test,dyn_test))"
      ],
      "metadata": {
        "colab": {
          "base_uri": "https://localhost:8080/"
        },
        "id": "VaWGQULBzII6",
        "outputId": "ff07ee88-44b9-47b3-900f-4ac47b574ba8"
      },
      "execution_count": 10,
      "outputs": [
        {
          "output_type": "stream",
          "name": "stdout",
          "text": [
            "31/31 [==============================] - 1s 25ms/step\n"
          ]
        }
      ]
    },
    {
      "cell_type": "code",
      "source": [
        "# graficamos\n",
        "ae=target_test-pred_test\n",
        "\n",
        "\n",
        "# Calcular la media y la desviación estándar\n",
        "mean = np.mean(ae)\n",
        "std_dev = np.std(ae)\n",
        "\n",
        "plt.figure(figsize=(15,5))\n",
        "# Crear el histograma\n",
        "plt.hist(ae, bins=20, alpha=0.7, rwidth=0.85,label='Historigram')\n",
        "\n",
        "# Agregar las líneas verticales\n",
        "plt.axvline(mean, color='red', linestyle='dashed', linewidth=2,label='mean')\n",
        "plt.axvline(mean - 2*std_dev, color='green', linestyle='dashed', linewidth=2, label='mean - 2*std')\n",
        "plt.axvline(mean + 2*std_dev, color='green', linestyle='dashed', linewidth=2, label='mean + 2*std')\n",
        "\n",
        "# Configurar las etiquetas y el título\n",
        "plt.xlabel('Errores')\n",
        "plt.ylabel('Frecuencia')\n",
        "plt.title('Distribución del error absoluto')\n",
        "\n",
        "plt.legend(loc='upper left')\n",
        "# Mostrar el gráfico\n",
        "plt.show()\n",
        "print(f'Mean={np.round(mean,2)}')\n",
        "print(f'Mean-2*std={np.round(mean-2*std_dev,2)}')\n",
        "print(f'Mean+2*std={np.round(mean+2*std_dev,2)}')"
      ],
      "metadata": {
        "colab": {
          "base_uri": "https://localhost:8080/",
          "height": 539
        },
        "id": "FQIr-1dmzOkC",
        "outputId": "f0a2e16a-2c8a-4a0b-c2b9-87e20b10817a"
      },
      "execution_count": 11,
      "outputs": [
        {
          "output_type": "display_data",
          "data": {
            "text/plain": [
              "<Figure size 1500x500 with 1 Axes>"
            ],
            "image/png": "[encoded data removed]"
          },
          "metadata": {}
        },
        {
          "output_type": "stream",
          "name": "stdout",
          "text": [
            "Mean=0.01\n",
            "Mean-2*std=-0.36\n",
            "Mean+2*std=0.38\n"
          ]
        }
      ]
    },
    {
      "cell_type": "code",
      "source": [
        "# analicemos los cuantiles del error absoluto de la nota\n",
        "ae=np.absolute(ae)\n",
        "\n",
        "print(f'q10 = {np.round(np.quantile(ae,  0.10)*100,3)}  pts')\n",
        "print(f'q25 = {np.round(np.quantile(ae,  0.25)*100,3)}  pts')\n",
        "print(f'q50 = {np.round(np.quantile(ae,  0.50)*100,3)} pts')\n",
        "print(f'q70 = {np.round(np.quantile(ae,  0.70)*100,3)} pts')\n",
        "print(f'q90 = {np.round(np.quantile(ae,  0.90)*100,3)} pts')"
      ],
      "metadata": {
        "colab": {
          "base_uri": "https://localhost:8080/"
        },
        "id": "Gs_jd1JjKgSk",
        "outputId": "fc6b6db0-745b-4d53-fc4c-550e601003ba"
      },
      "execution_count": 12,
      "outputs": [
        {
          "output_type": "stream",
          "name": "stdout",
          "text": [
            "q10 = 2.958  pts\n",
            "q25 = 5.899  pts\n",
            "q50 = 12.192 pts\n",
            "q70 = 20.904 pts\n",
            "q90 = 32.838 pts\n"
          ]
        }
      ]
    }
  ]
}