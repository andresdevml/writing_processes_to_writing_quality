{
  "nbformat": 4,
  "nbformat_minor": 0,
  "metadata": {
    "colab": {
      "provenance": []
    },
    "kernelspec": {
      "name": "python3",
      "display_name": "Python 3"
    },
    "language_info": {
      "name": "python"
    },
    "accelerator": "TPU"
  },
  "cells": [
    {
      "cell_type": "markdown",
      "source": [
        "# **Importamos librerias**"
      ],
      "metadata": {
        "id": "glLlsmN7OXJh"
      }
    },
    {
      "cell_type": "code",
      "execution_count": 1,
      "metadata": {
        "id": "NhT-k91tNqY0"
      },
      "outputs": [],
      "source": [
        "import tensorflow as tf\n",
        "import keras\n",
        "import numpy as np\n",
        "import pandas as pd\n",
        "import matplotlib.pyplot as plt\n",
        "from google.colab import drive\n",
        "from sklearn.metrics import r2_score"
      ]
    },
    {
      "cell_type": "markdown",
      "source": [
        "# **Activamos la TPU**"
      ],
      "metadata": {
        "id": "A-vNx5jCroRJ"
      }
    },
    {
      "cell_type": "code",
      "source": [
        "resolver = tf.distribute.cluster_resolver.TPUClusterResolver(tpu='')\n",
        "tf.config.experimental_connect_to_cluster(resolver)\n",
        "# This is the TPU initialization code that has to be at the beginning.\n",
        "tf.tpu.experimental.initialize_tpu_system(resolver)\n",
        "print(\"All devices: \", tf.config.list_logical_devices('TPU'))\n",
        "strategy = tf.distribute.TPUStrategy(resolver)\n"
      ],
      "metadata": {
        "colab": {
          "base_uri": "https://localhost:8080/"
        },
        "id": "A9Myym5qrrvM",
        "outputId": "dfaf3765-bd43-4014-99bf-28d6cf341d8e"
      },
      "execution_count": 2,
      "outputs": [
        {
          "output_type": "stream",
          "name": "stdout",
          "text": [
            "All devices:  [LogicalDevice(name='/job:worker/replica:0/task:0/device:TPU:0', device_type='TPU'), LogicalDevice(name='/job:worker/replica:0/task:0/device:TPU:1', device_type='TPU'), LogicalDevice(name='/job:worker/replica:0/task:0/device:TPU:2', device_type='TPU'), LogicalDevice(name='/job:worker/replica:0/task:0/device:TPU:3', device_type='TPU'), LogicalDevice(name='/job:worker/replica:0/task:0/device:TPU:4', device_type='TPU'), LogicalDevice(name='/job:worker/replica:0/task:0/device:TPU:5', device_type='TPU'), LogicalDevice(name='/job:worker/replica:0/task:0/device:TPU:6', device_type='TPU'), LogicalDevice(name='/job:worker/replica:0/task:0/device:TPU:7', device_type='TPU')]\n"
          ]
        }
      ]
    },
    {
      "cell_type": "markdown",
      "source": [
        "# **Importamos la data**"
      ],
      "metadata": {
        "id": "3ejr_5-uO7CG"
      }
    },
    {
      "cell_type": "code",
      "source": [
        "\n",
        "# conectamos al drive\n",
        "drive.mount('/content/drive')\n",
        "\n",
        "# Definimos el directorio\n",
        "dir_data_kaggle='./drive/MyDrive/lwpwq/data'\n",
        "\n",
        "# extraemos la data\n",
        "\n",
        "dyn_train=np.load(dir_data_kaggle+'/dyn_train_data_mb.npy', allow_pickle=True)\n",
        "dyn_test=np.load(dir_data_kaggle+'/dyn_test_data_mb.npy', allow_pickle=True)\n",
        "\n",
        "target_train=np.load(dir_data_kaggle+'/target_train_data_mb.npy', allow_pickle=True)\n",
        "target_test=np.load(dir_data_kaggle+'/target_test_data_mb.npy', allow_pickle=True)\n"
      ],
      "metadata": {
        "id": "-dA8ma1dO6aO",
        "colab": {
          "base_uri": "https://localhost:8080/"
        },
        "outputId": "25b842da-56b1-4d5c-ff22-5d28497dafc5"
      },
      "execution_count": 3,
      "outputs": [
        {
          "output_type": "stream",
          "name": "stdout",
          "text": [
            "Drive already mounted at /content/drive; to attempt to forcibly remount, call drive.mount(\"/content/drive\", force_remount=True).\n"
          ]
        }
      ]
    },
    {
      "cell_type": "markdown",
      "source": [
        "# **Acomodamos la data**"
      ],
      "metadata": {
        "id": "nEuK5vkIaB3R"
      }
    },
    {
      "cell_type": "code",
      "source": [
        "# escalamos la data\n",
        "\n",
        "target_train=(target_train-0.5)/5.5\n",
        "\n",
        "target_test=(target_test-0.5)/5.5"
      ],
      "metadata": {
        "id": "wJkP69IoaGna"
      },
      "execution_count": 4,
      "outputs": []
    },
    {
      "cell_type": "markdown",
      "source": [
        "# **Construimos el modelo**"
      ],
      "metadata": {
        "id": "8n5m_IGnWBEi"
      }
    },
    {
      "cell_type": "code",
      "source": [
        "input_shape=dyn_train.shape[1:]\n",
        "\n",
        "with strategy.scope():\n",
        "\n",
        "  model = tf.keras.Sequential([\n",
        "\n",
        "  keras.layers.Input(input_shape),\n",
        "\n",
        "  keras.layers.Masking(mask_value=-1),\n",
        "\n",
        "  keras.layers.Conv1D(filters=64, kernel_size=8, padding='same'),\n",
        "  keras.layers.BatchNormalization(),\n",
        "  keras.layers.ReLU(),\n",
        "\n",
        "  keras.layers.Conv1D(filters=64, kernel_size=8, padding='same'),\n",
        "  keras.layers.BatchNormalization(),\n",
        "  keras.layers.ReLU(),\n",
        "\n",
        "  keras.layers.GlobalAveragePooling1D(),\n",
        "\n",
        "  keras.layers.Dense(units=8, activation='sigmoid'),\n",
        "\n",
        "  keras.layers.Dense(units=8, activation='sigmoid'),\n",
        "\n",
        "  keras.layers.Dense(units=1, activation='sigmoid')\n",
        "\n",
        "                                                                ])\n",
        "\n",
        "  model.compile(\n",
        "    optimizer='rmsprop',\n",
        "    loss=keras.losses.MeanSquaredError(),\n",
        "    metrics=[keras.metrics.RootMeanSquaredError()],\n",
        "  )\n"
      ],
      "metadata": {
        "id": "hNYv3YX4WKSJ"
      },
      "execution_count": 5,
      "outputs": []
    },
    {
      "cell_type": "code",
      "source": [
        "# definimos algunos parametros de entrenamiento\n",
        "\n",
        "epochs = 500\n",
        "batch_size = 320\n",
        "\n",
        "callbacks = [\n",
        "    keras.callbacks.ModelCheckpoint(\n",
        "        'best_model.keras', save_best_only=True, monitor='val_loss'),\n",
        "\n",
        "    keras.callbacks.ReduceLROnPlateau(\n",
        "        monitor='val_loss', factor=0.5, patience=10, min_lr=10e-8),\n",
        "\n",
        "    keras.callbacks.EarlyStopping(monitor='val_loss', patience=20, verbose=1),\n",
        "]\n"
      ],
      "metadata": {
        "id": "2FialyiZobIW"
      },
      "execution_count": 6,
      "outputs": []
    },
    {
      "cell_type": "code",
      "source": [
        "\n",
        "# entrenamos\n",
        "\n",
        "history = model.fit(\n",
        "    dyn_train,\n",
        "    target_train,\n",
        "    batch_size=batch_size,\n",
        "    epochs=epochs,\n",
        "    validation_split=0.2,\n",
        "    callbacks=callbacks,\n",
        "    verbose=1,\n",
        ")"
      ],
      "metadata": {
        "id": "GtMa72eXoege",
        "colab": {
          "base_uri": "https://localhost:8080/"
        },
        "outputId": "45570f62-ec94-40ce-85cd-a07a662b201e"
      },
      "execution_count": 7,
      "outputs": [
        {
          "output_type": "stream",
          "name": "stdout",
          "text": [
            "Epoch 1/500\n",
            "4/4 [==============================] - 7s 1s/step - loss: 0.0417 - root_mean_squared_error: 0.2042 - val_loss: 0.0434 - val_root_mean_squared_error: 0.2083 - lr: 0.0010\n",
            "Epoch 2/500\n",
            "4/4 [==============================] - 1s 369ms/step - loss: 0.0387 - root_mean_squared_error: 0.1968 - val_loss: 0.0415 - val_root_mean_squared_error: 0.2038 - lr: 0.0010\n",
            "Epoch 3/500\n",
            "4/4 [==============================] - 1s 381ms/step - loss: 0.0372 - root_mean_squared_error: 0.1930 - val_loss: 0.0402 - val_root_mean_squared_error: 0.2004 - lr: 0.0010\n",
            "Epoch 4/500\n",
            "4/4 [==============================] - 2s 561ms/step - loss: 0.0363 - root_mean_squared_error: 0.1906 - val_loss: 0.0392 - val_root_mean_squared_error: 0.1979 - lr: 0.0010\n",
            "Epoch 5/500\n",
            "4/4 [==============================] - 1s 455ms/step - loss: 0.0356 - root_mean_squared_error: 0.1888 - val_loss: 0.0384 - val_root_mean_squared_error: 0.1959 - lr: 0.0010\n",
            "Epoch 6/500\n",
            "4/4 [==============================] - 1s 386ms/step - loss: 0.0352 - root_mean_squared_error: 0.1876 - val_loss: 0.0377 - val_root_mean_squared_error: 0.1942 - lr: 0.0010\n",
            "Epoch 7/500\n",
            "4/4 [==============================] - 1s 375ms/step - loss: 0.0348 - root_mean_squared_error: 0.1866 - val_loss: 0.0371 - val_root_mean_squared_error: 0.1927 - lr: 0.0010\n",
            "Epoch 8/500\n",
            "4/4 [==============================] - 1s 388ms/step - loss: 0.0345 - root_mean_squared_error: 0.1858 - val_loss: 0.0366 - val_root_mean_squared_error: 0.1914 - lr: 0.0010\n",
            "Epoch 9/500\n",
            "4/4 [==============================] - 1s 381ms/step - loss: 0.0343 - root_mean_squared_error: 0.1853 - val_loss: 0.0362 - val_root_mean_squared_error: 0.1903 - lr: 0.0010\n",
            "Epoch 10/500\n",
            "4/4 [==============================] - 1s 393ms/step - loss: 0.0342 - root_mean_squared_error: 0.1849 - val_loss: 0.0360 - val_root_mean_squared_error: 0.1896 - lr: 0.0010\n",
            "Epoch 11/500\n",
            "4/4 [==============================] - 1s 376ms/step - loss: 0.0341 - root_mean_squared_error: 0.1847 - val_loss: 0.0358 - val_root_mean_squared_error: 0.1891 - lr: 0.0010\n",
            "Epoch 12/500\n",
            "4/4 [==============================] - 1s 370ms/step - loss: 0.0341 - root_mean_squared_error: 0.1846 - val_loss: 0.0356 - val_root_mean_squared_error: 0.1887 - lr: 0.0010\n",
            "Epoch 13/500\n",
            "4/4 [==============================] - 1s 413ms/step - loss: 0.0341 - root_mean_squared_error: 0.1846 - val_loss: 0.0355 - val_root_mean_squared_error: 0.1883 - lr: 0.0010\n",
            "Epoch 14/500\n",
            "4/4 [==============================] - 1s 433ms/step - loss: 0.0341 - root_mean_squared_error: 0.1846 - val_loss: 0.0355 - val_root_mean_squared_error: 0.1883 - lr: 0.0010\n",
            "Epoch 15/500\n",
            "4/4 [==============================] - 1s 442ms/step - loss: 0.0341 - root_mean_squared_error: 0.1846 - val_loss: 0.0354 - val_root_mean_squared_error: 0.1880 - lr: 0.0010\n",
            "Epoch 16/500\n",
            "4/4 [==============================] - 2s 602ms/step - loss: 0.0341 - root_mean_squared_error: 0.1845 - val_loss: 0.0354 - val_root_mean_squared_error: 0.1881 - lr: 0.0010\n",
            "Epoch 17/500\n",
            "4/4 [==============================] - 2s 779ms/step - loss: 0.0341 - root_mean_squared_error: 0.1846 - val_loss: 0.0354 - val_root_mean_squared_error: 0.1881 - lr: 0.0010\n",
            "Epoch 18/500\n",
            "4/4 [==============================] - 2s 784ms/step - loss: 0.0341 - root_mean_squared_error: 0.1846 - val_loss: 0.0354 - val_root_mean_squared_error: 0.1882 - lr: 0.0010\n",
            "Epoch 19/500\n",
            "4/4 [==============================] - 2s 678ms/step - loss: 0.0340 - root_mean_squared_error: 0.1845 - val_loss: 0.0354 - val_root_mean_squared_error: 0.1880 - lr: 0.0010\n",
            "Epoch 20/500\n",
            "4/4 [==============================] - 1s 382ms/step - loss: 0.0340 - root_mean_squared_error: 0.1845 - val_loss: 0.0354 - val_root_mean_squared_error: 0.1881 - lr: 0.0010\n",
            "Epoch 21/500\n",
            "4/4 [==============================] - 1s 474ms/step - loss: 0.0340 - root_mean_squared_error: 0.1845 - val_loss: 0.0352 - val_root_mean_squared_error: 0.1877 - lr: 0.0010\n",
            "Epoch 22/500\n",
            "4/4 [==============================] - 1s 401ms/step - loss: 0.0340 - root_mean_squared_error: 0.1845 - val_loss: 0.0352 - val_root_mean_squared_error: 0.1877 - lr: 0.0010\n",
            "Epoch 23/500\n",
            "4/4 [==============================] - 1s 393ms/step - loss: 0.0340 - root_mean_squared_error: 0.1844 - val_loss: 0.0352 - val_root_mean_squared_error: 0.1876 - lr: 0.0010\n",
            "Epoch 24/500\n",
            "4/4 [==============================] - 1s 363ms/step - loss: 0.0341 - root_mean_squared_error: 0.1845 - val_loss: 0.0351 - val_root_mean_squared_error: 0.1873 - lr: 0.0010\n",
            "Epoch 25/500\n",
            "4/4 [==============================] - 2s 572ms/step - loss: 0.0340 - root_mean_squared_error: 0.1845 - val_loss: 0.0352 - val_root_mean_squared_error: 0.1876 - lr: 0.0010\n",
            "Epoch 26/500\n",
            "4/4 [==============================] - 1s 310ms/step - loss: 0.0340 - root_mean_squared_error: 0.1845 - val_loss: 0.0353 - val_root_mean_squared_error: 0.1878 - lr: 0.0010\n",
            "Epoch 27/500\n",
            "4/4 [==============================] - 1s 312ms/step - loss: 0.0340 - root_mean_squared_error: 0.1845 - val_loss: 0.0352 - val_root_mean_squared_error: 0.1877 - lr: 0.0010\n",
            "Epoch 28/500\n",
            "4/4 [==============================] - 1s 325ms/step - loss: 0.0340 - root_mean_squared_error: 0.1845 - val_loss: 0.0351 - val_root_mean_squared_error: 0.1875 - lr: 0.0010\n",
            "Epoch 29/500\n",
            "4/4 [==============================] - 1s 316ms/step - loss: 0.0340 - root_mean_squared_error: 0.1845 - val_loss: 0.0352 - val_root_mean_squared_error: 0.1877 - lr: 0.0010\n",
            "Epoch 30/500\n",
            "4/4 [==============================] - 1s 406ms/step - loss: 0.0340 - root_mean_squared_error: 0.1844 - val_loss: 0.0352 - val_root_mean_squared_error: 0.1877 - lr: 0.0010\n",
            "Epoch 31/500\n",
            "4/4 [==============================] - 1s 384ms/step - loss: 0.0340 - root_mean_squared_error: 0.1845 - val_loss: 0.0352 - val_root_mean_squared_error: 0.1876 - lr: 0.0010\n",
            "Epoch 32/500\n",
            "4/4 [==============================] - 1s 347ms/step - loss: 0.0340 - root_mean_squared_error: 0.1845 - val_loss: 0.0352 - val_root_mean_squared_error: 0.1877 - lr: 0.0010\n",
            "Epoch 33/500\n",
            "4/4 [==============================] - 1s 312ms/step - loss: 0.0340 - root_mean_squared_error: 0.1844 - val_loss: 0.0352 - val_root_mean_squared_error: 0.1876 - lr: 0.0010\n",
            "Epoch 34/500\n",
            "4/4 [==============================] - 1s 326ms/step - loss: 0.0341 - root_mean_squared_error: 0.1846 - val_loss: 0.0352 - val_root_mean_squared_error: 0.1876 - lr: 0.0010\n",
            "Epoch 35/500\n",
            "4/4 [==============================] - 1s 319ms/step - loss: 0.0340 - root_mean_squared_error: 0.1844 - val_loss: 0.0352 - val_root_mean_squared_error: 0.1876 - lr: 5.0000e-04\n",
            "Epoch 36/500\n",
            "4/4 [==============================] - 1s 342ms/step - loss: 0.0340 - root_mean_squared_error: 0.1844 - val_loss: 0.0352 - val_root_mean_squared_error: 0.1875 - lr: 5.0000e-04\n",
            "Epoch 37/500\n",
            "4/4 [==============================] - 1s 338ms/step - loss: 0.0340 - root_mean_squared_error: 0.1844 - val_loss: 0.0352 - val_root_mean_squared_error: 0.1876 - lr: 5.0000e-04\n",
            "Epoch 38/500\n",
            "4/4 [==============================] - 1s 340ms/step - loss: 0.0340 - root_mean_squared_error: 0.1844 - val_loss: 0.0352 - val_root_mean_squared_error: 0.1875 - lr: 5.0000e-04\n",
            "Epoch 39/500\n",
            "4/4 [==============================] - 1s 324ms/step - loss: 0.0340 - root_mean_squared_error: 0.1844 - val_loss: 0.0351 - val_root_mean_squared_error: 0.1875 - lr: 5.0000e-04\n",
            "Epoch 40/500\n",
            "4/4 [==============================] - 1s 347ms/step - loss: 0.0340 - root_mean_squared_error: 0.1844 - val_loss: 0.0351 - val_root_mean_squared_error: 0.1874 - lr: 5.0000e-04\n",
            "Epoch 41/500\n",
            "4/4 [==============================] - 1s 377ms/step - loss: 0.0340 - root_mean_squared_error: 0.1844 - val_loss: 0.0351 - val_root_mean_squared_error: 0.1874 - lr: 5.0000e-04\n",
            "Epoch 42/500\n",
            "4/4 [==============================] - 1s 407ms/step - loss: 0.0340 - root_mean_squared_error: 0.1845 - val_loss: 0.0351 - val_root_mean_squared_error: 0.1873 - lr: 5.0000e-04\n",
            "Epoch 43/500\n",
            "4/4 [==============================] - 2s 605ms/step - loss: 0.0340 - root_mean_squared_error: 0.1844 - val_loss: 0.0351 - val_root_mean_squared_error: 0.1873 - lr: 5.0000e-04\n",
            "Epoch 44/500\n",
            "4/4 [==============================] - 1s 367ms/step - loss: 0.0340 - root_mean_squared_error: 0.1844 - val_loss: 0.0351 - val_root_mean_squared_error: 0.1873 - lr: 5.0000e-04\n",
            "Epoch 45/500\n",
            "4/4 [==============================] - 1s 371ms/step - loss: 0.0340 - root_mean_squared_error: 0.1844 - val_loss: 0.0351 - val_root_mean_squared_error: 0.1872 - lr: 2.5000e-04\n",
            "Epoch 46/500\n",
            "4/4 [==============================] - 1s 369ms/step - loss: 0.0340 - root_mean_squared_error: 0.1844 - val_loss: 0.0351 - val_root_mean_squared_error: 0.1872 - lr: 2.5000e-04\n",
            "Epoch 47/500\n",
            "4/4 [==============================] - 1s 375ms/step - loss: 0.0340 - root_mean_squared_error: 0.1844 - val_loss: 0.0350 - val_root_mean_squared_error: 0.1872 - lr: 2.5000e-04\n",
            "Epoch 48/500\n",
            "4/4 [==============================] - 1s 377ms/step - loss: 0.0340 - root_mean_squared_error: 0.1844 - val_loss: 0.0350 - val_root_mean_squared_error: 0.1872 - lr: 2.5000e-04\n",
            "Epoch 49/500\n",
            "4/4 [==============================] - 1s 378ms/step - loss: 0.0340 - root_mean_squared_error: 0.1844 - val_loss: 0.0350 - val_root_mean_squared_error: 0.1871 - lr: 2.5000e-04\n",
            "Epoch 50/500\n",
            "4/4 [==============================] - 1s 377ms/step - loss: 0.0340 - root_mean_squared_error: 0.1844 - val_loss: 0.0350 - val_root_mean_squared_error: 0.1871 - lr: 2.5000e-04\n",
            "Epoch 51/500\n",
            "4/4 [==============================] - 1s 457ms/step - loss: 0.0340 - root_mean_squared_error: 0.1844 - val_loss: 0.0350 - val_root_mean_squared_error: 0.1870 - lr: 2.5000e-04\n",
            "Epoch 52/500\n",
            "4/4 [==============================] - 1s 428ms/step - loss: 0.0340 - root_mean_squared_error: 0.1844 - val_loss: 0.0350 - val_root_mean_squared_error: 0.1870 - lr: 2.5000e-04\n",
            "Epoch 53/500\n",
            "4/4 [==============================] - 1s 328ms/step - loss: 0.0340 - root_mean_squared_error: 0.1844 - val_loss: 0.0350 - val_root_mean_squared_error: 0.1870 - lr: 2.5000e-04\n",
            "Epoch 54/500\n",
            "4/4 [==============================] - 1s 346ms/step - loss: 0.0340 - root_mean_squared_error: 0.1844 - val_loss: 0.0350 - val_root_mean_squared_error: 0.1870 - lr: 2.5000e-04\n",
            "Epoch 55/500\n",
            "4/4 [==============================] - 1s 324ms/step - loss: 0.0340 - root_mean_squared_error: 0.1844 - val_loss: 0.0350 - val_root_mean_squared_error: 0.1870 - lr: 2.5000e-04\n",
            "Epoch 56/500\n",
            "4/4 [==============================] - 1s 361ms/step - loss: 0.0340 - root_mean_squared_error: 0.1844 - val_loss: 0.0350 - val_root_mean_squared_error: 0.1870 - lr: 2.5000e-04\n",
            "Epoch 57/500\n",
            "4/4 [==============================] - 1s 355ms/step - loss: 0.0340 - root_mean_squared_error: 0.1844 - val_loss: 0.0349 - val_root_mean_squared_error: 0.1869 - lr: 2.5000e-04\n",
            "Epoch 58/500\n",
            "4/4 [==============================] - 1s 315ms/step - loss: 0.0340 - root_mean_squared_error: 0.1843 - val_loss: 0.0350 - val_root_mean_squared_error: 0.1870 - lr: 2.5000e-04\n",
            "Epoch 59/500\n",
            "4/4 [==============================] - 2s 509ms/step - loss: 0.0340 - root_mean_squared_error: 0.1844 - val_loss: 0.0349 - val_root_mean_squared_error: 0.1869 - lr: 2.5000e-04\n",
            "Epoch 60/500\n",
            "4/4 [==============================] - 1s 380ms/step - loss: 0.0340 - root_mean_squared_error: 0.1844 - val_loss: 0.0349 - val_root_mean_squared_error: 0.1869 - lr: 2.5000e-04\n",
            "Epoch 61/500\n",
            "4/4 [==============================] - 1s 430ms/step - loss: 0.0340 - root_mean_squared_error: 0.1844 - val_loss: 0.0349 - val_root_mean_squared_error: 0.1869 - lr: 1.2500e-04\n",
            "Epoch 62/500\n",
            "4/4 [==============================] - 1s 446ms/step - loss: 0.0340 - root_mean_squared_error: 0.1844 - val_loss: 0.0349 - val_root_mean_squared_error: 0.1869 - lr: 1.2500e-04\n",
            "Epoch 63/500\n",
            "4/4 [==============================] - 2s 546ms/step - loss: 0.0340 - root_mean_squared_error: 0.1844 - val_loss: 0.0349 - val_root_mean_squared_error: 0.1868 - lr: 1.2500e-04\n",
            "Epoch 64/500\n",
            "4/4 [==============================] - 1s 372ms/step - loss: 0.0340 - root_mean_squared_error: 0.1843 - val_loss: 0.0349 - val_root_mean_squared_error: 0.1868 - lr: 1.2500e-04\n",
            "Epoch 65/500\n",
            "4/4 [==============================] - 1s 381ms/step - loss: 0.0340 - root_mean_squared_error: 0.1844 - val_loss: 0.0349 - val_root_mean_squared_error: 0.1868 - lr: 1.2500e-04\n",
            "Epoch 66/500\n",
            "4/4 [==============================] - 1s 372ms/step - loss: 0.0340 - root_mean_squared_error: 0.1844 - val_loss: 0.0349 - val_root_mean_squared_error: 0.1868 - lr: 1.2500e-04\n",
            "Epoch 67/500\n",
            "4/4 [==============================] - 1s 380ms/step - loss: 0.0340 - root_mean_squared_error: 0.1844 - val_loss: 0.0349 - val_root_mean_squared_error: 0.1868 - lr: 1.2500e-04\n",
            "Epoch 68/500\n",
            "4/4 [==============================] - 1s 372ms/step - loss: 0.0340 - root_mean_squared_error: 0.1844 - val_loss: 0.0349 - val_root_mean_squared_error: 0.1867 - lr: 1.2500e-04\n",
            "Epoch 69/500\n",
            "4/4 [==============================] - 1s 384ms/step - loss: 0.0340 - root_mean_squared_error: 0.1843 - val_loss: 0.0349 - val_root_mean_squared_error: 0.1867 - lr: 1.2500e-04\n",
            "Epoch 70/500\n",
            "4/4 [==============================] - 1s 324ms/step - loss: 0.0340 - root_mean_squared_error: 0.1843 - val_loss: 0.0349 - val_root_mean_squared_error: 0.1867 - lr: 1.2500e-04\n",
            "Epoch 71/500\n",
            "4/4 [==============================] - 1s 425ms/step - loss: 0.0340 - root_mean_squared_error: 0.1843 - val_loss: 0.0349 - val_root_mean_squared_error: 0.1867 - lr: 1.2500e-04\n",
            "Epoch 72/500\n",
            "4/4 [==============================] - 1s 401ms/step - loss: 0.0340 - root_mean_squared_error: 0.1844 - val_loss: 0.0349 - val_root_mean_squared_error: 0.1867 - lr: 1.2500e-04\n",
            "Epoch 73/500\n",
            "4/4 [==============================] - 1s 406ms/step - loss: 0.0340 - root_mean_squared_error: 0.1844 - val_loss: 0.0349 - val_root_mean_squared_error: 0.1867 - lr: 1.2500e-04\n",
            "Epoch 74/500\n",
            "4/4 [==============================] - 1s 412ms/step - loss: 0.0340 - root_mean_squared_error: 0.1844 - val_loss: 0.0348 - val_root_mean_squared_error: 0.1867 - lr: 1.2500e-04\n",
            "Epoch 75/500\n",
            "4/4 [==============================] - 1s 394ms/step - loss: 0.0340 - root_mean_squared_error: 0.1843 - val_loss: 0.0348 - val_root_mean_squared_error: 0.1867 - lr: 1.2500e-04\n",
            "Epoch 76/500\n",
            "4/4 [==============================] - 1s 397ms/step - loss: 0.0340 - root_mean_squared_error: 0.1844 - val_loss: 0.0348 - val_root_mean_squared_error: 0.1866 - lr: 6.2500e-05\n",
            "Epoch 77/500\n",
            "4/4 [==============================] - 1s 418ms/step - loss: 0.0340 - root_mean_squared_error: 0.1844 - val_loss: 0.0348 - val_root_mean_squared_error: 0.1866 - lr: 6.2500e-05\n",
            "Epoch 78/500\n",
            "4/4 [==============================] - 1s 391ms/step - loss: 0.0340 - root_mean_squared_error: 0.1844 - val_loss: 0.0348 - val_root_mean_squared_error: 0.1866 - lr: 6.2500e-05\n",
            "Epoch 79/500\n",
            "4/4 [==============================] - 1s 384ms/step - loss: 0.0340 - root_mean_squared_error: 0.1844 - val_loss: 0.0348 - val_root_mean_squared_error: 0.1866 - lr: 6.2500e-05\n",
            "Epoch 80/500\n",
            "4/4 [==============================] - 1s 420ms/step - loss: 0.0340 - root_mean_squared_error: 0.1844 - val_loss: 0.0348 - val_root_mean_squared_error: 0.1866 - lr: 6.2500e-05\n",
            "Epoch 81/500\n",
            "4/4 [==============================] - 1s 439ms/step - loss: 0.0340 - root_mean_squared_error: 0.1844 - val_loss: 0.0348 - val_root_mean_squared_error: 0.1866 - lr: 6.2500e-05\n",
            "Epoch 82/500\n",
            "4/4 [==============================] - 1s 420ms/step - loss: 0.0340 - root_mean_squared_error: 0.1844 - val_loss: 0.0348 - val_root_mean_squared_error: 0.1866 - lr: 6.2500e-05\n",
            "Epoch 83/500\n",
            "4/4 [==============================] - 1s 342ms/step - loss: 0.0340 - root_mean_squared_error: 0.1843 - val_loss: 0.0348 - val_root_mean_squared_error: 0.1866 - lr: 6.2500e-05\n",
            "Epoch 84/500\n",
            "4/4 [==============================] - 1s 388ms/step - loss: 0.0340 - root_mean_squared_error: 0.1844 - val_loss: 0.0348 - val_root_mean_squared_error: 0.1866 - lr: 6.2500e-05\n",
            "Epoch 85/500\n",
            "4/4 [==============================] - 1s 392ms/step - loss: 0.0340 - root_mean_squared_error: 0.1844 - val_loss: 0.0348 - val_root_mean_squared_error: 0.1866 - lr: 6.2500e-05\n",
            "Epoch 86/500\n",
            "4/4 [==============================] - 2s 518ms/step - loss: 0.0340 - root_mean_squared_error: 0.1843 - val_loss: 0.0348 - val_root_mean_squared_error: 0.1866 - lr: 3.1250e-05\n",
            "Epoch 87/500\n",
            "4/4 [==============================] - 1s 384ms/step - loss: 0.0340 - root_mean_squared_error: 0.1844 - val_loss: 0.0348 - val_root_mean_squared_error: 0.1865 - lr: 3.1250e-05\n",
            "Epoch 88/500\n",
            "4/4 [==============================] - 1s 387ms/step - loss: 0.0340 - root_mean_squared_error: 0.1844 - val_loss: 0.0348 - val_root_mean_squared_error: 0.1865 - lr: 3.1250e-05\n",
            "Epoch 89/500\n",
            "4/4 [==============================] - 1s 399ms/step - loss: 0.0340 - root_mean_squared_error: 0.1843 - val_loss: 0.0348 - val_root_mean_squared_error: 0.1865 - lr: 3.1250e-05\n",
            "Epoch 90/500\n",
            "4/4 [==============================] - 1s 449ms/step - loss: 0.0340 - root_mean_squared_error: 0.1844 - val_loss: 0.0348 - val_root_mean_squared_error: 0.1865 - lr: 3.1250e-05\n",
            "Epoch 91/500\n",
            "4/4 [==============================] - 1s 476ms/step - loss: 0.0340 - root_mean_squared_error: 0.1844 - val_loss: 0.0348 - val_root_mean_squared_error: 0.1865 - lr: 3.1250e-05\n",
            "Epoch 92/500\n",
            "4/4 [==============================] - 1s 394ms/step - loss: 0.0340 - root_mean_squared_error: 0.1844 - val_loss: 0.0348 - val_root_mean_squared_error: 0.1865 - lr: 3.1250e-05\n",
            "Epoch 93/500\n",
            "4/4 [==============================] - 1s 392ms/step - loss: 0.0340 - root_mean_squared_error: 0.1844 - val_loss: 0.0348 - val_root_mean_squared_error: 0.1865 - lr: 3.1250e-05\n",
            "Epoch 94/500\n",
            "4/4 [==============================] - 1s 372ms/step - loss: 0.0340 - root_mean_squared_error: 0.1844 - val_loss: 0.0348 - val_root_mean_squared_error: 0.1865 - lr: 3.1250e-05\n",
            "Epoch 95/500\n",
            "4/4 [==============================] - 1s 386ms/step - loss: 0.0340 - root_mean_squared_error: 0.1844 - val_loss: 0.0348 - val_root_mean_squared_error: 0.1865 - lr: 3.1250e-05\n",
            "Epoch 96/500\n",
            "4/4 [==============================] - 2s 666ms/step - loss: 0.0340 - root_mean_squared_error: 0.1844 - val_loss: 0.0348 - val_root_mean_squared_error: 0.1865 - lr: 3.1250e-05\n",
            "Epoch 97/500\n",
            "4/4 [==============================] - 1s 374ms/step - loss: 0.0340 - root_mean_squared_error: 0.1844 - val_loss: 0.0348 - val_root_mean_squared_error: 0.1865 - lr: 3.1250e-05\n",
            "Epoch 98/500\n",
            "4/4 [==============================] - 1s 403ms/step - loss: 0.0340 - root_mean_squared_error: 0.1844 - val_loss: 0.0348 - val_root_mean_squared_error: 0.1865 - lr: 3.1250e-05\n",
            "Epoch 99/500\n",
            "4/4 [==============================] - 1s 450ms/step - loss: 0.0340 - root_mean_squared_error: 0.1844 - val_loss: 0.0348 - val_root_mean_squared_error: 0.1864 - lr: 3.1250e-05\n",
            "Epoch 100/500\n",
            "4/4 [==============================] - 1s 466ms/step - loss: 0.0340 - root_mean_squared_error: 0.1843 - val_loss: 0.0348 - val_root_mean_squared_error: 0.1864 - lr: 1.5625e-05\n",
            "Epoch 101/500\n",
            "4/4 [==============================] - 1s 375ms/step - loss: 0.0340 - root_mean_squared_error: 0.1844 - val_loss: 0.0348 - val_root_mean_squared_error: 0.1864 - lr: 1.5625e-05\n",
            "Epoch 102/500\n",
            "4/4 [==============================] - 1s 380ms/step - loss: 0.0340 - root_mean_squared_error: 0.1844 - val_loss: 0.0348 - val_root_mean_squared_error: 0.1864 - lr: 1.5625e-05\n",
            "Epoch 103/500\n",
            "4/4 [==============================] - 1s 382ms/step - loss: 0.0340 - root_mean_squared_error: 0.1844 - val_loss: 0.0348 - val_root_mean_squared_error: 0.1864 - lr: 1.5625e-05\n",
            "Epoch 104/500\n",
            "4/4 [==============================] - 1s 371ms/step - loss: 0.0340 - root_mean_squared_error: 0.1843 - val_loss: 0.0348 - val_root_mean_squared_error: 0.1864 - lr: 1.5625e-05\n",
            "Epoch 105/500\n",
            "4/4 [==============================] - 1s 374ms/step - loss: 0.0340 - root_mean_squared_error: 0.1844 - val_loss: 0.0347 - val_root_mean_squared_error: 0.1864 - lr: 1.5625e-05\n",
            "Epoch 106/500\n",
            "4/4 [==============================] - 1s 333ms/step - loss: 0.0340 - root_mean_squared_error: 0.1844 - val_loss: 0.0348 - val_root_mean_squared_error: 0.1864 - lr: 1.5625e-05\n",
            "Epoch 107/500\n",
            "4/4 [==============================] - 2s 531ms/step - loss: 0.0340 - root_mean_squared_error: 0.1844 - val_loss: 0.0347 - val_root_mean_squared_error: 0.1864 - lr: 1.5625e-05\n",
            "Epoch 108/500\n",
            "4/4 [==============================] - 1s 410ms/step - loss: 0.0340 - root_mean_squared_error: 0.1844 - val_loss: 0.0347 - val_root_mean_squared_error: 0.1864 - lr: 1.5625e-05\n",
            "Epoch 109/500\n",
            "4/4 [==============================] - 2s 489ms/step - loss: 0.0340 - root_mean_squared_error: 0.1843 - val_loss: 0.0347 - val_root_mean_squared_error: 0.1864 - lr: 1.5625e-05\n",
            "Epoch 110/500\n",
            "4/4 [==============================] - 1s 363ms/step - loss: 0.0340 - root_mean_squared_error: 0.1843 - val_loss: 0.0347 - val_root_mean_squared_error: 0.1864 - lr: 7.8125e-06\n",
            "Epoch 111/500\n",
            "4/4 [==============================] - 1s 324ms/step - loss: 0.0340 - root_mean_squared_error: 0.1844 - val_loss: 0.0347 - val_root_mean_squared_error: 0.1864 - lr: 7.8125e-06\n",
            "Epoch 112/500\n",
            "4/4 [==============================] - 1s 383ms/step - loss: 0.0340 - root_mean_squared_error: 0.1844 - val_loss: 0.0347 - val_root_mean_squared_error: 0.1864 - lr: 7.8125e-06\n",
            "Epoch 113/500\n",
            "4/4 [==============================] - 1s 397ms/step - loss: 0.0340 - root_mean_squared_error: 0.1844 - val_loss: 0.0347 - val_root_mean_squared_error: 0.1864 - lr: 7.8125e-06\n",
            "Epoch 114/500\n",
            "4/4 [==============================] - 1s 388ms/step - loss: 0.0340 - root_mean_squared_error: 0.1844 - val_loss: 0.0347 - val_root_mean_squared_error: 0.1864 - lr: 7.8125e-06\n",
            "Epoch 115/500\n",
            "4/4 [==============================] - 1s 332ms/step - loss: 0.0340 - root_mean_squared_error: 0.1844 - val_loss: 0.0347 - val_root_mean_squared_error: 0.1864 - lr: 7.8125e-06\n",
            "Epoch 116/500\n",
            "4/4 [==============================] - 1s 384ms/step - loss: 0.0340 - root_mean_squared_error: 0.1844 - val_loss: 0.0347 - val_root_mean_squared_error: 0.1864 - lr: 7.8125e-06\n",
            "Epoch 117/500\n",
            "4/4 [==============================] - 1s 393ms/step - loss: 0.0340 - root_mean_squared_error: 0.1844 - val_loss: 0.0347 - val_root_mean_squared_error: 0.1864 - lr: 7.8125e-06\n",
            "Epoch 118/500\n",
            "4/4 [==============================] - 1s 420ms/step - loss: 0.0340 - root_mean_squared_error: 0.1844 - val_loss: 0.0347 - val_root_mean_squared_error: 0.1864 - lr: 7.8125e-06\n",
            "Epoch 119/500\n",
            "4/4 [==============================] - 1s 433ms/step - loss: 0.0340 - root_mean_squared_error: 0.1844 - val_loss: 0.0347 - val_root_mean_squared_error: 0.1864 - lr: 7.8125e-06\n",
            "Epoch 120/500\n",
            "4/4 [==============================] - 1s 442ms/step - loss: 0.0340 - root_mean_squared_error: 0.1843 - val_loss: 0.0347 - val_root_mean_squared_error: 0.1864 - lr: 3.9063e-06\n",
            "Epoch 121/500\n",
            "4/4 [==============================] - 1s 397ms/step - loss: 0.0340 - root_mean_squared_error: 0.1844 - val_loss: 0.0347 - val_root_mean_squared_error: 0.1863 - lr: 3.9063e-06\n",
            "Epoch 122/500\n",
            "4/4 [==============================] - 1s 324ms/step - loss: 0.0340 - root_mean_squared_error: 0.1843 - val_loss: 0.0347 - val_root_mean_squared_error: 0.1864 - lr: 3.9063e-06\n",
            "Epoch 123/500\n",
            "4/4 [==============================] - 1s 368ms/step - loss: 0.0340 - root_mean_squared_error: 0.1843 - val_loss: 0.0347 - val_root_mean_squared_error: 0.1863 - lr: 3.9063e-06\n",
            "Epoch 124/500\n",
            "4/4 [==============================] - 1s 367ms/step - loss: 0.0340 - root_mean_squared_error: 0.1843 - val_loss: 0.0347 - val_root_mean_squared_error: 0.1863 - lr: 3.9063e-06\n",
            "Epoch 125/500\n",
            "4/4 [==============================] - 1s 388ms/step - loss: 0.0340 - root_mean_squared_error: 0.1844 - val_loss: 0.0347 - val_root_mean_squared_error: 0.1863 - lr: 3.9063e-06\n",
            "Epoch 126/500\n",
            "4/4 [==============================] - 2s 623ms/step - loss: 0.0340 - root_mean_squared_error: 0.1844 - val_loss: 0.0347 - val_root_mean_squared_error: 0.1863 - lr: 3.9063e-06\n",
            "Epoch 127/500\n",
            "4/4 [==============================] - 1s 331ms/step - loss: 0.0340 - root_mean_squared_error: 0.1844 - val_loss: 0.0347 - val_root_mean_squared_error: 0.1863 - lr: 3.9063e-06\n",
            "Epoch 128/500\n",
            "4/4 [==============================] - 1s 400ms/step - loss: 0.0340 - root_mean_squared_error: 0.1844 - val_loss: 0.0347 - val_root_mean_squared_error: 0.1863 - lr: 3.9063e-06\n",
            "Epoch 129/500\n",
            "4/4 [==============================] - 1s 409ms/step - loss: 0.0340 - root_mean_squared_error: 0.1844 - val_loss: 0.0347 - val_root_mean_squared_error: 0.1863 - lr: 3.9063e-06\n",
            "Epoch 130/500\n",
            "4/4 [==============================] - 1s 371ms/step - loss: 0.0340 - root_mean_squared_error: 0.1843 - val_loss: 0.0347 - val_root_mean_squared_error: 0.1863 - lr: 1.9531e-06\n",
            "Epoch 131/500\n",
            "4/4 [==============================] - 1s 384ms/step - loss: 0.0340 - root_mean_squared_error: 0.1844 - val_loss: 0.0347 - val_root_mean_squared_error: 0.1863 - lr: 1.9531e-06\n",
            "Epoch 132/500\n",
            "4/4 [==============================] - 1s 366ms/step - loss: 0.0340 - root_mean_squared_error: 0.1844 - val_loss: 0.0347 - val_root_mean_squared_error: 0.1863 - lr: 1.9531e-06\n",
            "Epoch 133/500\n",
            "4/4 [==============================] - 1s 321ms/step - loss: 0.0340 - root_mean_squared_error: 0.1844 - val_loss: 0.0347 - val_root_mean_squared_error: 0.1863 - lr: 1.9531e-06\n",
            "Epoch 134/500\n",
            "4/4 [==============================] - 1s 377ms/step - loss: 0.0340 - root_mean_squared_error: 0.1844 - val_loss: 0.0347 - val_root_mean_squared_error: 0.1863 - lr: 1.9531e-06\n",
            "Epoch 135/500\n",
            "4/4 [==============================] - 1s 334ms/step - loss: 0.0340 - root_mean_squared_error: 0.1843 - val_loss: 0.0347 - val_root_mean_squared_error: 0.1863 - lr: 1.9531e-06\n",
            "Epoch 136/500\n",
            "4/4 [==============================] - 1s 331ms/step - loss: 0.0340 - root_mean_squared_error: 0.1844 - val_loss: 0.0347 - val_root_mean_squared_error: 0.1863 - lr: 1.9531e-06\n",
            "Epoch 137/500\n",
            "4/4 [==============================] - 1s 333ms/step - loss: 0.0340 - root_mean_squared_error: 0.1844 - val_loss: 0.0347 - val_root_mean_squared_error: 0.1863 - lr: 1.9531e-06\n",
            "Epoch 138/500\n",
            "4/4 [==============================] - 1s 332ms/step - loss: 0.0340 - root_mean_squared_error: 0.1843 - val_loss: 0.0347 - val_root_mean_squared_error: 0.1863 - lr: 1.9531e-06\n",
            "Epoch 139/500\n",
            "4/4 [==============================] - 1s 382ms/step - loss: 0.0340 - root_mean_squared_error: 0.1844 - val_loss: 0.0347 - val_root_mean_squared_error: 0.1863 - lr: 1.9531e-06\n",
            "Epoch 140/500\n",
            "4/4 [==============================] - 1s 436ms/step - loss: 0.0340 - root_mean_squared_error: 0.1844 - val_loss: 0.0347 - val_root_mean_squared_error: 0.1863 - lr: 9.7656e-07\n",
            "Epoch 141/500\n",
            "4/4 [==============================] - 1s 341ms/step - loss: 0.0340 - root_mean_squared_error: 0.1843 - val_loss: 0.0347 - val_root_mean_squared_error: 0.1863 - lr: 9.7656e-07\n",
            "Epoch 142/500\n",
            "4/4 [==============================] - 1s 379ms/step - loss: 0.0340 - root_mean_squared_error: 0.1844 - val_loss: 0.0347 - val_root_mean_squared_error: 0.1863 - lr: 9.7656e-07\n",
            "Epoch 143/500\n",
            "4/4 [==============================] - 1s 377ms/step - loss: 0.0340 - root_mean_squared_error: 0.1844 - val_loss: 0.0347 - val_root_mean_squared_error: 0.1863 - lr: 9.7656e-07\n",
            "Epoch 144/500\n",
            "4/4 [==============================] - 1s 326ms/step - loss: 0.0340 - root_mean_squared_error: 0.1844 - val_loss: 0.0347 - val_root_mean_squared_error: 0.1863 - lr: 9.7656e-07\n",
            "Epoch 145/500\n",
            "4/4 [==============================] - 1s 378ms/step - loss: 0.0340 - root_mean_squared_error: 0.1843 - val_loss: 0.0347 - val_root_mean_squared_error: 0.1863 - lr: 9.7656e-07\n",
            "Epoch 146/500\n",
            "4/4 [==============================] - 1s 366ms/step - loss: 0.0340 - root_mean_squared_error: 0.1843 - val_loss: 0.0347 - val_root_mean_squared_error: 0.1863 - lr: 9.7656e-07\n",
            "Epoch 147/500\n",
            "4/4 [==============================] - 1s 320ms/step - loss: 0.0340 - root_mean_squared_error: 0.1844 - val_loss: 0.0347 - val_root_mean_squared_error: 0.1863 - lr: 9.7656e-07\n",
            "Epoch 148/500\n",
            "4/4 [==============================] - 1s 320ms/step - loss: 0.0340 - root_mean_squared_error: 0.1843 - val_loss: 0.0347 - val_root_mean_squared_error: 0.1863 - lr: 9.7656e-07\n",
            "Epoch 149/500\n",
            "4/4 [==============================] - 1s 395ms/step - loss: 0.0340 - root_mean_squared_error: 0.1843 - val_loss: 0.0347 - val_root_mean_squared_error: 0.1863 - lr: 9.7656e-07\n",
            "Epoch 150/500\n",
            "4/4 [==============================] - 2s 706ms/step - loss: 0.0340 - root_mean_squared_error: 0.1843 - val_loss: 0.0347 - val_root_mean_squared_error: 0.1863 - lr: 4.8828e-07\n",
            "Epoch 151/500\n",
            "4/4 [==============================] - 1s 332ms/step - loss: 0.0340 - root_mean_squared_error: 0.1843 - val_loss: 0.0347 - val_root_mean_squared_error: 0.1863 - lr: 4.8828e-07\n",
            "Epoch 152/500\n",
            "4/4 [==============================] - 1s 324ms/step - loss: 0.0340 - root_mean_squared_error: 0.1844 - val_loss: 0.0347 - val_root_mean_squared_error: 0.1863 - lr: 4.8828e-07\n",
            "Epoch 153/500\n",
            "4/4 [==============================] - 1s 367ms/step - loss: 0.0340 - root_mean_squared_error: 0.1844 - val_loss: 0.0347 - val_root_mean_squared_error: 0.1863 - lr: 4.8828e-07\n",
            "Epoch 154/500\n",
            "4/4 [==============================] - 1s 361ms/step - loss: 0.0340 - root_mean_squared_error: 0.1844 - val_loss: 0.0347 - val_root_mean_squared_error: 0.1863 - lr: 4.8828e-07\n",
            "Epoch 155/500\n",
            "4/4 [==============================] - 1s 355ms/step - loss: 0.0340 - root_mean_squared_error: 0.1844 - val_loss: 0.0347 - val_root_mean_squared_error: 0.1863 - lr: 4.8828e-07\n",
            "Epoch 156/500\n",
            "4/4 [==============================] - 1s 377ms/step - loss: 0.0340 - root_mean_squared_error: 0.1843 - val_loss: 0.0347 - val_root_mean_squared_error: 0.1863 - lr: 4.8828e-07\n",
            "Epoch 157/500\n",
            "4/4 [==============================] - 1s 375ms/step - loss: 0.0340 - root_mean_squared_error: 0.1844 - val_loss: 0.0347 - val_root_mean_squared_error: 0.1863 - lr: 4.8828e-07\n",
            "Epoch 158/500\n",
            "4/4 [==============================] - 1s 368ms/step - loss: 0.0340 - root_mean_squared_error: 0.1844 - val_loss: 0.0347 - val_root_mean_squared_error: 0.1863 - lr: 4.8828e-07\n",
            "Epoch 159/500\n",
            "4/4 [==============================] - 1s 395ms/step - loss: 0.0340 - root_mean_squared_error: 0.1843 - val_loss: 0.0347 - val_root_mean_squared_error: 0.1863 - lr: 4.8828e-07\n",
            "Epoch 160/500\n",
            "4/4 [==============================] - 2s 484ms/step - loss: 0.0340 - root_mean_squared_error: 0.1844 - val_loss: 0.0347 - val_root_mean_squared_error: 0.1863 - lr: 2.4414e-07\n",
            "Epoch 161/500\n",
            "4/4 [==============================] - 1s 330ms/step - loss: 0.0340 - root_mean_squared_error: 0.1844 - val_loss: 0.0347 - val_root_mean_squared_error: 0.1863 - lr: 2.4414e-07\n",
            "Epoch 162/500\n",
            "4/4 [==============================] - 1s 332ms/step - loss: 0.0340 - root_mean_squared_error: 0.1843 - val_loss: 0.0347 - val_root_mean_squared_error: 0.1863 - lr: 2.4414e-07\n",
            "Epoch 163/500\n",
            "4/4 [==============================] - 1s 337ms/step - loss: 0.0340 - root_mean_squared_error: 0.1843 - val_loss: 0.0347 - val_root_mean_squared_error: 0.1863 - lr: 2.4414e-07\n",
            "Epoch 164/500\n",
            "4/4 [==============================] - 1s 340ms/step - loss: 0.0340 - root_mean_squared_error: 0.1843 - val_loss: 0.0347 - val_root_mean_squared_error: 0.1863 - lr: 2.4414e-07\n",
            "Epoch 165/500\n",
            "4/4 [==============================] - 1s 337ms/step - loss: 0.0340 - root_mean_squared_error: 0.1844 - val_loss: 0.0347 - val_root_mean_squared_error: 0.1863 - lr: 2.4414e-07\n",
            "Epoch 166/500\n",
            "4/4 [==============================] - 1s 317ms/step - loss: 0.0340 - root_mean_squared_error: 0.1844 - val_loss: 0.0347 - val_root_mean_squared_error: 0.1863 - lr: 2.4414e-07\n",
            "Epoch 167/500\n",
            "4/4 [==============================] - 1s 321ms/step - loss: 0.0340 - root_mean_squared_error: 0.1844 - val_loss: 0.0347 - val_root_mean_squared_error: 0.1863 - lr: 2.4414e-07\n",
            "Epoch 168/500\n",
            "4/4 [==============================] - 1s 392ms/step - loss: 0.0340 - root_mean_squared_error: 0.1844 - val_loss: 0.0347 - val_root_mean_squared_error: 0.1863 - lr: 2.4414e-07\n",
            "Epoch 169/500\n",
            "4/4 [==============================] - 1s 412ms/step - loss: 0.0340 - root_mean_squared_error: 0.1844 - val_loss: 0.0347 - val_root_mean_squared_error: 0.1863 - lr: 2.4414e-07\n",
            "Epoch 170/500\n",
            "4/4 [==============================] - 1s 392ms/step - loss: 0.0340 - root_mean_squared_error: 0.1844 - val_loss: 0.0347 - val_root_mean_squared_error: 0.1863 - lr: 1.2207e-07\n",
            "Epoch 171/500\n",
            "4/4 [==============================] - 2s 654ms/step - loss: 0.0340 - root_mean_squared_error: 0.1844 - val_loss: 0.0347 - val_root_mean_squared_error: 0.1863 - lr: 1.2207e-07\n",
            "Epoch 172/500\n",
            "4/4 [==============================] - 1s 344ms/step - loss: 0.0340 - root_mean_squared_error: 0.1844 - val_loss: 0.0347 - val_root_mean_squared_error: 0.1863 - lr: 1.2207e-07\n",
            "Epoch 173/500\n",
            "4/4 [==============================] - 1s 321ms/step - loss: 0.0340 - root_mean_squared_error: 0.1844 - val_loss: 0.0347 - val_root_mean_squared_error: 0.1863 - lr: 1.2207e-07\n",
            "Epoch 174/500\n",
            "4/4 [==============================] - 1s 329ms/step - loss: 0.0340 - root_mean_squared_error: 0.1844 - val_loss: 0.0347 - val_root_mean_squared_error: 0.1863 - lr: 1.2207e-07\n",
            "Epoch 175/500\n",
            "4/4 [==============================] - 1s 367ms/step - loss: 0.0340 - root_mean_squared_error: 0.1844 - val_loss: 0.0347 - val_root_mean_squared_error: 0.1863 - lr: 1.2207e-07\n",
            "Epoch 176/500\n",
            "4/4 [==============================] - 1s 311ms/step - loss: 0.0340 - root_mean_squared_error: 0.1844 - val_loss: 0.0347 - val_root_mean_squared_error: 0.1863 - lr: 1.2207e-07\n",
            "Epoch 177/500\n",
            "4/4 [==============================] - 1s 371ms/step - loss: 0.0340 - root_mean_squared_error: 0.1843 - val_loss: 0.0347 - val_root_mean_squared_error: 0.1863 - lr: 1.2207e-07\n",
            "Epoch 178/500\n",
            "4/4 [==============================] - 1s 325ms/step - loss: 0.0340 - root_mean_squared_error: 0.1844 - val_loss: 0.0347 - val_root_mean_squared_error: 0.1863 - lr: 1.2207e-07\n",
            "Epoch 179/500\n",
            "4/4 [==============================] - 1s 313ms/step - loss: 0.0340 - root_mean_squared_error: 0.1843 - val_loss: 0.0347 - val_root_mean_squared_error: 0.1863 - lr: 1.2207e-07\n",
            "Epoch 180/500\n",
            "4/4 [==============================] - 1s 389ms/step - loss: 0.0340 - root_mean_squared_error: 0.1844 - val_loss: 0.0347 - val_root_mean_squared_error: 0.1863 - lr: 1.0000e-07\n",
            "Epoch 181/500\n",
            "4/4 [==============================] - 1s 367ms/step - loss: 0.0340 - root_mean_squared_error: 0.1844 - val_loss: 0.0347 - val_root_mean_squared_error: 0.1863 - lr: 1.0000e-07\n",
            "Epoch 182/500\n",
            "4/4 [==============================] - 1s 332ms/step - loss: 0.0340 - root_mean_squared_error: 0.1844 - val_loss: 0.0347 - val_root_mean_squared_error: 0.1863 - lr: 1.0000e-07\n",
            "Epoch 183/500\n",
            "4/4 [==============================] - 1s 328ms/step - loss: 0.0340 - root_mean_squared_error: 0.1844 - val_loss: 0.0347 - val_root_mean_squared_error: 0.1863 - lr: 1.0000e-07\n",
            "Epoch 184/500\n",
            "4/4 [==============================] - 1s 324ms/step - loss: 0.0340 - root_mean_squared_error: 0.1844 - val_loss: 0.0347 - val_root_mean_squared_error: 0.1863 - lr: 1.0000e-07\n",
            "Epoch 185/500\n",
            "4/4 [==============================] - 1s 331ms/step - loss: 0.0340 - root_mean_squared_error: 0.1843 - val_loss: 0.0347 - val_root_mean_squared_error: 0.1863 - lr: 1.0000e-07\n",
            "Epoch 186/500\n",
            "4/4 [==============================] - 1s 375ms/step - loss: 0.0340 - root_mean_squared_error: 0.1843 - val_loss: 0.0347 - val_root_mean_squared_error: 0.1863 - lr: 1.0000e-07\n",
            "Epoch 187/500\n",
            "4/4 [==============================] - 1s 327ms/step - loss: 0.0340 - root_mean_squared_error: 0.1844 - val_loss: 0.0347 - val_root_mean_squared_error: 0.1863 - lr: 1.0000e-07\n",
            "Epoch 188/500\n",
            "4/4 [==============================] - 1s 332ms/step - loss: 0.0340 - root_mean_squared_error: 0.1843 - val_loss: 0.0347 - val_root_mean_squared_error: 0.1863 - lr: 1.0000e-07\n",
            "Epoch 189/500\n",
            "4/4 [==============================] - 1s 342ms/step - loss: 0.0340 - root_mean_squared_error: 0.1844 - val_loss: 0.0347 - val_root_mean_squared_error: 0.1863 - lr: 1.0000e-07\n",
            "Epoch 190/500\n",
            "4/4 [==============================] - 1s 354ms/step - loss: 0.0340 - root_mean_squared_error: 0.1844 - val_loss: 0.0347 - val_root_mean_squared_error: 0.1863 - lr: 1.0000e-07\n",
            "Epoch 191/500\n",
            "4/4 [==============================] - 1s 394ms/step - loss: 0.0340 - root_mean_squared_error: 0.1844 - val_loss: 0.0347 - val_root_mean_squared_error: 0.1863 - lr: 1.0000e-07\n",
            "Epoch 192/500\n",
            "4/4 [==============================] - 2s 717ms/step - loss: 0.0340 - root_mean_squared_error: 0.1844 - val_loss: 0.0347 - val_root_mean_squared_error: 0.1863 - lr: 1.0000e-07\n",
            "Epoch 193/500\n",
            "4/4 [==============================] - 1s 344ms/step - loss: 0.0340 - root_mean_squared_error: 0.1844 - val_loss: 0.0347 - val_root_mean_squared_error: 0.1863 - lr: 1.0000e-07\n",
            "Epoch 194/500\n",
            "4/4 [==============================] - 1s 333ms/step - loss: 0.0340 - root_mean_squared_error: 0.1844 - val_loss: 0.0347 - val_root_mean_squared_error: 0.1863 - lr: 1.0000e-07\n",
            "Epoch 195/500\n",
            "4/4 [==============================] - 1s 327ms/step - loss: 0.0340 - root_mean_squared_error: 0.1844 - val_loss: 0.0347 - val_root_mean_squared_error: 0.1863 - lr: 1.0000e-07\n",
            "Epoch 196/500\n",
            "4/4 [==============================] - 1s 332ms/step - loss: 0.0340 - root_mean_squared_error: 0.1844 - val_loss: 0.0347 - val_root_mean_squared_error: 0.1863 - lr: 1.0000e-07\n",
            "Epoch 197/500\n",
            "4/4 [==============================] - 1s 346ms/step - loss: 0.0340 - root_mean_squared_error: 0.1844 - val_loss: 0.0347 - val_root_mean_squared_error: 0.1863 - lr: 1.0000e-07\n",
            "Epoch 198/500\n",
            "4/4 [==============================] - 1s 336ms/step - loss: 0.0340 - root_mean_squared_error: 0.1844 - val_loss: 0.0347 - val_root_mean_squared_error: 0.1863 - lr: 1.0000e-07\n",
            "Epoch 199/500\n",
            "4/4 [==============================] - 1s 317ms/step - loss: 0.0340 - root_mean_squared_error: 0.1843 - val_loss: 0.0347 - val_root_mean_squared_error: 0.1863 - lr: 1.0000e-07\n",
            "Epoch 200/500\n",
            "4/4 [==============================] - 1s 326ms/step - loss: 0.0340 - root_mean_squared_error: 0.1843 - val_loss: 0.0347 - val_root_mean_squared_error: 0.1863 - lr: 1.0000e-07\n",
            "Epoch 201/500\n",
            "4/4 [==============================] - 1s 353ms/step - loss: 0.0340 - root_mean_squared_error: 0.1844 - val_loss: 0.0347 - val_root_mean_squared_error: 0.1863 - lr: 1.0000e-07\n",
            "Epoch 202/500\n",
            "4/4 [==============================] - 1s 371ms/step - loss: 0.0340 - root_mean_squared_error: 0.1843 - val_loss: 0.0347 - val_root_mean_squared_error: 0.1863 - lr: 1.0000e-07\n",
            "Epoch 203/500\n",
            "4/4 [==============================] - 1s 378ms/step - loss: 0.0340 - root_mean_squared_error: 0.1844 - val_loss: 0.0347 - val_root_mean_squared_error: 0.1863 - lr: 1.0000e-07\n",
            "Epoch 204/500\n",
            "4/4 [==============================] - 1s 329ms/step - loss: 0.0340 - root_mean_squared_error: 0.1844 - val_loss: 0.0347 - val_root_mean_squared_error: 0.1863 - lr: 1.0000e-07\n",
            "Epoch 205/500\n",
            "4/4 [==============================] - 1s 322ms/step - loss: 0.0340 - root_mean_squared_error: 0.1844 - val_loss: 0.0347 - val_root_mean_squared_error: 0.1863 - lr: 1.0000e-07\n",
            "Epoch 206/500\n",
            "4/4 [==============================] - 1s 327ms/step - loss: 0.0340 - root_mean_squared_error: 0.1843 - val_loss: 0.0347 - val_root_mean_squared_error: 0.1863 - lr: 1.0000e-07\n",
            "Epoch 206: early stopping\n"
          ]
        }
      ]
    },
    {
      "cell_type": "markdown",
      "source": [
        "# **Testeamos el modelo**"
      ],
      "metadata": {
        "id": "3VjurbTHotw_"
      }
    },
    {
      "cell_type": "code",
      "source": [
        "# testeamos el mejor modelo\n",
        "\n",
        "model = keras.models.load_model('best_model.keras')\n",
        "\n",
        "test_loss, test_acc = model.evaluate(dyn_test, target_test)\n",
        "\n",
        "print(f'Test accuracy: {test_acc}')\n",
        "print(f'Test loss: {test_loss}')\n"
      ],
      "metadata": {
        "id": "2ph-TzzVotTg",
        "colab": {
          "base_uri": "https://localhost:8080/"
        },
        "outputId": "448e0d20-8eaf-4b09-c33e-a45931e5f150"
      },
      "execution_count": 8,
      "outputs": [
        {
          "output_type": "stream",
          "name": "stdout",
          "text": [
            "31/31 [==============================] - 1s 34ms/step - loss: 0.0355 - root_mean_squared_error: 0.1885\n",
            "Test accuracy: 0.18850307166576385\n",
            "Test loss: 0.03553340584039688\n"
          ]
        }
      ]
    },
    {
      "cell_type": "code",
      "source": [
        "# visualizamos el entrenamiento\n",
        "\n",
        "metric = 'root_mean_squared_error'\n",
        "\n",
        "plt.figure(figsize=(15,7))\n",
        "\n",
        "plt.plot(history.history[metric])\n",
        "plt.plot(history.history['val_' + metric])\n",
        "\n",
        "plt.title('model ' + metric)\n",
        "plt.ylabel(metric, fontsize='large')\n",
        "plt.xlabel('epoch', fontsize='large')\n",
        "plt.legend(['train', 'val'], loc='best')\n",
        "plt.show()\n",
        "plt.close()\n"
      ],
      "metadata": {
        "id": "mF2ugfJNoy_O",
        "colab": {
          "base_uri": "https://localhost:8080/",
          "height": 645
        },
        "outputId": "f3a91ce9-c0fc-4a40-9a4a-f17bd5369010"
      },
      "execution_count": 9,
      "outputs": [
        {
          "output_type": "display_data",
          "data": {
            "text/plain": [
              "<Figure size 1500x700 with 1 Axes>"
            ],
            "image/png": "[encoded data removed]"
          },
          "metadata": {}
        }
      ]
    },
    {
      "cell_type": "code",
      "source": [
        "# testeo con otras metricas\n",
        "\n",
        "pred_test=model.predict(x=dyn_test)\n"
      ],
      "metadata": {
        "id": "Xi-dPLn0AC_4",
        "colab": {
          "base_uri": "https://localhost:8080/"
        },
        "outputId": "9c1ea3e5-65a5-4f64-da8c-442e44acc351"
      },
      "execution_count": 10,
      "outputs": [
        {
          "output_type": "stream",
          "name": "stdout",
          "text": [
            "31/31 [==============================] - 1s 29ms/step\n"
          ]
        }
      ]
    },
    {
      "cell_type": "code",
      "source": [
        "# graficamos\n",
        "\n",
        "\n",
        "ae=target_test-pred_test\n",
        "\n",
        "# Calcular la media y la desviación estándar\n",
        "mean = np.mean(ae)\n",
        "std_dev = np.std(ae)\n",
        "\n",
        "plt.figure(figsize=(15,5))\n",
        "# Crear el histograma\n",
        "plt.hist(ae, bins=20, alpha=0.7, rwidth=0.85,label='Historigram')\n",
        "\n",
        "# Agregar las líneas verticales\n",
        "plt.axvline(mean, color='red', linestyle='dashed', linewidth=2,label='mean')\n",
        "plt.axvline(mean - 2*std_dev, color='green', linestyle='dashed', linewidth=2, label='mean - 2*std')\n",
        "plt.axvline(mean + 2*std_dev, color='green', linestyle='dashed', linewidth=2, label='mean + 2*std')\n",
        "\n",
        "# Configurar las etiquetas y el título\n",
        "plt.xlabel('Errores')\n",
        "plt.ylabel('Frecuencia')\n",
        "plt.title('Distribución del error absoluto')\n",
        "\n",
        "plt.legend(loc='upper left')\n",
        "# Mostrar el gráfico\n",
        "plt.show()\n",
        "print(f'Mean={np.round(mean,2)}')\n",
        "print(f'Mean-2*std={np.round(mean-2*std_dev,2)}')\n",
        "print(f'Mean+2*std={np.round(mean+2*std_dev,2)}')"
      ],
      "metadata": {
        "colab": {
          "base_uri": "https://localhost:8080/",
          "height": 539
        },
        "id": "q07w4aMJsLNe",
        "outputId": "f3485a85-7922-410e-b4f4-717df30744e7"
      },
      "execution_count": 11,
      "outputs": [
        {
          "output_type": "display_data",
          "data": {
            "text/plain": [
              "<Figure size 1500x500 with 1 Axes>"
            ],
            "image/png": "[encoded data removed]"
          },
          "metadata": {}
        },
        {
          "output_type": "stream",
          "name": "stdout",
          "text": [
            "Mean=0.0\n",
            "Mean-2*std=-0.37\n",
            "Mean+2*std=0.38\n"
          ]
        }
      ]
    }
  ]
}