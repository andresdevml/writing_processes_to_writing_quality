{
  "nbformat": 4,
  "nbformat_minor": 0,
  "metadata": {
    "colab": {
      "provenance": []
    },
    "kernelspec": {
      "name": "python3",
      "display_name": "Python 3"
    },
    "language_info": {
      "name": "python"
    },
    "accelerator": "TPU"
  },
  "cells": [
    {
      "cell_type": "markdown",
      "source": [
        "# **Importamos librerias**"
      ],
      "metadata": {
        "id": "glLlsmN7OXJh"
      }
    },
    {
      "cell_type": "code",
      "execution_count": 1,
      "metadata": {
        "id": "NhT-k91tNqY0"
      },
      "outputs": [],
      "source": [
        "import tensorflow as tf\n",
        "import keras\n",
        "import numpy as np\n",
        "import pandas as pd\n",
        "import matplotlib.pyplot as plt\n",
        "from google.colab import drive"
      ]
    },
    {
      "cell_type": "markdown",
      "source": [
        "# **Activamos la TPU**"
      ],
      "metadata": {
        "id": "_Dp3sx55jdFu"
      }
    },
    {
      "cell_type": "code",
      "source": [
        "resolver = tf.distribute.cluster_resolver.TPUClusterResolver(tpu='')\n",
        "tf.config.experimental_connect_to_cluster(resolver)\n",
        "# This is the TPU initialization code that has to be at the beginning.\n",
        "tf.tpu.experimental.initialize_tpu_system(resolver)\n",
        "print(\"All devices: \", tf.config.list_logical_devices('TPU'))\n",
        "strategy = tf.distribute.TPUStrategy(resolver)"
      ],
      "metadata": {
        "colab": {
          "base_uri": "https://localhost:8080/"
        },
        "id": "2uF5ptQgjfhh",
        "outputId": "f4a20fd3-a5e5-44f0-9f94-f88fc39cef7a"
      },
      "execution_count": 2,
      "outputs": [
        {
          "output_type": "stream",
          "name": "stdout",
          "text": [
            "All devices:  [LogicalDevice(name='/job:worker/replica:0/task:0/device:TPU:0', device_type='TPU'), LogicalDevice(name='/job:worker/replica:0/task:0/device:TPU:1', device_type='TPU'), LogicalDevice(name='/job:worker/replica:0/task:0/device:TPU:2', device_type='TPU'), LogicalDevice(name='/job:worker/replica:0/task:0/device:TPU:3', device_type='TPU'), LogicalDevice(name='/job:worker/replica:0/task:0/device:TPU:4', device_type='TPU'), LogicalDevice(name='/job:worker/replica:0/task:0/device:TPU:5', device_type='TPU'), LogicalDevice(name='/job:worker/replica:0/task:0/device:TPU:6', device_type='TPU'), LogicalDevice(name='/job:worker/replica:0/task:0/device:TPU:7', device_type='TPU')]\n"
          ]
        }
      ]
    },
    {
      "cell_type": "markdown",
      "source": [
        "# **Importamos la data**"
      ],
      "metadata": {
        "id": "3ejr_5-uO7CG"
      }
    },
    {
      "cell_type": "code",
      "source": [
        "\n",
        "# conectamos al drive\n",
        "drive.mount('/content/drive')\n",
        "\n",
        "# Definimos el directorio\n",
        "dir_data_kaggle='./drive/MyDrive/lwpwq/data'\n",
        "\n",
        "# extraemos la data\n",
        "\n",
        "dyn_train=np.load(dir_data_kaggle+'/dyn_train_data_prod.npy', allow_pickle=True)\n",
        "dyn_test=np.load(dir_data_kaggle+'/dyn_test_data_prod.npy', allow_pickle=True)\n",
        "\n",
        "\n",
        "stat_train=np.load(dir_data_kaggle+'/stat_train_data_prod.npy', allow_pickle=True)\n",
        "stat_test=np.load(dir_data_kaggle+'/stat_test_data_prod.npy', allow_pickle=True)\n",
        "\n",
        "\n",
        "target_train=np.load(dir_data_kaggle+'/target_train_data_prod.npy', allow_pickle=True)\n",
        "target_test=np.load(dir_data_kaggle+'/target_test_data_prod.npy', allow_pickle=True)\n"
      ],
      "metadata": {
        "id": "-dA8ma1dO6aO",
        "colab": {
          "base_uri": "https://localhost:8080/"
        },
        "outputId": "70aef0ae-ac48-4966-e5a9-2af16887025e"
      },
      "execution_count": 3,
      "outputs": [
        {
          "output_type": "stream",
          "name": "stdout",
          "text": [
            "Mounted at /content/drive\n"
          ]
        }
      ]
    },
    {
      "cell_type": "markdown",
      "source": [
        "# **Acomodamos la data**"
      ],
      "metadata": {
        "id": "nEuK5vkIaB3R"
      }
    },
    {
      "cell_type": "code",
      "source": [
        "# escalamos la data\n",
        "\n",
        "target_train=(target_train-0.5)/5.5\n",
        "\n",
        "target_test=(target_test-0.5)/5.5"
      ],
      "metadata": {
        "id": "wJkP69IoaGna"
      },
      "execution_count": 4,
      "outputs": []
    },
    {
      "cell_type": "markdown",
      "source": [
        "# **Construimos el modelo**"
      ],
      "metadata": {
        "id": "8n5m_IGnWBEi"
      }
    },
    {
      "cell_type": "code",
      "source": [
        "# definimos las dimensiones\n",
        "\n",
        "stat_input_shape=stat_train.shape[1]\n",
        "dyn_input_shape=dyn_train.shape[1:]\n",
        "\n",
        "with strategy.scope():\n",
        "\n",
        "\n",
        "  input_stat= tf.keras.layers.Input(stat_input_shape)\n",
        "  input_dyn= tf.keras.layers.Input(dyn_input_shape)\n",
        "\n",
        "  masking_layer=keras.layers.Masking(mask_value=-1)\n",
        "\n",
        "  masking_dyn=masking_layer(input_dyn)\n",
        "\n",
        "  conv_layers= tf.keras.Sequential([\n",
        "\n",
        "  keras.layers.Conv1D(filters=64, kernel_size=3, padding='same'),\n",
        "  keras.layers.BatchNormalization(),\n",
        "  keras.layers.ReLU(),\n",
        "\n",
        "  keras.layers.Conv1D(filters=64, kernel_size=3, padding='same'),\n",
        "  keras.layers.BatchNormalization(),\n",
        "  keras.layers.ReLU(),\n",
        "\n",
        "  keras.layers.GlobalAveragePooling1D(),\n",
        "\n",
        "                                                               ])\n",
        "  conv_stack=conv_layers(masking_dyn)\n",
        "\n",
        "\n",
        "  concat = tf.keras.layers.concatenate([input_stat, conv_stack])\n",
        "\n",
        "  dense_1=keras.layers.Dense(units=8, activation='sigmoid')(concat)\n",
        "\n",
        "  dense_2= keras.layers.Dense(units=8, activation='sigmoid')(dense_1)\n",
        "\n",
        "  output=  keras.layers.Dense(units=1, activation='sigmoid')(dense_2)\n",
        "\n",
        "  model = tf.keras.Model(inputs=[input_stat, input_dyn], outputs=[output])\n",
        "\n",
        "\n",
        "  # compilamos\n",
        "\n",
        "  model.compile(\n",
        "    optimizer='rmsprop',\n",
        "    loss=keras.losses.MeanSquaredError(),\n",
        "    metrics=[keras.metrics.RootMeanSquaredError()],\n",
        "      )\n"
      ],
      "metadata": {
        "id": "hNYv3YX4WKSJ"
      },
      "execution_count": 5,
      "outputs": []
    },
    {
      "cell_type": "code",
      "source": [
        "# definimos algunos parametros de entrenamiento\n",
        "\n",
        "epochs = 200\n",
        "batch_size = 320\n",
        "\n",
        "callbacks = [\n",
        "    keras.callbacks.ModelCheckpoint(\n",
        "        'best_model.keras', save_best_only=True, monitor='val_loss'),\n",
        "\n",
        "    keras.callbacks.ReduceLROnPlateau(\n",
        "        monitor='val_loss', factor=0.5, patience=10, min_lr=10e-8),\n",
        "\n",
        "    keras.callbacks.EarlyStopping(monitor='val_loss', patience=20, verbose=1),\n",
        "]\n"
      ],
      "metadata": {
        "id": "2FialyiZobIW"
      },
      "execution_count": 6,
      "outputs": []
    },
    {
      "cell_type": "code",
      "source": [
        "\n",
        "\n",
        "# entrenamos\n",
        "\n",
        "history = model.fit(\n",
        "    x=(stat_train,dyn_train),\n",
        "    y=target_train,\n",
        "    batch_size=batch_size,\n",
        "    epochs=epochs,\n",
        "    callbacks=callbacks,\n",
        "    validation_split=0.2,\n",
        "    verbose=1,\n",
        ")"
      ],
      "metadata": {
        "id": "GtMa72eXoege",
        "colab": {
          "base_uri": "https://localhost:8080/"
        },
        "outputId": "fd6da3ef-1ae8-402c-d9a1-556e3b9034e2"
      },
      "execution_count": 7,
      "outputs": [
        {
          "output_type": "stream",
          "name": "stdout",
          "text": [
            "Epoch 1/200\n",
            "6/6 [==============================] - 17s 2s/step - loss: 0.0621 - root_mean_squared_error: 0.2491 - val_loss: 0.0592 - val_root_mean_squared_error: 0.2433 - lr: 0.0010\n",
            "Epoch 2/200\n",
            "6/6 [==============================] - 2s 283ms/step - loss: 0.0529 - root_mean_squared_error: 0.2300 - val_loss: 0.0541 - val_root_mean_squared_error: 0.2326 - lr: 0.0010\n",
            "Epoch 3/200\n",
            "6/6 [==============================] - 2s 381ms/step - loss: 0.0479 - root_mean_squared_error: 0.2188 - val_loss: 0.0501 - val_root_mean_squared_error: 0.2239 - lr: 0.0010\n",
            "Epoch 4/200\n",
            "6/6 [==============================] - 2s 294ms/step - loss: 0.0442 - root_mean_squared_error: 0.2102 - val_loss: 0.0470 - val_root_mean_squared_error: 0.2167 - lr: 0.0010\n",
            "Epoch 5/200\n",
            "6/6 [==============================] - 2s 292ms/step - loss: 0.0414 - root_mean_squared_error: 0.2035 - val_loss: 0.0443 - val_root_mean_squared_error: 0.2105 - lr: 0.0010\n",
            "Epoch 6/200\n",
            "6/6 [==============================] - 2s 286ms/step - loss: 0.0392 - root_mean_squared_error: 0.1981 - val_loss: 0.0420 - val_root_mean_squared_error: 0.2050 - lr: 0.0010\n",
            "Epoch 7/200\n",
            "6/6 [==============================] - 2s 295ms/step - loss: 0.0375 - root_mean_squared_error: 0.1937 - val_loss: 0.0402 - val_root_mean_squared_error: 0.2004 - lr: 0.0010\n",
            "Epoch 8/200\n",
            "6/6 [==============================] - 2s 327ms/step - loss: 0.0363 - root_mean_squared_error: 0.1904 - val_loss: 0.0386 - val_root_mean_squared_error: 0.1965 - lr: 0.0010\n",
            "Epoch 9/200\n",
            "6/6 [==============================] - 2s 298ms/step - loss: 0.0354 - root_mean_squared_error: 0.1881 - val_loss: 0.0375 - val_root_mean_squared_error: 0.1936 - lr: 0.0010\n",
            "Epoch 10/200\n",
            "6/6 [==============================] - 2s 295ms/step - loss: 0.0348 - root_mean_squared_error: 0.1865 - val_loss: 0.0367 - val_root_mean_squared_error: 0.1914 - lr: 0.0010\n",
            "Epoch 11/200\n",
            "6/6 [==============================] - 1s 275ms/step - loss: 0.0344 - root_mean_squared_error: 0.1856 - val_loss: 0.0361 - val_root_mean_squared_error: 0.1900 - lr: 0.0010\n",
            "Epoch 12/200\n",
            "6/6 [==============================] - 1s 279ms/step - loss: 0.0342 - root_mean_squared_error: 0.1850 - val_loss: 0.0356 - val_root_mean_squared_error: 0.1886 - lr: 0.0010\n",
            "Epoch 13/200\n",
            "6/6 [==============================] - 2s 288ms/step - loss: 0.0341 - root_mean_squared_error: 0.1847 - val_loss: 0.0353 - val_root_mean_squared_error: 0.1880 - lr: 0.0010\n",
            "Epoch 14/200\n",
            "6/6 [==============================] - 1s 273ms/step - loss: 0.0341 - root_mean_squared_error: 0.1847 - val_loss: 0.0353 - val_root_mean_squared_error: 0.1878 - lr: 0.0010\n",
            "Epoch 15/200\n",
            "6/6 [==============================] - 1s 282ms/step - loss: 0.0341 - root_mean_squared_error: 0.1846 - val_loss: 0.0352 - val_root_mean_squared_error: 0.1875 - lr: 0.0010\n",
            "Epoch 16/200\n",
            "6/6 [==============================] - 2s 324ms/step - loss: 0.0341 - root_mean_squared_error: 0.1847 - val_loss: 0.0351 - val_root_mean_squared_error: 0.1874 - lr: 0.0010\n",
            "Epoch 17/200\n",
            "6/6 [==============================] - 2s 299ms/step - loss: 0.0341 - root_mean_squared_error: 0.1846 - val_loss: 0.0351 - val_root_mean_squared_error: 0.1874 - lr: 0.0010\n",
            "Epoch 18/200\n",
            "6/6 [==============================] - 1s 248ms/step - loss: 0.0341 - root_mean_squared_error: 0.1846 - val_loss: 0.0351 - val_root_mean_squared_error: 0.1874 - lr: 0.0010\n",
            "Epoch 19/200\n",
            "6/6 [==============================] - 2s 296ms/step - loss: 0.0341 - root_mean_squared_error: 0.1846 - val_loss: 0.0350 - val_root_mean_squared_error: 0.1872 - lr: 0.0010\n",
            "Epoch 20/200\n",
            "6/6 [==============================] - 1s 243ms/step - loss: 0.0341 - root_mean_squared_error: 0.1846 - val_loss: 0.0351 - val_root_mean_squared_error: 0.1873 - lr: 0.0010\n",
            "Epoch 21/200\n",
            "6/6 [==============================] - 1s 247ms/step - loss: 0.0341 - root_mean_squared_error: 0.1846 - val_loss: 0.0351 - val_root_mean_squared_error: 0.1872 - lr: 0.0010\n",
            "Epoch 22/200\n",
            "6/6 [==============================] - 1s 247ms/step - loss: 0.0341 - root_mean_squared_error: 0.1846 - val_loss: 0.0352 - val_root_mean_squared_error: 0.1876 - lr: 0.0010\n",
            "Epoch 23/200\n",
            "6/6 [==============================] - 1s 238ms/step - loss: 0.0341 - root_mean_squared_error: 0.1847 - val_loss: 0.0352 - val_root_mean_squared_error: 0.1875 - lr: 0.0010\n",
            "Epoch 24/200\n",
            "6/6 [==============================] - 2s 398ms/step - loss: 0.0341 - root_mean_squared_error: 0.1847 - val_loss: 0.0352 - val_root_mean_squared_error: 0.1875 - lr: 0.0010\n",
            "Epoch 25/200\n",
            "6/6 [==============================] - 1s 284ms/step - loss: 0.0341 - root_mean_squared_error: 0.1846 - val_loss: 0.0351 - val_root_mean_squared_error: 0.1874 - lr: 0.0010\n",
            "Epoch 26/200\n",
            "6/6 [==============================] - 1s 269ms/step - loss: 0.0341 - root_mean_squared_error: 0.1846 - val_loss: 0.0350 - val_root_mean_squared_error: 0.1870 - lr: 0.0010\n",
            "Epoch 27/200\n",
            "6/6 [==============================] - 1s 240ms/step - loss: 0.0341 - root_mean_squared_error: 0.1847 - val_loss: 0.0350 - val_root_mean_squared_error: 0.1870 - lr: 0.0010\n",
            "Epoch 28/200\n",
            "6/6 [==============================] - 1s 238ms/step - loss: 0.0341 - root_mean_squared_error: 0.1846 - val_loss: 0.0350 - val_root_mean_squared_error: 0.1870 - lr: 0.0010\n",
            "Epoch 29/200\n",
            "6/6 [==============================] - 1s 249ms/step - loss: 0.0341 - root_mean_squared_error: 0.1846 - val_loss: 0.0350 - val_root_mean_squared_error: 0.1870 - lr: 0.0010\n",
            "Epoch 30/200\n",
            "6/6 [==============================] - 1s 282ms/step - loss: 0.0341 - root_mean_squared_error: 0.1846 - val_loss: 0.0349 - val_root_mean_squared_error: 0.1869 - lr: 5.0000e-04\n",
            "Epoch 31/200\n",
            "6/6 [==============================] - 1s 273ms/step - loss: 0.0341 - root_mean_squared_error: 0.1846 - val_loss: 0.0349 - val_root_mean_squared_error: 0.1869 - lr: 5.0000e-04\n",
            "Epoch 32/200\n",
            "6/6 [==============================] - 1s 250ms/step - loss: 0.0341 - root_mean_squared_error: 0.1846 - val_loss: 0.0349 - val_root_mean_squared_error: 0.1869 - lr: 5.0000e-04\n",
            "Epoch 33/200\n",
            "6/6 [==============================] - 1s 282ms/step - loss: 0.0341 - root_mean_squared_error: 0.1846 - val_loss: 0.0350 - val_root_mean_squared_error: 0.1870 - lr: 5.0000e-04\n",
            "Epoch 34/200\n",
            "6/6 [==============================] - 2s 287ms/step - loss: 0.0341 - root_mean_squared_error: 0.1846 - val_loss: 0.0350 - val_root_mean_squared_error: 0.1870 - lr: 5.0000e-04\n",
            "Epoch 35/200\n",
            "6/6 [==============================] - 1s 233ms/step - loss: 0.0341 - root_mean_squared_error: 0.1846 - val_loss: 0.0350 - val_root_mean_squared_error: 0.1870 - lr: 5.0000e-04\n",
            "Epoch 36/200\n",
            "6/6 [==============================] - 1s 232ms/step - loss: 0.0341 - root_mean_squared_error: 0.1846 - val_loss: 0.0349 - val_root_mean_squared_error: 0.1869 - lr: 5.0000e-04\n",
            "Epoch 37/200\n",
            "6/6 [==============================] - 1s 240ms/step - loss: 0.0341 - root_mean_squared_error: 0.1846 - val_loss: 0.0350 - val_root_mean_squared_error: 0.1870 - lr: 5.0000e-04\n",
            "Epoch 38/200\n",
            "6/6 [==============================] - 1s 236ms/step - loss: 0.0341 - root_mean_squared_error: 0.1846 - val_loss: 0.0349 - val_root_mean_squared_error: 0.1869 - lr: 5.0000e-04\n",
            "Epoch 39/200\n",
            "6/6 [==============================] - 1s 266ms/step - loss: 0.0341 - root_mean_squared_error: 0.1846 - val_loss: 0.0349 - val_root_mean_squared_error: 0.1867 - lr: 5.0000e-04\n",
            "Epoch 40/200\n",
            "6/6 [==============================] - 2s 405ms/step - loss: 0.0341 - root_mean_squared_error: 0.1846 - val_loss: 0.0349 - val_root_mean_squared_error: 0.1867 - lr: 5.0000e-04\n",
            "Epoch 41/200\n",
            "6/6 [==============================] - 1s 242ms/step - loss: 0.0341 - root_mean_squared_error: 0.1846 - val_loss: 0.0349 - val_root_mean_squared_error: 0.1867 - lr: 5.0000e-04\n",
            "Epoch 42/200\n",
            "6/6 [==============================] - 2s 321ms/step - loss: 0.0341 - root_mean_squared_error: 0.1846 - val_loss: 0.0348 - val_root_mean_squared_error: 0.1867 - lr: 2.5000e-04\n",
            "Epoch 43/200\n",
            "6/6 [==============================] - 2s 315ms/step - loss: 0.0341 - root_mean_squared_error: 0.1846 - val_loss: 0.0348 - val_root_mean_squared_error: 0.1867 - lr: 2.5000e-04\n",
            "Epoch 44/200\n",
            "6/6 [==============================] - 1s 260ms/step - loss: 0.0341 - root_mean_squared_error: 0.1846 - val_loss: 0.0348 - val_root_mean_squared_error: 0.1867 - lr: 2.5000e-04\n",
            "Epoch 45/200\n",
            "6/6 [==============================] - 2s 279ms/step - loss: 0.0341 - root_mean_squared_error: 0.1846 - val_loss: 0.0348 - val_root_mean_squared_error: 0.1867 - lr: 2.5000e-04\n",
            "Epoch 46/200\n",
            "6/6 [==============================] - 1s 268ms/step - loss: 0.0341 - root_mean_squared_error: 0.1846 - val_loss: 0.0348 - val_root_mean_squared_error: 0.1867 - lr: 2.5000e-04\n",
            "Epoch 47/200\n",
            "6/6 [==============================] - 2s 286ms/step - loss: 0.0341 - root_mean_squared_error: 0.1846 - val_loss: 0.0348 - val_root_mean_squared_error: 0.1866 - lr: 2.5000e-04\n",
            "Epoch 48/200\n",
            "6/6 [==============================] - 1s 270ms/step - loss: 0.0341 - root_mean_squared_error: 0.1846 - val_loss: 0.0348 - val_root_mean_squared_error: 0.1866 - lr: 2.5000e-04\n",
            "Epoch 49/200\n",
            "6/6 [==============================] - 1s 270ms/step - loss: 0.0341 - root_mean_squared_error: 0.1846 - val_loss: 0.0348 - val_root_mean_squared_error: 0.1866 - lr: 2.5000e-04\n",
            "Epoch 50/200\n",
            "6/6 [==============================] - 2s 334ms/step - loss: 0.0341 - root_mean_squared_error: 0.1846 - val_loss: 0.0348 - val_root_mean_squared_error: 0.1866 - lr: 2.5000e-04\n",
            "Epoch 51/200\n",
            "6/6 [==============================] - 2s 320ms/step - loss: 0.0341 - root_mean_squared_error: 0.1846 - val_loss: 0.0348 - val_root_mean_squared_error: 0.1865 - lr: 2.5000e-04\n",
            "Epoch 52/200\n",
            "6/6 [==============================] - 1s 272ms/step - loss: 0.0341 - root_mean_squared_error: 0.1846 - val_loss: 0.0348 - val_root_mean_squared_error: 0.1865 - lr: 2.5000e-04\n",
            "Epoch 53/200\n",
            "6/6 [==============================] - 1s 276ms/step - loss: 0.0341 - root_mean_squared_error: 0.1846 - val_loss: 0.0348 - val_root_mean_squared_error: 0.1865 - lr: 2.5000e-04\n",
            "Epoch 54/200\n",
            "6/6 [==============================] - 1s 280ms/step - loss: 0.0341 - root_mean_squared_error: 0.1846 - val_loss: 0.0348 - val_root_mean_squared_error: 0.1865 - lr: 2.5000e-04\n",
            "Epoch 55/200\n",
            "6/6 [==============================] - 1s 279ms/step - loss: 0.0341 - root_mean_squared_error: 0.1846 - val_loss: 0.0348 - val_root_mean_squared_error: 0.1864 - lr: 2.5000e-04\n",
            "Epoch 56/200\n",
            "6/6 [==============================] - 2s 284ms/step - loss: 0.0341 - root_mean_squared_error: 0.1846 - val_loss: 0.0348 - val_root_mean_squared_error: 0.1864 - lr: 2.5000e-04\n",
            "Epoch 57/200\n",
            "6/6 [==============================] - 1s 271ms/step - loss: 0.0341 - root_mean_squared_error: 0.1846 - val_loss: 0.0347 - val_root_mean_squared_error: 0.1864 - lr: 2.5000e-04\n",
            "Epoch 58/200\n",
            "6/6 [==============================] - 2s 452ms/step - loss: 0.0341 - root_mean_squared_error: 0.1846 - val_loss: 0.0347 - val_root_mean_squared_error: 0.1864 - lr: 2.5000e-04\n",
            "Epoch 59/200\n",
            "6/6 [==============================] - 2s 298ms/step - loss: 0.0341 - root_mean_squared_error: 0.1846 - val_loss: 0.0347 - val_root_mean_squared_error: 0.1864 - lr: 2.5000e-04\n",
            "Epoch 60/200\n",
            "6/6 [==============================] - 1s 276ms/step - loss: 0.0341 - root_mean_squared_error: 0.1846 - val_loss: 0.0347 - val_root_mean_squared_error: 0.1864 - lr: 1.2500e-04\n",
            "Epoch 61/200\n",
            "6/6 [==============================] - 1s 270ms/step - loss: 0.0341 - root_mean_squared_error: 0.1846 - val_loss: 0.0347 - val_root_mean_squared_error: 0.1863 - lr: 1.2500e-04\n",
            "Epoch 62/200\n",
            "6/6 [==============================] - 2s 290ms/step - loss: 0.0341 - root_mean_squared_error: 0.1846 - val_loss: 0.0347 - val_root_mean_squared_error: 0.1863 - lr: 1.2500e-04\n",
            "Epoch 63/200\n",
            "6/6 [==============================] - 1s 274ms/step - loss: 0.0341 - root_mean_squared_error: 0.1846 - val_loss: 0.0347 - val_root_mean_squared_error: 0.1863 - lr: 1.2500e-04\n",
            "Epoch 64/200\n",
            "6/6 [==============================] - 1s 241ms/step - loss: 0.0341 - root_mean_squared_error: 0.1846 - val_loss: 0.0347 - val_root_mean_squared_error: 0.1863 - lr: 1.2500e-04\n",
            "Epoch 65/200\n",
            "6/6 [==============================] - 1s 274ms/step - loss: 0.0341 - root_mean_squared_error: 0.1845 - val_loss: 0.0347 - val_root_mean_squared_error: 0.1863 - lr: 1.2500e-04\n",
            "Epoch 66/200\n",
            "6/6 [==============================] - 1s 265ms/step - loss: 0.0341 - root_mean_squared_error: 0.1846 - val_loss: 0.0347 - val_root_mean_squared_error: 0.1863 - lr: 1.2500e-04\n",
            "Epoch 67/200\n",
            "6/6 [==============================] - 2s 355ms/step - loss: 0.0341 - root_mean_squared_error: 0.1846 - val_loss: 0.0347 - val_root_mean_squared_error: 0.1863 - lr: 1.2500e-04\n",
            "Epoch 68/200\n",
            "6/6 [==============================] - 1s 237ms/step - loss: 0.0341 - root_mean_squared_error: 0.1846 - val_loss: 0.0347 - val_root_mean_squared_error: 0.1863 - lr: 1.2500e-04\n",
            "Epoch 69/200\n",
            "6/6 [==============================] - 1s 281ms/step - loss: 0.0341 - root_mean_squared_error: 0.1846 - val_loss: 0.0347 - val_root_mean_squared_error: 0.1863 - lr: 1.2500e-04\n",
            "Epoch 70/200\n",
            "6/6 [==============================] - 1s 268ms/step - loss: 0.0341 - root_mean_squared_error: 0.1846 - val_loss: 0.0347 - val_root_mean_squared_error: 0.1863 - lr: 1.2500e-04\n",
            "Epoch 71/200\n",
            "6/6 [==============================] - 1s 247ms/step - loss: 0.0341 - root_mean_squared_error: 0.1846 - val_loss: 0.0347 - val_root_mean_squared_error: 0.1863 - lr: 1.2500e-04\n",
            "Epoch 72/200\n",
            "6/6 [==============================] - 1s 252ms/step - loss: 0.0341 - root_mean_squared_error: 0.1846 - val_loss: 0.0347 - val_root_mean_squared_error: 0.1863 - lr: 1.2500e-04\n",
            "Epoch 73/200\n",
            "6/6 [==============================] - 1s 237ms/step - loss: 0.0341 - root_mean_squared_error: 0.1846 - val_loss: 0.0347 - val_root_mean_squared_error: 0.1863 - lr: 1.2500e-04\n",
            "Epoch 74/200\n",
            "6/6 [==============================] - 1s 232ms/step - loss: 0.0341 - root_mean_squared_error: 0.1846 - val_loss: 0.0347 - val_root_mean_squared_error: 0.1863 - lr: 6.2500e-05\n",
            "Epoch 75/200\n",
            "6/6 [==============================] - 1s 269ms/step - loss: 0.0341 - root_mean_squared_error: 0.1846 - val_loss: 0.0347 - val_root_mean_squared_error: 0.1863 - lr: 6.2500e-05\n",
            "Epoch 76/200\n",
            "6/6 [==============================] - 2s 288ms/step - loss: 0.0341 - root_mean_squared_error: 0.1846 - val_loss: 0.0347 - val_root_mean_squared_error: 0.1863 - lr: 6.2500e-05\n",
            "Epoch 77/200\n",
            "6/6 [==============================] - 1s 243ms/step - loss: 0.0341 - root_mean_squared_error: 0.1846 - val_loss: 0.0347 - val_root_mean_squared_error: 0.1863 - lr: 6.2500e-05\n",
            "Epoch 78/200\n",
            "6/6 [==============================] - 1s 234ms/step - loss: 0.0341 - root_mean_squared_error: 0.1846 - val_loss: 0.0347 - val_root_mean_squared_error: 0.1863 - lr: 6.2500e-05\n",
            "Epoch 79/200\n",
            "6/6 [==============================] - 1s 251ms/step - loss: 0.0341 - root_mean_squared_error: 0.1846 - val_loss: 0.0347 - val_root_mean_squared_error: 0.1863 - lr: 6.2500e-05\n",
            "Epoch 80/200\n",
            "6/6 [==============================] - 1s 251ms/step - loss: 0.0341 - root_mean_squared_error: 0.1846 - val_loss: 0.0347 - val_root_mean_squared_error: 0.1863 - lr: 6.2500e-05\n",
            "Epoch 81/200\n",
            "6/6 [==============================] - 1s 232ms/step - loss: 0.0341 - root_mean_squared_error: 0.1846 - val_loss: 0.0347 - val_root_mean_squared_error: 0.1863 - lr: 6.2500e-05\n",
            "Epoch 82/200\n",
            "6/6 [==============================] - 1s 238ms/step - loss: 0.0341 - root_mean_squared_error: 0.1846 - val_loss: 0.0347 - val_root_mean_squared_error: 0.1863 - lr: 6.2500e-05\n",
            "Epoch 83/200\n",
            "6/6 [==============================] - 1s 256ms/step - loss: 0.0341 - root_mean_squared_error: 0.1846 - val_loss: 0.0347 - val_root_mean_squared_error: 0.1863 - lr: 6.2500e-05\n",
            "Epoch 84/200\n",
            "6/6 [==============================] - 1s 234ms/step - loss: 0.0341 - root_mean_squared_error: 0.1846 - val_loss: 0.0347 - val_root_mean_squared_error: 0.1863 - lr: 3.1250e-05\n",
            "Epoch 85/200\n",
            "6/6 [==============================] - 2s 417ms/step - loss: 0.0341 - root_mean_squared_error: 0.1846 - val_loss: 0.0347 - val_root_mean_squared_error: 0.1863 - lr: 3.1250e-05\n",
            "Epoch 86/200\n",
            "6/6 [==============================] - 1s 236ms/step - loss: 0.0341 - root_mean_squared_error: 0.1846 - val_loss: 0.0347 - val_root_mean_squared_error: 0.1864 - lr: 3.1250e-05\n",
            "Epoch 87/200\n",
            "6/6 [==============================] - 1s 225ms/step - loss: 0.0341 - root_mean_squared_error: 0.1846 - val_loss: 0.0347 - val_root_mean_squared_error: 0.1864 - lr: 3.1250e-05\n",
            "Epoch 88/200\n",
            "6/6 [==============================] - 1s 238ms/step - loss: 0.0341 - root_mean_squared_error: 0.1846 - val_loss: 0.0347 - val_root_mean_squared_error: 0.1864 - lr: 3.1250e-05\n",
            "Epoch 89/200\n",
            "6/6 [==============================] - 1s 224ms/step - loss: 0.0341 - root_mean_squared_error: 0.1846 - val_loss: 0.0347 - val_root_mean_squared_error: 0.1864 - lr: 3.1250e-05\n",
            "Epoch 90/200\n",
            "6/6 [==============================] - 1s 247ms/step - loss: 0.0341 - root_mean_squared_error: 0.1846 - val_loss: 0.0347 - val_root_mean_squared_error: 0.1864 - lr: 3.1250e-05\n",
            "Epoch 90: early stopping\n"
          ]
        }
      ]
    },
    {
      "cell_type": "markdown",
      "source": [
        "# **Testeamos el modelo**"
      ],
      "metadata": {
        "id": "3VjurbTHotw_"
      }
    },
    {
      "cell_type": "code",
      "source": [
        "# testeamos el mejor modelo\n",
        "\n",
        "model = keras.models.load_model('best_model.keras')\n",
        "\n",
        "test_loss, test_acc = model.evaluate((stat_test,dyn_test), target_test)\n",
        "\n",
        "print(f'Test accuracy: {test_acc}')\n",
        "print(f'Test loss: {test_loss}')\n"
      ],
      "metadata": {
        "id": "2ph-TzzVotTg",
        "colab": {
          "base_uri": "https://localhost:8080/"
        },
        "outputId": "48d820f7-d43b-46dc-8ff0-a55f16d5dfc8"
      },
      "execution_count": 8,
      "outputs": [
        {
          "output_type": "stream",
          "name": "stdout",
          "text": [
            "8/8 [==============================] - 1s 34ms/step - loss: 0.0391 - root_mean_squared_error: 0.1976\n",
            "Test accuracy: 0.1976364254951477\n",
            "Test loss: 0.03906015679240227\n"
          ]
        }
      ]
    },
    {
      "cell_type": "code",
      "source": [
        "# visualizamos el entrenamiento\n",
        "\n",
        "metric = 'root_mean_squared_error'\n",
        "\n",
        "plt.figure(figsize=(15,7))\n",
        "\n",
        "plt.plot(history.history[metric])\n",
        "plt.plot(history.history['val_' + metric])\n",
        "\n",
        "plt.title('model ' + metric)\n",
        "plt.ylabel(metric, fontsize='large')\n",
        "plt.xlabel('epoch', fontsize='large')\n",
        "plt.legend(['train', 'val'], loc='best')\n",
        "plt.show()\n",
        "plt.close()\n"
      ],
      "metadata": {
        "id": "mF2ugfJNoy_O",
        "colab": {
          "base_uri": "https://localhost:8080/",
          "height": 645
        },
        "outputId": "68d09d5a-684f-4309-9966-68dc9fed75b1"
      },
      "execution_count": 9,
      "outputs": [
        {
          "output_type": "display_data",
          "data": {
            "text/plain": [
              "<Figure size 1500x700 with 1 Axes>"
            ],
            "image/png": "[encoded data removed]"
          },
          "metadata": {}
        }
      ]
    },
    {
      "cell_type": "code",
      "source": [
        "# testeo con otras metricas\n",
        "\n",
        "pred_test=model.predict(x=(stat_test,dyn_test))\n"
      ],
      "metadata": {
        "colab": {
          "base_uri": "https://localhost:8080/"
        },
        "outputId": "4d5a4824-0ac9-4ebe-b8ce-2ded6e8ee910",
        "id": "zXeOEGJ32im4"
      },
      "execution_count": 10,
      "outputs": [
        {
          "output_type": "stream",
          "name": "stdout",
          "text": [
            "8/8 [==============================] - 0s 37ms/step\n"
          ]
        }
      ]
    },
    {
      "cell_type": "code",
      "source": [
        "# graficamos\n",
        "ae=target_test-pred_test\n",
        "\n",
        "\n",
        "# Calcular la media y la desviación estándar\n",
        "mean = np.mean(ae)\n",
        "std_dev = np.std(ae)\n",
        "\n",
        "plt.figure(figsize=(15,5))\n",
        "# Crear el histograma\n",
        "plt.hist(ae, bins=20, alpha=0.7, rwidth=0.85,label='Historigram')\n",
        "\n",
        "# Agregar las líneas verticales\n",
        "plt.axvline(mean, color='red', linestyle='dashed', linewidth=2,label='mean')\n",
        "plt.axvline(mean - 2*std_dev, color='green', linestyle='dashed', linewidth=2, label='mean - 2*std')\n",
        "plt.axvline(mean + 2*std_dev, color='green', linestyle='dashed', linewidth=2, label='mean + 2*std')\n",
        "\n",
        "# Configurar las etiquetas y el título\n",
        "plt.xlabel('Errores')\n",
        "plt.ylabel('Frecuencia')\n",
        "plt.title('Distribución del error absoluto')\n",
        "\n",
        "plt.legend(loc='upper left')\n",
        "# Mostrar el gráfico\n",
        "plt.show()\n",
        "print(f'Mean={np.round(mean,2)}')\n",
        "print(f'Mean-2*std={np.round(mean-2*std_dev,2)}')\n",
        "print(f'Mean+2*std={np.round(mean+2*std_dev,2)}')"
      ],
      "metadata": {
        "colab": {
          "base_uri": "https://localhost:8080/",
          "height": 539
        },
        "id": "q07w4aMJsLNe",
        "outputId": "c489814a-62c0-4386-a145-f1717ee4b461"
      },
      "execution_count": 11,
      "outputs": [
        {
          "output_type": "display_data",
          "data": {
            "text/plain": [
              "<Figure size 1500x500 with 1 Axes>"
            ],
            "image/png": "[encoded data removed]"
          },
          "metadata": {}
        },
        {
          "output_type": "stream",
          "name": "stdout",
          "text": [
            "Mean=0.0\n",
            "Mean-2*std=-0.39\n",
            "Mean+2*std=0.4\n"
          ]
        }
      ]
    },
    {
      "cell_type": "markdown",
      "source": [
        "# **Exportamos el modelo**"
      ],
      "metadata": {
        "id": "KaierivNgooW"
      }
    },
    {
      "cell_type": "code",
      "source": [
        "model.save(dir_data_kaggle+'/model_bi.keras')"
      ],
      "metadata": {
        "id": "5I9dBn_Sgrs7"
      },
      "execution_count": 12,
      "outputs": []
    }
  ]
}