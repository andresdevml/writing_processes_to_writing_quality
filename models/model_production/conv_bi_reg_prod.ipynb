{
  "nbformat": 4,
  "nbformat_minor": 0,
  "metadata": {
    "colab": {
      "provenance": []
    },
    "kernelspec": {
      "name": "python3",
      "display_name": "Python 3"
    },
    "language_info": {
      "name": "python"
    },
    "accelerator": "TPU"
  },
  "cells": [
    {
      "cell_type": "markdown",
      "source": [
        "# **Importamos librerias**"
      ],
      "metadata": {
        "id": "glLlsmN7OXJh"
      }
    },
    {
      "cell_type": "code",
      "execution_count": 1,
      "metadata": {
        "id": "NhT-k91tNqY0"
      },
      "outputs": [],
      "source": [
        "import tensorflow as tf\n",
        "import keras\n",
        "import numpy as np\n",
        "import pandas as pd\n",
        "import matplotlib.pyplot as plt\n",
        "from google.colab import drive"
      ]
    },
    {
      "cell_type": "markdown",
      "source": [
        "# **Activamos la TPU**"
      ],
      "metadata": {
        "id": "_Dp3sx55jdFu"
      }
    },
    {
      "cell_type": "code",
      "source": [
        "resolver = tf.distribute.cluster_resolver.TPUClusterResolver(tpu='')\n",
        "tf.config.experimental_connect_to_cluster(resolver)\n",
        "# This is the TPU initialization code that has to be at the beginning.\n",
        "tf.tpu.experimental.initialize_tpu_system(resolver)\n",
        "print(\"All devices: \", tf.config.list_logical_devices('TPU'))\n",
        "strategy = tf.distribute.TPUStrategy(resolver)"
      ],
      "metadata": {
        "colab": {
          "base_uri": "https://localhost:8080/"
        },
        "id": "2uF5ptQgjfhh",
        "outputId": "ec6ba65f-cf99-4f7b-e5e6-f71e52871b4e"
      },
      "execution_count": 2,
      "outputs": [
        {
          "output_type": "stream",
          "name": "stdout",
          "text": [
            "All devices:  [LogicalDevice(name='/job:worker/replica:0/task:0/device:TPU:0', device_type='TPU'), LogicalDevice(name='/job:worker/replica:0/task:0/device:TPU:1', device_type='TPU'), LogicalDevice(name='/job:worker/replica:0/task:0/device:TPU:2', device_type='TPU'), LogicalDevice(name='/job:worker/replica:0/task:0/device:TPU:3', device_type='TPU'), LogicalDevice(name='/job:worker/replica:0/task:0/device:TPU:4', device_type='TPU'), LogicalDevice(name='/job:worker/replica:0/task:0/device:TPU:5', device_type='TPU'), LogicalDevice(name='/job:worker/replica:0/task:0/device:TPU:6', device_type='TPU'), LogicalDevice(name='/job:worker/replica:0/task:0/device:TPU:7', device_type='TPU')]\n"
          ]
        }
      ]
    },
    {
      "cell_type": "markdown",
      "source": [
        "# **Importamos la data**"
      ],
      "metadata": {
        "id": "3ejr_5-uO7CG"
      }
    },
    {
      "cell_type": "code",
      "source": [
        "\n",
        "# conectamos al drive\n",
        "drive.mount('/content/drive')\n",
        "\n",
        "# Definimos el directorio\n",
        "dir_data_kaggle='./drive/MyDrive/lwpwq/data'\n",
        "\n",
        "# extraemos la data\n",
        "\n",
        "dyn_train=np.load(dir_data_kaggle+'/dyn_train_data_prod.npy', allow_pickle=True)\n",
        "dyn_test=np.load(dir_data_kaggle+'/dyn_test_data_prod.npy', allow_pickle=True)\n",
        "\n",
        "\n",
        "stat_train=np.load(dir_data_kaggle+'/stat_train_data_prod.npy', allow_pickle=True)\n",
        "stat_test=np.load(dir_data_kaggle+'/stat_test_data_prod.npy', allow_pickle=True)\n",
        "\n",
        "\n",
        "target_train=np.load(dir_data_kaggle+'/target_train_data_prod.npy', allow_pickle=True)\n",
        "target_test=np.load(dir_data_kaggle+'/target_test_data_prod.npy', allow_pickle=True)\n"
      ],
      "metadata": {
        "id": "-dA8ma1dO6aO",
        "colab": {
          "base_uri": "https://localhost:8080/"
        },
        "outputId": "de516904-db72-47aa-b03b-38278a58194c"
      },
      "execution_count": 3,
      "outputs": [
        {
          "output_type": "stream",
          "name": "stdout",
          "text": [
            "Mounted at /content/drive\n"
          ]
        }
      ]
    },
    {
      "cell_type": "markdown",
      "source": [
        "# **Acomodamos la data**"
      ],
      "metadata": {
        "id": "nEuK5vkIaB3R"
      }
    },
    {
      "cell_type": "code",
      "source": [
        "# escalamos la data\n",
        "\n",
        "target_train=(target_train-0.5)/5.5\n",
        "\n",
        "target_test=(target_test-0.5)/5.5"
      ],
      "metadata": {
        "id": "wJkP69IoaGna"
      },
      "execution_count": 4,
      "outputs": []
    },
    {
      "cell_type": "markdown",
      "source": [
        "# **Construimos el modelo**"
      ],
      "metadata": {
        "id": "8n5m_IGnWBEi"
      }
    },
    {
      "cell_type": "code",
      "source": [
        "# definimos las dimensiones\n",
        "\n",
        "stat_input_shape=stat_train.shape[1]\n",
        "dyn_input_shape=dyn_train.shape[1:]\n",
        "\n",
        "with strategy.scope():\n",
        "\n",
        "\n",
        "  input_stat= tf.keras.layers.Input(stat_input_shape)\n",
        "  input_dyn= tf.keras.layers.Input(dyn_input_shape)\n",
        "\n",
        "  masking_layer=keras.layers.Masking(mask_value=-1)\n",
        "\n",
        "  masking_dyn=masking_layer(input_dyn)\n",
        "\n",
        "  conv_layers= tf.keras.Sequential([\n",
        "\n",
        "  keras.layers.Conv1D(filters=64, kernel_size=3, padding='same'),\n",
        "  keras.layers.BatchNormalization(),\n",
        "  keras.layers.ReLU(),\n",
        "\n",
        "  keras.layers.Conv1D(filters=64, kernel_size=3, padding='same'),\n",
        "  keras.layers.BatchNormalization(),\n",
        "  keras.layers.ReLU(),\n",
        "\n",
        "  keras.layers.GlobalAveragePooling1D(),\n",
        "\n",
        "                                                               ])\n",
        "  conv_stack=conv_layers(masking_dyn)\n",
        "\n",
        "\n",
        "  concat = tf.keras.layers.concatenate([input_stat, conv_stack])\n",
        "\n",
        "  dense_1=keras.layers.Dense(units=8, activation='sigmoid')(concat)\n",
        "\n",
        "  dense_2= keras.layers.Dense(units=8, activation='sigmoid')(dense_1)\n",
        "\n",
        "  output=  keras.layers.Dense(units=1, activation='sigmoid')(dense_2)\n",
        "\n",
        "  model = tf.keras.Model(inputs=[input_stat, input_dyn], outputs=[output])\n",
        "\n",
        "\n",
        "  # compilamos\n",
        "\n",
        "  model.compile(\n",
        "    optimizer='rmsprop',\n",
        "    loss=keras.losses.MeanSquaredError(),\n",
        "    metrics=[keras.metrics.RootMeanSquaredError()],\n",
        "      )\n"
      ],
      "metadata": {
        "id": "hNYv3YX4WKSJ"
      },
      "execution_count": 5,
      "outputs": []
    },
    {
      "cell_type": "code",
      "source": [
        "# definimos algunos parametros de entrenamiento\n",
        "\n",
        "epochs = 200\n",
        "batch_size = 320\n",
        "\n",
        "callbacks = [\n",
        "    keras.callbacks.ModelCheckpoint(\n",
        "        'best_model.keras', save_best_only=True, monitor='val_loss'),\n",
        "\n",
        "    keras.callbacks.ReduceLROnPlateau(\n",
        "        monitor='val_loss', factor=0.5, patience=10, min_lr=10e-8),\n",
        "\n",
        "    keras.callbacks.EarlyStopping(monitor='val_loss', patience=20, verbose=1),\n",
        "]\n"
      ],
      "metadata": {
        "id": "2FialyiZobIW"
      },
      "execution_count": 6,
      "outputs": []
    },
    {
      "cell_type": "code",
      "source": [
        "\n",
        "\n",
        "# entrenamos\n",
        "\n",
        "history = model.fit(\n",
        "    x=(stat_train,dyn_train),\n",
        "    y=target_train,\n",
        "    batch_size=batch_size,\n",
        "    epochs=epochs,\n",
        "    callbacks=callbacks,\n",
        "    validation_split=0.2,\n",
        "    verbose=1,\n",
        ")"
      ],
      "metadata": {
        "id": "GtMa72eXoege",
        "colab": {
          "base_uri": "https://localhost:8080/"
        },
        "outputId": "a08be2a8-531b-45d6-89e9-c41c993635b2"
      },
      "execution_count": 7,
      "outputs": [
        {
          "output_type": "stream",
          "name": "stdout",
          "text": [
            "Epoch 1/200\n",
            "6/6 [==============================] - 18s 2s/step - loss: 0.0962 - root_mean_squared_error: 0.3101 - val_loss: 0.0944 - val_root_mean_squared_error: 0.3072 - lr: 0.0010\n",
            "Epoch 2/200\n",
            "6/6 [==============================] - 1s 278ms/step - loss: 0.0832 - root_mean_squared_error: 0.2885 - val_loss: 0.0880 - val_root_mean_squared_error: 0.2967 - lr: 0.0010\n",
            "Epoch 3/200\n",
            "6/6 [==============================] - 2s 378ms/step - loss: 0.0750 - root_mean_squared_error: 0.2738 - val_loss: 0.0827 - val_root_mean_squared_error: 0.2875 - lr: 0.0010\n",
            "Epoch 4/200\n",
            "6/6 [==============================] - 2s 294ms/step - loss: 0.0683 - root_mean_squared_error: 0.2614 - val_loss: 0.0777 - val_root_mean_squared_error: 0.2787 - lr: 0.0010\n",
            "Epoch 5/200\n",
            "6/6 [==============================] - 2s 314ms/step - loss: 0.0625 - root_mean_squared_error: 0.2500 - val_loss: 0.0730 - val_root_mean_squared_error: 0.2702 - lr: 0.0010\n",
            "Epoch 6/200\n",
            "6/6 [==============================] - 2s 352ms/step - loss: 0.0574 - root_mean_squared_error: 0.2396 - val_loss: 0.0686 - val_root_mean_squared_error: 0.2619 - lr: 0.0010\n",
            "Epoch 7/200\n",
            "6/6 [==============================] - 2s 298ms/step - loss: 0.0530 - root_mean_squared_error: 0.2303 - val_loss: 0.0645 - val_root_mean_squared_error: 0.2539 - lr: 0.0010\n",
            "Epoch 8/200\n",
            "6/6 [==============================] - 2s 342ms/step - loss: 0.0493 - root_mean_squared_error: 0.2220 - val_loss: 0.0606 - val_root_mean_squared_error: 0.2463 - lr: 0.0010\n",
            "Epoch 9/200\n",
            "6/6 [==============================] - 3s 512ms/step - loss: 0.0461 - root_mean_squared_error: 0.2146 - val_loss: 0.0570 - val_root_mean_squared_error: 0.2388 - lr: 0.0010\n",
            "Epoch 10/200\n",
            "6/6 [==============================] - 2s 285ms/step - loss: 0.0433 - root_mean_squared_error: 0.2080 - val_loss: 0.0537 - val_root_mean_squared_error: 0.2317 - lr: 0.0010\n",
            "Epoch 11/200\n",
            "6/6 [==============================] - 2s 296ms/step - loss: 0.0409 - root_mean_squared_error: 0.2023 - val_loss: 0.0507 - val_root_mean_squared_error: 0.2252 - lr: 0.0010\n",
            "Epoch 12/200\n",
            "6/6 [==============================] - 2s 316ms/step - loss: 0.0390 - root_mean_squared_error: 0.1976 - val_loss: 0.0480 - val_root_mean_squared_error: 0.2192 - lr: 0.0010\n",
            "Epoch 13/200\n",
            "6/6 [==============================] - 2s 342ms/step - loss: 0.0375 - root_mean_squared_error: 0.1937 - val_loss: 0.0457 - val_root_mean_squared_error: 0.2137 - lr: 0.0010\n",
            "Epoch 14/200\n",
            "6/6 [==============================] - 1s 272ms/step - loss: 0.0364 - root_mean_squared_error: 0.1907 - val_loss: 0.0437 - val_root_mean_squared_error: 0.2090 - lr: 0.0010\n",
            "Epoch 15/200\n",
            "6/6 [==============================] - 1s 265ms/step - loss: 0.0355 - root_mean_squared_error: 0.1885 - val_loss: 0.0420 - val_root_mean_squared_error: 0.2049 - lr: 0.0010\n",
            "Epoch 16/200\n",
            "6/6 [==============================] - 1s 274ms/step - loss: 0.0349 - root_mean_squared_error: 0.1869 - val_loss: 0.0407 - val_root_mean_squared_error: 0.2017 - lr: 0.0010\n",
            "Epoch 17/200\n",
            "6/6 [==============================] - 1s 284ms/step - loss: 0.0345 - root_mean_squared_error: 0.1858 - val_loss: 0.0396 - val_root_mean_squared_error: 0.1990 - lr: 0.0010\n",
            "Epoch 18/200\n",
            "6/6 [==============================] - 1s 274ms/step - loss: 0.0343 - root_mean_squared_error: 0.1852 - val_loss: 0.0388 - val_root_mean_squared_error: 0.1970 - lr: 0.0010\n",
            "Epoch 19/200\n",
            "6/6 [==============================] - 1s 270ms/step - loss: 0.0342 - root_mean_squared_error: 0.1849 - val_loss: 0.0382 - val_root_mean_squared_error: 0.1956 - lr: 0.0010\n",
            "Epoch 20/200\n",
            "6/6 [==============================] - 1s 283ms/step - loss: 0.0341 - root_mean_squared_error: 0.1848 - val_loss: 0.0378 - val_root_mean_squared_error: 0.1943 - lr: 0.0010\n",
            "Epoch 21/200\n",
            "6/6 [==============================] - 2s 323ms/step - loss: 0.0341 - root_mean_squared_error: 0.1847 - val_loss: 0.0375 - val_root_mean_squared_error: 0.1938 - lr: 0.0010\n",
            "Epoch 22/200\n",
            "6/6 [==============================] - 2s 403ms/step - loss: 0.0341 - root_mean_squared_error: 0.1847 - val_loss: 0.0375 - val_root_mean_squared_error: 0.1936 - lr: 0.0010\n",
            "Epoch 23/200\n",
            "6/6 [==============================] - 2s 288ms/step - loss: 0.0341 - root_mean_squared_error: 0.1848 - val_loss: 0.0373 - val_root_mean_squared_error: 0.1932 - lr: 0.0010\n",
            "Epoch 24/200\n",
            "6/6 [==============================] - 1s 268ms/step - loss: 0.0341 - root_mean_squared_error: 0.1847 - val_loss: 0.0371 - val_root_mean_squared_error: 0.1925 - lr: 0.0010\n",
            "Epoch 25/200\n",
            "6/6 [==============================] - 1s 272ms/step - loss: 0.0341 - root_mean_squared_error: 0.1847 - val_loss: 0.0371 - val_root_mean_squared_error: 0.1925 - lr: 0.0010\n",
            "Epoch 26/200\n",
            "6/6 [==============================] - 1s 268ms/step - loss: 0.0341 - root_mean_squared_error: 0.1847 - val_loss: 0.0370 - val_root_mean_squared_error: 0.1923 - lr: 0.0010\n",
            "Epoch 27/200\n",
            "6/6 [==============================] - 1s 279ms/step - loss: 0.0341 - root_mean_squared_error: 0.1847 - val_loss: 0.0369 - val_root_mean_squared_error: 0.1921 - lr: 0.0010\n",
            "Epoch 28/200\n",
            "6/6 [==============================] - 1s 258ms/step - loss: 0.0341 - root_mean_squared_error: 0.1847 - val_loss: 0.0370 - val_root_mean_squared_error: 0.1924 - lr: 0.0010\n",
            "Epoch 29/200\n",
            "6/6 [==============================] - 2s 314ms/step - loss: 0.0341 - root_mean_squared_error: 0.1847 - val_loss: 0.0367 - val_root_mean_squared_error: 0.1917 - lr: 0.0010\n",
            "Epoch 30/200\n",
            "6/6 [==============================] - 2s 294ms/step - loss: 0.0341 - root_mean_squared_error: 0.1847 - val_loss: 0.0366 - val_root_mean_squared_error: 0.1912 - lr: 0.0010\n",
            "Epoch 31/200\n",
            "6/6 [==============================] - 1s 275ms/step - loss: 0.0341 - root_mean_squared_error: 0.1847 - val_loss: 0.0365 - val_root_mean_squared_error: 0.1910 - lr: 0.0010\n",
            "Epoch 32/200\n",
            "6/6 [==============================] - 1s 238ms/step - loss: 0.0341 - root_mean_squared_error: 0.1847 - val_loss: 0.0368 - val_root_mean_squared_error: 0.1918 - lr: 0.0010\n",
            "Epoch 33/200\n",
            "6/6 [==============================] - 1s 247ms/step - loss: 0.0341 - root_mean_squared_error: 0.1847 - val_loss: 0.0366 - val_root_mean_squared_error: 0.1912 - lr: 0.0010\n",
            "Epoch 34/200\n",
            "6/6 [==============================] - 1s 236ms/step - loss: 0.0341 - root_mean_squared_error: 0.1847 - val_loss: 0.0365 - val_root_mean_squared_error: 0.1911 - lr: 0.0010\n",
            "Epoch 35/200\n",
            "6/6 [==============================] - 1s 271ms/step - loss: 0.0341 - root_mean_squared_error: 0.1847 - val_loss: 0.0364 - val_root_mean_squared_error: 0.1908 - lr: 0.0010\n",
            "Epoch 36/200\n",
            "6/6 [==============================] - 1s 236ms/step - loss: 0.0341 - root_mean_squared_error: 0.1847 - val_loss: 0.0364 - val_root_mean_squared_error: 0.1909 - lr: 0.0010\n",
            "Epoch 37/200\n",
            "6/6 [==============================] - 2s 293ms/step - loss: 0.0341 - root_mean_squared_error: 0.1847 - val_loss: 0.0362 - val_root_mean_squared_error: 0.1903 - lr: 0.0010\n",
            "Epoch 38/200\n",
            "6/6 [==============================] - 1s 283ms/step - loss: 0.0341 - root_mean_squared_error: 0.1847 - val_loss: 0.0365 - val_root_mean_squared_error: 0.1910 - lr: 0.0010\n",
            "Epoch 39/200\n",
            "6/6 [==============================] - 1s 257ms/step - loss: 0.0341 - root_mean_squared_error: 0.1847 - val_loss: 0.0364 - val_root_mean_squared_error: 0.1907 - lr: 0.0010\n",
            "Epoch 40/200\n",
            "6/6 [==============================] - 2s 410ms/step - loss: 0.0341 - root_mean_squared_error: 0.1847 - val_loss: 0.0360 - val_root_mean_squared_error: 0.1896 - lr: 0.0010\n",
            "Epoch 41/200\n",
            "6/6 [==============================] - 1s 274ms/step - loss: 0.0341 - root_mean_squared_error: 0.1847 - val_loss: 0.0359 - val_root_mean_squared_error: 0.1895 - lr: 0.0010\n",
            "Epoch 42/200\n",
            "6/6 [==============================] - 1s 242ms/step - loss: 0.0341 - root_mean_squared_error: 0.1847 - val_loss: 0.0360 - val_root_mean_squared_error: 0.1898 - lr: 0.0010\n",
            "Epoch 43/200\n",
            "6/6 [==============================] - 2s 287ms/step - loss: 0.0341 - root_mean_squared_error: 0.1846 - val_loss: 0.0358 - val_root_mean_squared_error: 0.1893 - lr: 0.0010\n",
            "Epoch 44/200\n",
            "6/6 [==============================] - 1s 237ms/step - loss: 0.0341 - root_mean_squared_error: 0.1847 - val_loss: 0.0359 - val_root_mean_squared_error: 0.1894 - lr: 0.0010\n",
            "Epoch 45/200\n",
            "6/6 [==============================] - 2s 286ms/step - loss: 0.0341 - root_mean_squared_error: 0.1846 - val_loss: 0.0357 - val_root_mean_squared_error: 0.1890 - lr: 0.0010\n",
            "Epoch 46/200\n",
            "6/6 [==============================] - 1s 276ms/step - loss: 0.0341 - root_mean_squared_error: 0.1847 - val_loss: 0.0358 - val_root_mean_squared_error: 0.1891 - lr: 0.0010\n",
            "Epoch 47/200\n",
            "6/6 [==============================] - 2s 290ms/step - loss: 0.0341 - root_mean_squared_error: 0.1846 - val_loss: 0.0358 - val_root_mean_squared_error: 0.1893 - lr: 0.0010\n",
            "Epoch 48/200\n",
            "6/6 [==============================] - 1s 244ms/step - loss: 0.0341 - root_mean_squared_error: 0.1846 - val_loss: 0.0357 - val_root_mean_squared_error: 0.1890 - lr: 0.0010\n",
            "Epoch 49/200\n",
            "6/6 [==============================] - 1s 273ms/step - loss: 0.0341 - root_mean_squared_error: 0.1847 - val_loss: 0.0355 - val_root_mean_squared_error: 0.1884 - lr: 0.0010\n",
            "Epoch 50/200\n",
            "6/6 [==============================] - 1s 247ms/step - loss: 0.0341 - root_mean_squared_error: 0.1847 - val_loss: 0.0355 - val_root_mean_squared_error: 0.1885 - lr: 0.0010\n",
            "Epoch 51/200\n",
            "6/6 [==============================] - 1s 281ms/step - loss: 0.0341 - root_mean_squared_error: 0.1847 - val_loss: 0.0354 - val_root_mean_squared_error: 0.1882 - lr: 0.0010\n",
            "Epoch 52/200\n",
            "6/6 [==============================] - 1s 270ms/step - loss: 0.0341 - root_mean_squared_error: 0.1847 - val_loss: 0.0354 - val_root_mean_squared_error: 0.1882 - lr: 0.0010\n",
            "Epoch 53/200\n",
            "6/6 [==============================] - 1s 268ms/step - loss: 0.0341 - root_mean_squared_error: 0.1847 - val_loss: 0.0354 - val_root_mean_squared_error: 0.1881 - lr: 0.0010\n",
            "Epoch 54/200\n",
            "6/6 [==============================] - 1s 251ms/step - loss: 0.0341 - root_mean_squared_error: 0.1847 - val_loss: 0.0355 - val_root_mean_squared_error: 0.1884 - lr: 0.0010\n",
            "Epoch 55/200\n",
            "6/6 [==============================] - 1s 283ms/step - loss: 0.0341 - root_mean_squared_error: 0.1846 - val_loss: 0.0355 - val_root_mean_squared_error: 0.1884 - lr: 0.0010\n",
            "Epoch 56/200\n",
            "6/6 [==============================] - 1s 269ms/step - loss: 0.0341 - root_mean_squared_error: 0.1847 - val_loss: 0.0354 - val_root_mean_squared_error: 0.1882 - lr: 0.0010\n",
            "Epoch 57/200\n",
            "6/6 [==============================] - 1s 240ms/step - loss: 0.0341 - root_mean_squared_error: 0.1847 - val_loss: 0.0354 - val_root_mean_squared_error: 0.1882 - lr: 0.0010\n",
            "Epoch 58/200\n",
            "6/6 [==============================] - 1s 279ms/step - loss: 0.0341 - root_mean_squared_error: 0.1847 - val_loss: 0.0352 - val_root_mean_squared_error: 0.1876 - lr: 0.0010\n",
            "Epoch 59/200\n",
            "6/6 [==============================] - 1s 243ms/step - loss: 0.0341 - root_mean_squared_error: 0.1847 - val_loss: 0.0353 - val_root_mean_squared_error: 0.1878 - lr: 0.0010\n",
            "Epoch 60/200\n",
            "6/6 [==============================] - 1s 239ms/step - loss: 0.0341 - root_mean_squared_error: 0.1847 - val_loss: 0.0352 - val_root_mean_squared_error: 0.1876 - lr: 0.0010\n",
            "Epoch 61/200\n",
            "6/6 [==============================] - 1s 277ms/step - loss: 0.0341 - root_mean_squared_error: 0.1847 - val_loss: 0.0351 - val_root_mean_squared_error: 0.1875 - lr: 0.0010\n",
            "Epoch 62/200\n",
            "6/6 [==============================] - 1s 240ms/step - loss: 0.0341 - root_mean_squared_error: 0.1847 - val_loss: 0.0352 - val_root_mean_squared_error: 0.1876 - lr: 0.0010\n",
            "Epoch 63/200\n",
            "6/6 [==============================] - 1s 286ms/step - loss: 0.0341 - root_mean_squared_error: 0.1847 - val_loss: 0.0351 - val_root_mean_squared_error: 0.1873 - lr: 0.0010\n",
            "Epoch 64/200\n",
            "6/6 [==============================] - 2s 484ms/step - loss: 0.0341 - root_mean_squared_error: 0.1846 - val_loss: 0.0351 - val_root_mean_squared_error: 0.1873 - lr: 0.0010\n",
            "Epoch 65/200\n",
            "6/6 [==============================] - 1s 246ms/step - loss: 0.0341 - root_mean_squared_error: 0.1846 - val_loss: 0.0352 - val_root_mean_squared_error: 0.1875 - lr: 0.0010\n",
            "Epoch 66/200\n",
            "6/6 [==============================] - 1s 276ms/step - loss: 0.0341 - root_mean_squared_error: 0.1847 - val_loss: 0.0350 - val_root_mean_squared_error: 0.1871 - lr: 0.0010\n",
            "Epoch 67/200\n",
            "6/6 [==============================] - 1s 253ms/step - loss: 0.0341 - root_mean_squared_error: 0.1847 - val_loss: 0.0351 - val_root_mean_squared_error: 0.1873 - lr: 0.0010\n",
            "Epoch 68/200\n",
            "6/6 [==============================] - 1s 268ms/step - loss: 0.0341 - root_mean_squared_error: 0.1846 - val_loss: 0.0350 - val_root_mean_squared_error: 0.1870 - lr: 0.0010\n",
            "Epoch 69/200\n",
            "6/6 [==============================] - 1s 265ms/step - loss: 0.0341 - root_mean_squared_error: 0.1847 - val_loss: 0.0350 - val_root_mean_squared_error: 0.1870 - lr: 0.0010\n",
            "Epoch 70/200\n",
            "6/6 [==============================] - 1s 239ms/step - loss: 0.0341 - root_mean_squared_error: 0.1846 - val_loss: 0.0351 - val_root_mean_squared_error: 0.1872 - lr: 0.0010\n",
            "Epoch 71/200\n",
            "6/6 [==============================] - 1s 247ms/step - loss: 0.0341 - root_mean_squared_error: 0.1846 - val_loss: 0.0350 - val_root_mean_squared_error: 0.1870 - lr: 0.0010\n",
            "Epoch 72/200\n",
            "6/6 [==============================] - 1s 283ms/step - loss: 0.0341 - root_mean_squared_error: 0.1847 - val_loss: 0.0350 - val_root_mean_squared_error: 0.1871 - lr: 0.0010\n",
            "Epoch 73/200\n",
            "6/6 [==============================] - 1s 275ms/step - loss: 0.0341 - root_mean_squared_error: 0.1847 - val_loss: 0.0350 - val_root_mean_squared_error: 0.1870 - lr: 0.0010\n",
            "Epoch 74/200\n",
            "6/6 [==============================] - 1s 271ms/step - loss: 0.0341 - root_mean_squared_error: 0.1847 - val_loss: 0.0349 - val_root_mean_squared_error: 0.1869 - lr: 0.0010\n",
            "Epoch 75/200\n",
            "6/6 [==============================] - 1s 243ms/step - loss: 0.0341 - root_mean_squared_error: 0.1846 - val_loss: 0.0350 - val_root_mean_squared_error: 0.1870 - lr: 0.0010\n",
            "Epoch 76/200\n",
            "6/6 [==============================] - 1s 261ms/step - loss: 0.0341 - root_mean_squared_error: 0.1847 - val_loss: 0.0348 - val_root_mean_squared_error: 0.1867 - lr: 0.0010\n",
            "Epoch 77/200\n",
            "6/6 [==============================] - 1s 265ms/step - loss: 0.0341 - root_mean_squared_error: 0.1847 - val_loss: 0.0348 - val_root_mean_squared_error: 0.1866 - lr: 0.0010\n",
            "Epoch 78/200\n",
            "6/6 [==============================] - 1s 232ms/step - loss: 0.0341 - root_mean_squared_error: 0.1847 - val_loss: 0.0349 - val_root_mean_squared_error: 0.1868 - lr: 0.0010\n",
            "Epoch 79/200\n",
            "6/6 [==============================] - 1s 234ms/step - loss: 0.0341 - root_mean_squared_error: 0.1846 - val_loss: 0.0349 - val_root_mean_squared_error: 0.1868 - lr: 0.0010\n",
            "Epoch 80/200\n",
            "6/6 [==============================] - 1s 243ms/step - loss: 0.0341 - root_mean_squared_error: 0.1846 - val_loss: 0.0349 - val_root_mean_squared_error: 0.1868 - lr: 0.0010\n",
            "Epoch 81/200\n",
            "6/6 [==============================] - 1s 284ms/step - loss: 0.0341 - root_mean_squared_error: 0.1847 - val_loss: 0.0349 - val_root_mean_squared_error: 0.1867 - lr: 0.0010\n",
            "Epoch 82/200\n",
            "6/6 [==============================] - 2s 438ms/step - loss: 0.0341 - root_mean_squared_error: 0.1847 - val_loss: 0.0349 - val_root_mean_squared_error: 0.1868 - lr: 0.0010\n",
            "Epoch 83/200\n",
            "6/6 [==============================] - 1s 236ms/step - loss: 0.0341 - root_mean_squared_error: 0.1847 - val_loss: 0.0349 - val_root_mean_squared_error: 0.1868 - lr: 0.0010\n",
            "Epoch 84/200\n",
            "6/6 [==============================] - 1s 239ms/step - loss: 0.0341 - root_mean_squared_error: 0.1846 - val_loss: 0.0349 - val_root_mean_squared_error: 0.1868 - lr: 0.0010\n",
            "Epoch 85/200\n",
            "6/6 [==============================] - 1s 262ms/step - loss: 0.0341 - root_mean_squared_error: 0.1846 - val_loss: 0.0348 - val_root_mean_squared_error: 0.1866 - lr: 0.0010\n",
            "Epoch 86/200\n",
            "6/6 [==============================] - 1s 232ms/step - loss: 0.0341 - root_mean_squared_error: 0.1846 - val_loss: 0.0348 - val_root_mean_squared_error: 0.1866 - lr: 0.0010\n",
            "Epoch 87/200\n",
            "6/6 [==============================] - 1s 234ms/step - loss: 0.0341 - root_mean_squared_error: 0.1846 - val_loss: 0.0348 - val_root_mean_squared_error: 0.1866 - lr: 5.0000e-04\n",
            "Epoch 88/200\n",
            "6/6 [==============================] - 1s 242ms/step - loss: 0.0341 - root_mean_squared_error: 0.1846 - val_loss: 0.0348 - val_root_mean_squared_error: 0.1866 - lr: 5.0000e-04\n",
            "Epoch 89/200\n",
            "6/6 [==============================] - 1s 229ms/step - loss: 0.0341 - root_mean_squared_error: 0.1846 - val_loss: 0.0348 - val_root_mean_squared_error: 0.1866 - lr: 5.0000e-04\n",
            "Epoch 90/200\n",
            "6/6 [==============================] - 1s 269ms/step - loss: 0.0341 - root_mean_squared_error: 0.1847 - val_loss: 0.0348 - val_root_mean_squared_error: 0.1867 - lr: 5.0000e-04\n",
            "Epoch 91/200\n",
            "6/6 [==============================] - 1s 274ms/step - loss: 0.0341 - root_mean_squared_error: 0.1846 - val_loss: 0.0348 - val_root_mean_squared_error: 0.1867 - lr: 5.0000e-04\n",
            "Epoch 92/200\n",
            "6/6 [==============================] - 1s 237ms/step - loss: 0.0341 - root_mean_squared_error: 0.1846 - val_loss: 0.0348 - val_root_mean_squared_error: 0.1866 - lr: 5.0000e-04\n",
            "Epoch 93/200\n",
            "6/6 [==============================] - 1s 225ms/step - loss: 0.0341 - root_mean_squared_error: 0.1846 - val_loss: 0.0348 - val_root_mean_squared_error: 0.1866 - lr: 5.0000e-04\n",
            "Epoch 94/200\n",
            "6/6 [==============================] - 1s 257ms/step - loss: 0.0341 - root_mean_squared_error: 0.1846 - val_loss: 0.0348 - val_root_mean_squared_error: 0.1866 - lr: 5.0000e-04\n",
            "Epoch 95/200\n",
            "6/6 [==============================] - 1s 235ms/step - loss: 0.0341 - root_mean_squared_error: 0.1846 - val_loss: 0.0348 - val_root_mean_squared_error: 0.1866 - lr: 5.0000e-04\n",
            "Epoch 96/200\n",
            "6/6 [==============================] - 1s 270ms/step - loss: 0.0341 - root_mean_squared_error: 0.1846 - val_loss: 0.0348 - val_root_mean_squared_error: 0.1865 - lr: 5.0000e-04\n",
            "Epoch 97/200\n",
            "6/6 [==============================] - 1s 274ms/step - loss: 0.0341 - root_mean_squared_error: 0.1846 - val_loss: 0.0348 - val_root_mean_squared_error: 0.1865 - lr: 2.5000e-04\n",
            "Epoch 98/200\n",
            "6/6 [==============================] - 1s 226ms/step - loss: 0.0341 - root_mean_squared_error: 0.1846 - val_loss: 0.0348 - val_root_mean_squared_error: 0.1866 - lr: 2.5000e-04\n",
            "Epoch 99/200\n",
            "6/6 [==============================] - 1s 232ms/step - loss: 0.0341 - root_mean_squared_error: 0.1846 - val_loss: 0.0348 - val_root_mean_squared_error: 0.1865 - lr: 2.5000e-04\n",
            "Epoch 100/200\n",
            "6/6 [==============================] - 2s 464ms/step - loss: 0.0341 - root_mean_squared_error: 0.1846 - val_loss: 0.0348 - val_root_mean_squared_error: 0.1865 - lr: 2.5000e-04\n",
            "Epoch 101/200\n",
            "6/6 [==============================] - 1s 227ms/step - loss: 0.0341 - root_mean_squared_error: 0.1846 - val_loss: 0.0348 - val_root_mean_squared_error: 0.1865 - lr: 2.5000e-04\n",
            "Epoch 102/200\n",
            "6/6 [==============================] - 1s 239ms/step - loss: 0.0341 - root_mean_squared_error: 0.1846 - val_loss: 0.0348 - val_root_mean_squared_error: 0.1865 - lr: 2.5000e-04\n",
            "Epoch 103/200\n",
            "6/6 [==============================] - 1s 234ms/step - loss: 0.0341 - root_mean_squared_error: 0.1846 - val_loss: 0.0348 - val_root_mean_squared_error: 0.1865 - lr: 2.5000e-04\n",
            "Epoch 104/200\n",
            "6/6 [==============================] - 1s 233ms/step - loss: 0.0341 - root_mean_squared_error: 0.1846 - val_loss: 0.0348 - val_root_mean_squared_error: 0.1865 - lr: 2.5000e-04\n",
            "Epoch 105/200\n",
            "6/6 [==============================] - 1s 232ms/step - loss: 0.0341 - root_mean_squared_error: 0.1846 - val_loss: 0.0348 - val_root_mean_squared_error: 0.1865 - lr: 2.5000e-04\n",
            "Epoch 106/200\n",
            "6/6 [==============================] - 1s 277ms/step - loss: 0.0341 - root_mean_squared_error: 0.1846 - val_loss: 0.0348 - val_root_mean_squared_error: 0.1865 - lr: 2.5000e-04\n",
            "Epoch 107/200\n",
            "6/6 [==============================] - 1s 239ms/step - loss: 0.0341 - root_mean_squared_error: 0.1846 - val_loss: 0.0348 - val_root_mean_squared_error: 0.1865 - lr: 1.2500e-04\n",
            "Epoch 108/200\n",
            "6/6 [==============================] - 4s 851ms/step - loss: 0.0341 - root_mean_squared_error: 0.1846 - val_loss: 0.0348 - val_root_mean_squared_error: 0.1865 - lr: 1.2500e-04\n",
            "Epoch 109/200\n",
            "6/6 [==============================] - 4s 823ms/step - loss: 0.0341 - root_mean_squared_error: 0.1846 - val_loss: 0.0348 - val_root_mean_squared_error: 0.1865 - lr: 1.2500e-04\n",
            "Epoch 110/200\n",
            "6/6 [==============================] - 2s 474ms/step - loss: 0.0341 - root_mean_squared_error: 0.1846 - val_loss: 0.0348 - val_root_mean_squared_error: 0.1865 - lr: 1.2500e-04\n",
            "Epoch 111/200\n",
            "6/6 [==============================] - 2s 300ms/step - loss: 0.0341 - root_mean_squared_error: 0.1846 - val_loss: 0.0348 - val_root_mean_squared_error: 0.1865 - lr: 1.2500e-04\n",
            "Epoch 112/200\n",
            "6/6 [==============================] - 1s 254ms/step - loss: 0.0341 - root_mean_squared_error: 0.1846 - val_loss: 0.0348 - val_root_mean_squared_error: 0.1865 - lr: 1.2500e-04\n",
            "Epoch 113/200\n",
            "6/6 [==============================] - 1s 237ms/step - loss: 0.0341 - root_mean_squared_error: 0.1846 - val_loss: 0.0348 - val_root_mean_squared_error: 0.1865 - lr: 1.2500e-04\n",
            "Epoch 114/200\n",
            "6/6 [==============================] - 1s 266ms/step - loss: 0.0341 - root_mean_squared_error: 0.1846 - val_loss: 0.0348 - val_root_mean_squared_error: 0.1865 - lr: 1.2500e-04\n",
            "Epoch 115/200\n",
            "6/6 [==============================] - 1s 245ms/step - loss: 0.0341 - root_mean_squared_error: 0.1846 - val_loss: 0.0348 - val_root_mean_squared_error: 0.1865 - lr: 1.2500e-04\n",
            "Epoch 116/200\n",
            "6/6 [==============================] - 1s 282ms/step - loss: 0.0341 - root_mean_squared_error: 0.1846 - val_loss: 0.0348 - val_root_mean_squared_error: 0.1865 - lr: 1.2500e-04\n",
            "Epoch 117/200\n",
            "6/6 [==============================] - 2s 322ms/step - loss: 0.0341 - root_mean_squared_error: 0.1846 - val_loss: 0.0348 - val_root_mean_squared_error: 0.1865 - lr: 6.2500e-05\n",
            "Epoch 118/200\n",
            "6/6 [==============================] - 1s 240ms/step - loss: 0.0341 - root_mean_squared_error: 0.1846 - val_loss: 0.0348 - val_root_mean_squared_error: 0.1865 - lr: 6.2500e-05\n",
            "Epoch 119/200\n",
            "6/6 [==============================] - 1s 269ms/step - loss: 0.0341 - root_mean_squared_error: 0.1846 - val_loss: 0.0348 - val_root_mean_squared_error: 0.1865 - lr: 6.2500e-05\n",
            "Epoch 120/200\n",
            "6/6 [==============================] - 1s 273ms/step - loss: 0.0341 - root_mean_squared_error: 0.1846 - val_loss: 0.0348 - val_root_mean_squared_error: 0.1865 - lr: 6.2500e-05\n",
            "Epoch 121/200\n",
            "6/6 [==============================] - 1s 270ms/step - loss: 0.0341 - root_mean_squared_error: 0.1846 - val_loss: 0.0348 - val_root_mean_squared_error: 0.1865 - lr: 6.2500e-05\n",
            "Epoch 122/200\n",
            "6/6 [==============================] - 2s 389ms/step - loss: 0.0341 - root_mean_squared_error: 0.1846 - val_loss: 0.0348 - val_root_mean_squared_error: 0.1865 - lr: 6.2500e-05\n",
            "Epoch 123/200\n",
            "6/6 [==============================] - 1s 270ms/step - loss: 0.0341 - root_mean_squared_error: 0.1846 - val_loss: 0.0348 - val_root_mean_squared_error: 0.1865 - lr: 6.2500e-05\n",
            "Epoch 124/200\n",
            "6/6 [==============================] - 2s 287ms/step - loss: 0.0341 - root_mean_squared_error: 0.1846 - val_loss: 0.0348 - val_root_mean_squared_error: 0.1865 - lr: 6.2500e-05\n",
            "Epoch 125/200\n",
            "6/6 [==============================] - 2s 349ms/step - loss: 0.0341 - root_mean_squared_error: 0.1846 - val_loss: 0.0348 - val_root_mean_squared_error: 0.1865 - lr: 6.2500e-05\n",
            "Epoch 126/200\n",
            "6/6 [==============================] - 1s 239ms/step - loss: 0.0341 - root_mean_squared_error: 0.1846 - val_loss: 0.0348 - val_root_mean_squared_error: 0.1865 - lr: 6.2500e-05\n",
            "Epoch 127/200\n",
            "6/6 [==============================] - 1s 234ms/step - loss: 0.0341 - root_mean_squared_error: 0.1846 - val_loss: 0.0348 - val_root_mean_squared_error: 0.1865 - lr: 3.1250e-05\n",
            "Epoch 128/200\n",
            "6/6 [==============================] - 1s 239ms/step - loss: 0.0341 - root_mean_squared_error: 0.1846 - val_loss: 0.0348 - val_root_mean_squared_error: 0.1865 - lr: 3.1250e-05\n",
            "Epoch 129/200\n",
            "6/6 [==============================] - 1s 237ms/step - loss: 0.0341 - root_mean_squared_error: 0.1846 - val_loss: 0.0348 - val_root_mean_squared_error: 0.1865 - lr: 3.1250e-05\n",
            "Epoch 130/200\n",
            "6/6 [==============================] - 1s 245ms/step - loss: 0.0341 - root_mean_squared_error: 0.1846 - val_loss: 0.0348 - val_root_mean_squared_error: 0.1865 - lr: 3.1250e-05\n",
            "Epoch 131/200\n",
            "6/6 [==============================] - 1s 282ms/step - loss: 0.0341 - root_mean_squared_error: 0.1846 - val_loss: 0.0348 - val_root_mean_squared_error: 0.1865 - lr: 3.1250e-05\n",
            "Epoch 132/200\n",
            "6/6 [==============================] - 1s 245ms/step - loss: 0.0341 - root_mean_squared_error: 0.1846 - val_loss: 0.0348 - val_root_mean_squared_error: 0.1865 - lr: 3.1250e-05\n",
            "Epoch 133/200\n",
            "6/6 [==============================] - 1s 259ms/step - loss: 0.0341 - root_mean_squared_error: 0.1846 - val_loss: 0.0348 - val_root_mean_squared_error: 0.1865 - lr: 3.1250e-05\n",
            "Epoch 134/200\n",
            "6/6 [==============================] - 1s 280ms/step - loss: 0.0341 - root_mean_squared_error: 0.1846 - val_loss: 0.0348 - val_root_mean_squared_error: 0.1865 - lr: 3.1250e-05\n",
            "Epoch 135/200\n",
            "6/6 [==============================] - 1s 262ms/step - loss: 0.0341 - root_mean_squared_error: 0.1846 - val_loss: 0.0348 - val_root_mean_squared_error: 0.1865 - lr: 3.1250e-05\n",
            "Epoch 136/200\n",
            "6/6 [==============================] - 1s 231ms/step - loss: 0.0341 - root_mean_squared_error: 0.1846 - val_loss: 0.0348 - val_root_mean_squared_error: 0.1865 - lr: 3.1250e-05\n",
            "Epoch 137/200\n",
            "6/6 [==============================] - 1s 233ms/step - loss: 0.0341 - root_mean_squared_error: 0.1846 - val_loss: 0.0348 - val_root_mean_squared_error: 0.1865 - lr: 1.5625e-05\n",
            "Epoch 138/200\n",
            "6/6 [==============================] - 1s 230ms/step - loss: 0.0341 - root_mean_squared_error: 0.1846 - val_loss: 0.0348 - val_root_mean_squared_error: 0.1865 - lr: 1.5625e-05\n",
            "Epoch 139/200\n",
            "6/6 [==============================] - 1s 228ms/step - loss: 0.0341 - root_mean_squared_error: 0.1846 - val_loss: 0.0348 - val_root_mean_squared_error: 0.1865 - lr: 1.5625e-05\n",
            "Epoch 140/200\n",
            "6/6 [==============================] - 1s 230ms/step - loss: 0.0341 - root_mean_squared_error: 0.1846 - val_loss: 0.0348 - val_root_mean_squared_error: 0.1865 - lr: 1.5625e-05\n",
            "Epoch 141/200\n",
            "6/6 [==============================] - 1s 228ms/step - loss: 0.0341 - root_mean_squared_error: 0.1846 - val_loss: 0.0348 - val_root_mean_squared_error: 0.1865 - lr: 1.5625e-05\n",
            "Epoch 142/200\n",
            "6/6 [==============================] - 1s 239ms/step - loss: 0.0341 - root_mean_squared_error: 0.1846 - val_loss: 0.0348 - val_root_mean_squared_error: 0.1865 - lr: 1.5625e-05\n",
            "Epoch 143/200\n",
            "6/6 [==============================] - 2s 425ms/step - loss: 0.0341 - root_mean_squared_error: 0.1846 - val_loss: 0.0348 - val_root_mean_squared_error: 0.1865 - lr: 1.5625e-05\n",
            "Epoch 144/200\n",
            "6/6 [==============================] - 2s 290ms/step - loss: 0.0341 - root_mean_squared_error: 0.1846 - val_loss: 0.0348 - val_root_mean_squared_error: 0.1865 - lr: 1.5625e-05\n",
            "Epoch 145/200\n",
            "6/6 [==============================] - 1s 247ms/step - loss: 0.0341 - root_mean_squared_error: 0.1846 - val_loss: 0.0348 - val_root_mean_squared_error: 0.1865 - lr: 1.5625e-05\n",
            "Epoch 146/200\n",
            "6/6 [==============================] - 1s 252ms/step - loss: 0.0341 - root_mean_squared_error: 0.1846 - val_loss: 0.0348 - val_root_mean_squared_error: 0.1865 - lr: 1.5625e-05\n",
            "Epoch 147/200\n",
            "6/6 [==============================] - 1s 233ms/step - loss: 0.0341 - root_mean_squared_error: 0.1846 - val_loss: 0.0348 - val_root_mean_squared_error: 0.1865 - lr: 7.8125e-06\n",
            "Epoch 148/200\n",
            "6/6 [==============================] - 1s 233ms/step - loss: 0.0341 - root_mean_squared_error: 0.1846 - val_loss: 0.0348 - val_root_mean_squared_error: 0.1865 - lr: 7.8125e-06\n",
            "Epoch 149/200\n",
            "6/6 [==============================] - 1s 246ms/step - loss: 0.0341 - root_mean_squared_error: 0.1846 - val_loss: 0.0348 - val_root_mean_squared_error: 0.1865 - lr: 7.8125e-06\n",
            "Epoch 150/200\n",
            "6/6 [==============================] - 1s 239ms/step - loss: 0.0341 - root_mean_squared_error: 0.1846 - val_loss: 0.0348 - val_root_mean_squared_error: 0.1865 - lr: 7.8125e-06\n",
            "Epoch 151/200\n",
            "6/6 [==============================] - 1s 232ms/step - loss: 0.0341 - root_mean_squared_error: 0.1846 - val_loss: 0.0348 - val_root_mean_squared_error: 0.1865 - lr: 7.8125e-06\n",
            "Epoch 151: early stopping\n"
          ]
        }
      ]
    },
    {
      "cell_type": "markdown",
      "source": [
        "# **Testeamos el modelo**"
      ],
      "metadata": {
        "id": "3VjurbTHotw_"
      }
    },
    {
      "cell_type": "code",
      "source": [
        "# testeamos el mejor modelo\n",
        "\n",
        "model = keras.models.load_model('best_model.keras')\n",
        "\n",
        "test_loss, test_acc = model.evaluate((stat_test,dyn_test), target_test)\n",
        "\n",
        "print(f'Test accuracy: {test_acc}')\n",
        "print(f'Test loss: {test_loss}')\n"
      ],
      "metadata": {
        "id": "2ph-TzzVotTg",
        "colab": {
          "base_uri": "https://localhost:8080/"
        },
        "outputId": "01077123-4844-488c-f54b-48b2e5d6d536"
      },
      "execution_count": 8,
      "outputs": [
        {
          "output_type": "stream",
          "name": "stdout",
          "text": [
            "8/8 [==============================] - 1s 36ms/step - loss: 0.0400 - root_mean_squared_error: 0.2001\n",
            "Test accuracy: 0.20011572539806366\n",
            "Test loss: 0.04004630073904991\n"
          ]
        }
      ]
    },
    {
      "cell_type": "code",
      "source": [
        "# visualizamos el entrenamiento\n",
        "\n",
        "metric = 'root_mean_squared_error'\n",
        "\n",
        "plt.figure(figsize=(15,7))\n",
        "\n",
        "plt.plot(history.history[metric])\n",
        "plt.plot(history.history['val_' + metric])\n",
        "\n",
        "plt.title('model ' + metric)\n",
        "plt.ylabel(metric, fontsize='large')\n",
        "plt.xlabel('epoch', fontsize='large')\n",
        "plt.legend(['train', 'val'], loc='best')\n",
        "plt.show()\n",
        "plt.close()\n"
      ],
      "metadata": {
        "id": "mF2ugfJNoy_O",
        "colab": {
          "base_uri": "https://localhost:8080/",
          "height": 645
        },
        "outputId": "0c985458-e675-41e0-8386-dd465324baa9"
      },
      "execution_count": 9,
      "outputs": [
        {
          "output_type": "display_data",
          "data": {
            "text/plain": [
              "<Figure size 1500x700 with 1 Axes>"
            ],
            "image/png": "[encoded data removed]"
          },
          "metadata": {}
        }
      ]
    },
    {
      "cell_type": "code",
      "source": [
        "# testeo con otras metricas\n",
        "\n",
        "pred_test=model.predict(x=(stat_test,dyn_test))\n"
      ],
      "metadata": {
        "colab": {
          "base_uri": "https://localhost:8080/"
        },
        "outputId": "af169843-dddd-46ad-d538-4ec0bbbb9437",
        "id": "zXeOEGJ32im4"
      },
      "execution_count": 10,
      "outputs": [
        {
          "output_type": "stream",
          "name": "stdout",
          "text": [
            "8/8 [==============================] - 0s 35ms/step\n"
          ]
        }
      ]
    },
    {
      "cell_type": "code",
      "source": [
        "# graficamos\n",
        "ae=target_test-pred_test\n",
        "\n",
        "\n",
        "# Calcular la media y la desviación estándar\n",
        "mean = np.mean(ae)\n",
        "std_dev = np.std(ae)\n",
        "\n",
        "plt.figure(figsize=(15,5))\n",
        "# Crear el histograma\n",
        "plt.hist(ae, bins=20, alpha=0.7, rwidth=0.85,label='Historigram')\n",
        "\n",
        "# Agregar las líneas verticales\n",
        "plt.axvline(mean, color='red', linestyle='dashed', linewidth=2,label='mean')\n",
        "plt.axvline(mean - 2*std_dev, color='green', linestyle='dashed', linewidth=2, label='mean - 2*std')\n",
        "plt.axvline(mean + 2*std_dev, color='green', linestyle='dashed', linewidth=2, label='mean + 2*std')\n",
        "\n",
        "# Configurar las etiquetas y el título\n",
        "plt.xlabel('Errores')\n",
        "plt.ylabel('Frecuencia')\n",
        "plt.title('Distribución del error absoluto')\n",
        "\n",
        "plt.legend(loc='upper left')\n",
        "# Mostrar el gráfico\n",
        "plt.show()\n",
        "print(f'Mean={np.round(mean,2)}')\n",
        "print(f'Mean-2*std={np.round(mean-2*std_dev,2)}')\n",
        "print(f'Mean+2*std={np.round(mean+2*std_dev,2)}')"
      ],
      "metadata": {
        "colab": {
          "base_uri": "https://localhost:8080/",
          "height": 539
        },
        "id": "q07w4aMJsLNe",
        "outputId": "1ec48faa-27f8-44b3-8dac-af25b96eab2d"
      },
      "execution_count": 11,
      "outputs": [
        {
          "output_type": "display_data",
          "data": {
            "text/plain": [
              "<Figure size 1500x500 with 1 Axes>"
            ],
            "image/png": "[encoded data removed]"
          },
          "metadata": {}
        },
        {
          "output_type": "stream",
          "name": "stdout",
          "text": [
            "Mean=-0.0\n",
            "Mean-2*std=-0.4\n",
            "Mean+2*std=0.4\n"
          ]
        }
      ]
    },
    {
      "cell_type": "code",
      "source": [
        "# analicemos los cuantiles del error absoluto de la nota\n",
        "ae=np.absolute(ae)\n",
        "\n",
        "print(f'q10 = {np.round(np.quantile(ae,  0.10)*100,3)}  pts')\n",
        "print(f'q25 = {np.round(np.quantile(ae,  0.25)*100,3)}  pts')\n",
        "print(f'q50 = {np.round(np.quantile(ae,  0.50)*100,3)} pts')\n",
        "print(f'q70 = {np.round(np.quantile(ae,  0.70)*100,3)} pts')\n",
        "print(f'q90 = {np.round(np.quantile(ae,  0.90)*100,3)} pts')"
      ],
      "metadata": {
        "colab": {
          "base_uri": "https://localhost:8080/"
        },
        "id": "viV-fjP6Nejr",
        "outputId": "8094126b-c985-486a-ebd2-cd08b6a2a608"
      },
      "execution_count": 12,
      "outputs": [
        {
          "output_type": "stream",
          "name": "stdout",
          "text": [
            "q10 = 4.192  pts\n",
            "q25 = 4.975  pts\n",
            "q50 = 13.995 pts\n",
            "q70 = 22.572 pts\n",
            "q90 = 32.666 pts\n"
          ]
        }
      ]
    },
    {
      "cell_type": "markdown",
      "source": [
        "# **Exportamos el modelo**"
      ],
      "metadata": {
        "id": "KaierivNgooW"
      }
    },
    {
      "cell_type": "code",
      "source": [
        "model.save(dir_data_kaggle+'/model_bi.keras')"
      ],
      "metadata": {
        "id": "5I9dBn_Sgrs7"
      },
      "execution_count": 13,
      "outputs": []
    }
  ]
}