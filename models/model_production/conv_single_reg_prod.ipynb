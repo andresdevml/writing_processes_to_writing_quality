{
  "nbformat": 4,
  "nbformat_minor": 0,
  "metadata": {
    "colab": {
      "provenance": []
    },
    "kernelspec": {
      "name": "python3",
      "display_name": "Python 3"
    },
    "language_info": {
      "name": "python"
    },
    "accelerator": "TPU"
  },
  "cells": [
    {
      "cell_type": "markdown",
      "source": [
        "# **Importamos librerias**"
      ],
      "metadata": {
        "id": "glLlsmN7OXJh"
      }
    },
    {
      "cell_type": "code",
      "execution_count": 1,
      "metadata": {
        "id": "NhT-k91tNqY0"
      },
      "outputs": [],
      "source": [
        "import tensorflow as tf\n",
        "import keras\n",
        "import numpy as np\n",
        "import pandas as pd\n",
        "import matplotlib.pyplot as plt\n",
        "from google.colab import drive"
      ]
    },
    {
      "cell_type": "markdown",
      "source": [
        "# **Activamos la TPU**"
      ],
      "metadata": {
        "id": "A-vNx5jCroRJ"
      }
    },
    {
      "cell_type": "code",
      "source": [
        "resolver = tf.distribute.cluster_resolver.TPUClusterResolver(tpu='')\n",
        "tf.config.experimental_connect_to_cluster(resolver)\n",
        "# This is the TPU initialization code that has to be at the beginning.\n",
        "tf.tpu.experimental.initialize_tpu_system(resolver)\n",
        "print(\"All devices: \", tf.config.list_logical_devices('TPU'))\n",
        "strategy = tf.distribute.TPUStrategy(resolver)\n"
      ],
      "metadata": {
        "colab": {
          "base_uri": "https://localhost:8080/"
        },
        "id": "A9Myym5qrrvM",
        "outputId": "f37f102c-d203-400f-f260-0316fe58846c"
      },
      "execution_count": 2,
      "outputs": [
        {
          "output_type": "stream",
          "name": "stdout",
          "text": [
            "All devices:  [LogicalDevice(name='/job:worker/replica:0/task:0/device:TPU:0', device_type='TPU'), LogicalDevice(name='/job:worker/replica:0/task:0/device:TPU:1', device_type='TPU'), LogicalDevice(name='/job:worker/replica:0/task:0/device:TPU:2', device_type='TPU'), LogicalDevice(name='/job:worker/replica:0/task:0/device:TPU:3', device_type='TPU'), LogicalDevice(name='/job:worker/replica:0/task:0/device:TPU:4', device_type='TPU'), LogicalDevice(name='/job:worker/replica:0/task:0/device:TPU:5', device_type='TPU'), LogicalDevice(name='/job:worker/replica:0/task:0/device:TPU:6', device_type='TPU'), LogicalDevice(name='/job:worker/replica:0/task:0/device:TPU:7', device_type='TPU')]\n"
          ]
        }
      ]
    },
    {
      "cell_type": "markdown",
      "source": [
        "# **Importamos la data**"
      ],
      "metadata": {
        "id": "3ejr_5-uO7CG"
      }
    },
    {
      "cell_type": "code",
      "source": [
        "\n",
        "# conectamos al drive\n",
        "drive.mount('/content/drive')\n",
        "\n",
        "# Definimos el directorio\n",
        "dir_data_kaggle='./drive/MyDrive/lwpwq/data'\n",
        "\n",
        "# extraemos la data\n",
        "\n",
        "dyn_train=np.load(dir_data_kaggle+'/dyn_train_data_prod.npy', allow_pickle=True)\n",
        "dyn_test=np.load(dir_data_kaggle+'/dyn_test_data_prod.npy', allow_pickle=True)\n",
        "\n",
        "target_train=np.load(dir_data_kaggle+'/target_train_data_prod.npy', allow_pickle=True)\n",
        "target_test=np.load(dir_data_kaggle+'/target_test_data_prod.npy', allow_pickle=True)\n"
      ],
      "metadata": {
        "id": "-dA8ma1dO6aO",
        "colab": {
          "base_uri": "https://localhost:8080/"
        },
        "outputId": "6e09bb41-e3df-4482-aac4-a6e2f006b945"
      },
      "execution_count": 3,
      "outputs": [
        {
          "output_type": "stream",
          "name": "stdout",
          "text": [
            "Mounted at /content/drive\n"
          ]
        }
      ]
    },
    {
      "cell_type": "markdown",
      "source": [
        "# **Acomodamos la data**"
      ],
      "metadata": {
        "id": "nEuK5vkIaB3R"
      }
    },
    {
      "cell_type": "code",
      "source": [
        "# escalamos la data\n",
        "\n",
        "target_train=(target_train-0.5)/5.5\n",
        "\n",
        "target_test=(target_test-0.5)/5.5"
      ],
      "metadata": {
        "id": "wJkP69IoaGna"
      },
      "execution_count": 4,
      "outputs": []
    },
    {
      "cell_type": "markdown",
      "source": [
        "# **Construimos el modelo**"
      ],
      "metadata": {
        "id": "8n5m_IGnWBEi"
      }
    },
    {
      "cell_type": "code",
      "source": [
        "input_shape=dyn_train.shape[1:]\n",
        "\n",
        "with strategy.scope():\n",
        "\n",
        "  model = tf.keras.Sequential([\n",
        "\n",
        "  keras.layers.Input(input_shape),\n",
        "\n",
        "  keras.layers.Masking(mask_value=-1),\n",
        "\n",
        "  keras.layers.Conv1D(filters=64, kernel_size=8, padding='same'),\n",
        "  keras.layers.BatchNormalization(),\n",
        "  keras.layers.ReLU(),\n",
        "\n",
        "  keras.layers.Conv1D(filters=64, kernel_size=8, padding='same'),\n",
        "  keras.layers.BatchNormalization(),\n",
        "  keras.layers.ReLU(),\n",
        "\n",
        "  keras.layers.GlobalAveragePooling1D(),\n",
        "\n",
        "  keras.layers.Dense(units=8, activation='sigmoid'),\n",
        "\n",
        "  keras.layers.Dense(units=8, activation='sigmoid'),\n",
        "\n",
        "  keras.layers.Dense(units=1, activation='sigmoid')\n",
        "\n",
        "                                                                ])\n",
        "\n",
        "  model.compile(\n",
        "    optimizer='rmsprop',\n",
        "    loss=keras.losses.MeanSquaredError(),\n",
        "    metrics=[keras.metrics.RootMeanSquaredError()],\n",
        "  )\n"
      ],
      "metadata": {
        "id": "hNYv3YX4WKSJ"
      },
      "execution_count": 5,
      "outputs": []
    },
    {
      "cell_type": "code",
      "source": [
        "# definimos algunos parametros de entrenamiento\n",
        "\n",
        "epochs = 500\n",
        "batch_size = 320\n",
        "\n",
        "callbacks = [\n",
        "    keras.callbacks.ModelCheckpoint(\n",
        "        'best_model.keras', save_best_only=True, monitor='val_loss'),\n",
        "\n",
        "    keras.callbacks.ReduceLROnPlateau(\n",
        "        monitor='val_loss', factor=0.5, patience=10, min_lr=10e-8),\n",
        "\n",
        "    keras.callbacks.EarlyStopping(monitor='val_loss', patience=20, verbose=1),\n",
        "]\n"
      ],
      "metadata": {
        "id": "2FialyiZobIW"
      },
      "execution_count": 6,
      "outputs": []
    },
    {
      "cell_type": "code",
      "source": [
        "\n",
        "# entrenamos\n",
        "\n",
        "history = model.fit(\n",
        "    dyn_train,\n",
        "    target_train,\n",
        "    batch_size=batch_size,\n",
        "    epochs=epochs,\n",
        "    validation_split=0.2,\n",
        "    callbacks=callbacks,\n",
        "    verbose=1,\n",
        ")"
      ],
      "metadata": {
        "id": "GtMa72eXoege",
        "colab": {
          "base_uri": "https://localhost:8080/"
        },
        "outputId": "37e999de-430f-4b8e-fec6-f96b67befe5d"
      },
      "execution_count": 7,
      "outputs": [
        {
          "output_type": "stream",
          "name": "stdout",
          "text": [
            "Epoch 1/500\n",
            "6/6 [==============================] - 20s 3s/step - loss: 0.1139 - root_mean_squared_error: 0.3375 - val_loss: 0.1142 - val_root_mean_squared_error: 0.3380 - lr: 0.0010\n",
            "Epoch 2/500\n",
            "6/6 [==============================] - 2s 414ms/step - loss: 0.1039 - root_mean_squared_error: 0.3223 - val_loss: 0.1085 - val_root_mean_squared_error: 0.3294 - lr: 0.0010\n",
            "Epoch 3/500\n",
            "6/6 [==============================] - 2s 287ms/step - loss: 0.0972 - root_mean_squared_error: 0.3118 - val_loss: 0.1034 - val_root_mean_squared_error: 0.3216 - lr: 0.0010\n",
            "Epoch 4/500\n",
            "6/6 [==============================] - 2s 347ms/step - loss: 0.0913 - root_mean_squared_error: 0.3021 - val_loss: 0.0984 - val_root_mean_squared_error: 0.3138 - lr: 0.0010\n",
            "Epoch 5/500\n",
            "6/6 [==============================] - 2s 282ms/step - loss: 0.0858 - root_mean_squared_error: 0.2929 - val_loss: 0.0937 - val_root_mean_squared_error: 0.3061 - lr: 0.0010\n",
            "Epoch 6/500\n",
            "6/6 [==============================] - 2s 288ms/step - loss: 0.0807 - root_mean_squared_error: 0.2841 - val_loss: 0.0890 - val_root_mean_squared_error: 0.2983 - lr: 0.0010\n",
            "Epoch 7/500\n",
            "6/6 [==============================] - 2s 291ms/step - loss: 0.0760 - root_mean_squared_error: 0.2756 - val_loss: 0.0844 - val_root_mean_squared_error: 0.2905 - lr: 0.0010\n",
            "Epoch 8/500\n",
            "6/6 [==============================] - 2s 294ms/step - loss: 0.0715 - root_mean_squared_error: 0.2675 - val_loss: 0.0799 - val_root_mean_squared_error: 0.2828 - lr: 0.0010\n",
            "Epoch 9/500\n",
            "6/6 [==============================] - 2s 300ms/step - loss: 0.0674 - root_mean_squared_error: 0.2597 - val_loss: 0.0758 - val_root_mean_squared_error: 0.2753 - lr: 0.0010\n",
            "Epoch 10/500\n",
            "6/6 [==============================] - 1s 267ms/step - loss: 0.0636 - root_mean_squared_error: 0.2523 - val_loss: 0.0716 - val_root_mean_squared_error: 0.2676 - lr: 0.0010\n",
            "Epoch 11/500\n",
            "6/6 [==============================] - 1s 267ms/step - loss: 0.0601 - root_mean_squared_error: 0.2452 - val_loss: 0.0678 - val_root_mean_squared_error: 0.2604 - lr: 0.0010\n",
            "Epoch 12/500\n",
            "6/6 [==============================] - 2s 282ms/step - loss: 0.0569 - root_mean_squared_error: 0.2385 - val_loss: 0.0641 - val_root_mean_squared_error: 0.2532 - lr: 0.0010\n",
            "Epoch 13/500\n",
            "6/6 [==============================] - 1s 259ms/step - loss: 0.0539 - root_mean_squared_error: 0.2321 - val_loss: 0.0606 - val_root_mean_squared_error: 0.2461 - lr: 0.0010\n",
            "Epoch 14/500\n",
            "6/6 [==============================] - 1s 268ms/step - loss: 0.0511 - root_mean_squared_error: 0.2261 - val_loss: 0.0573 - val_root_mean_squared_error: 0.2393 - lr: 0.0010\n",
            "Epoch 15/500\n",
            "6/6 [==============================] - 1s 256ms/step - loss: 0.0486 - root_mean_squared_error: 0.2205 - val_loss: 0.0543 - val_root_mean_squared_error: 0.2329 - lr: 0.0010\n",
            "Epoch 16/500\n",
            "6/6 [==============================] - 1s 259ms/step - loss: 0.0464 - root_mean_squared_error: 0.2154 - val_loss: 0.0515 - val_root_mean_squared_error: 0.2269 - lr: 0.0010\n",
            "Epoch 17/500\n",
            "6/6 [==============================] - 2s 294ms/step - loss: 0.0444 - root_mean_squared_error: 0.2107 - val_loss: 0.0490 - val_root_mean_squared_error: 0.2213 - lr: 0.0010\n",
            "Epoch 18/500\n",
            "6/6 [==============================] - 2s 301ms/step - loss: 0.0426 - root_mean_squared_error: 0.2064 - val_loss: 0.0467 - val_root_mean_squared_error: 0.2160 - lr: 0.0010\n",
            "Epoch 19/500\n",
            "6/6 [==============================] - 1s 265ms/step - loss: 0.0410 - root_mean_squared_error: 0.2025 - val_loss: 0.0446 - val_root_mean_squared_error: 0.2113 - lr: 0.0010\n",
            "Epoch 20/500\n",
            "6/6 [==============================] - 1s 262ms/step - loss: 0.0396 - root_mean_squared_error: 0.1990 - val_loss: 0.0428 - val_root_mean_squared_error: 0.2070 - lr: 0.0010\n",
            "Epoch 21/500\n",
            "6/6 [==============================] - 2s 359ms/step - loss: 0.0384 - root_mean_squared_error: 0.1959 - val_loss: 0.0412 - val_root_mean_squared_error: 0.2030 - lr: 0.0010\n",
            "Epoch 22/500\n",
            "6/6 [==============================] - 1s 282ms/step - loss: 0.0374 - root_mean_squared_error: 0.1933 - val_loss: 0.0399 - val_root_mean_squared_error: 0.1997 - lr: 0.0010\n",
            "Epoch 23/500\n",
            "6/6 [==============================] - 1s 260ms/step - loss: 0.0365 - root_mean_squared_error: 0.1911 - val_loss: 0.0388 - val_root_mean_squared_error: 0.1969 - lr: 0.0010\n",
            "Epoch 24/500\n",
            "6/6 [==============================] - 1s 266ms/step - loss: 0.0358 - root_mean_squared_error: 0.1892 - val_loss: 0.0377 - val_root_mean_squared_error: 0.1943 - lr: 0.0010\n",
            "Epoch 25/500\n",
            "6/6 [==============================] - 2s 295ms/step - loss: 0.0352 - root_mean_squared_error: 0.1877 - val_loss: 0.0370 - val_root_mean_squared_error: 0.1924 - lr: 0.0010\n",
            "Epoch 26/500\n",
            "6/6 [==============================] - 2s 302ms/step - loss: 0.0348 - root_mean_squared_error: 0.1866 - val_loss: 0.0363 - val_root_mean_squared_error: 0.1906 - lr: 0.0010\n",
            "Epoch 27/500\n",
            "6/6 [==============================] - 1s 269ms/step - loss: 0.0345 - root_mean_squared_error: 0.1858 - val_loss: 0.0359 - val_root_mean_squared_error: 0.1895 - lr: 0.0010\n",
            "Epoch 28/500\n",
            "6/6 [==============================] - 1s 269ms/step - loss: 0.0343 - root_mean_squared_error: 0.1853 - val_loss: 0.0356 - val_root_mean_squared_error: 0.1886 - lr: 0.0010\n",
            "Epoch 29/500\n",
            "6/6 [==============================] - 1s 268ms/step - loss: 0.0342 - root_mean_squared_error: 0.1850 - val_loss: 0.0353 - val_root_mean_squared_error: 0.1879 - lr: 0.0010\n",
            "Epoch 30/500\n",
            "6/6 [==============================] - 1s 270ms/step - loss: 0.0341 - root_mean_squared_error: 0.1848 - val_loss: 0.0351 - val_root_mean_squared_error: 0.1874 - lr: 0.0010\n",
            "Epoch 31/500\n",
            "6/6 [==============================] - 1s 267ms/step - loss: 0.0341 - root_mean_squared_error: 0.1847 - val_loss: 0.0351 - val_root_mean_squared_error: 0.1872 - lr: 0.0010\n",
            "Epoch 32/500\n",
            "6/6 [==============================] - 1s 237ms/step - loss: 0.0341 - root_mean_squared_error: 0.1847 - val_loss: 0.0351 - val_root_mean_squared_error: 0.1873 - lr: 0.0010\n",
            "Epoch 33/500\n",
            "6/6 [==============================] - 1s 266ms/step - loss: 0.0341 - root_mean_squared_error: 0.1847 - val_loss: 0.0350 - val_root_mean_squared_error: 0.1871 - lr: 0.0010\n",
            "Epoch 34/500\n",
            "6/6 [==============================] - 2s 296ms/step - loss: 0.0341 - root_mean_squared_error: 0.1846 - val_loss: 0.0349 - val_root_mean_squared_error: 0.1869 - lr: 0.0010\n",
            "Epoch 35/500\n",
            "6/6 [==============================] - 1s 265ms/step - loss: 0.0341 - root_mean_squared_error: 0.1846 - val_loss: 0.0349 - val_root_mean_squared_error: 0.1868 - lr: 0.0010\n",
            "Epoch 36/500\n",
            "6/6 [==============================] - 1s 237ms/step - loss: 0.0341 - root_mean_squared_error: 0.1846 - val_loss: 0.0349 - val_root_mean_squared_error: 0.1869 - lr: 0.0010\n",
            "Epoch 37/500\n",
            "6/6 [==============================] - 1s 232ms/step - loss: 0.0341 - root_mean_squared_error: 0.1846 - val_loss: 0.0349 - val_root_mean_squared_error: 0.1869 - lr: 0.0010\n",
            "Epoch 38/500\n",
            "6/6 [==============================] - 1s 218ms/step - loss: 0.0341 - root_mean_squared_error: 0.1846 - val_loss: 0.0349 - val_root_mean_squared_error: 0.1869 - lr: 0.0010\n",
            "Epoch 39/500\n",
            "6/6 [==============================] - 1s 268ms/step - loss: 0.0341 - root_mean_squared_error: 0.1847 - val_loss: 0.0349 - val_root_mean_squared_error: 0.1867 - lr: 0.0010\n",
            "Epoch 40/500\n",
            "6/6 [==============================] - 1s 222ms/step - loss: 0.0341 - root_mean_squared_error: 0.1846 - val_loss: 0.0349 - val_root_mean_squared_error: 0.1868 - lr: 0.0010\n",
            "Epoch 41/500\n",
            "6/6 [==============================] - 1s 264ms/step - loss: 0.0341 - root_mean_squared_error: 0.1847 - val_loss: 0.0349 - val_root_mean_squared_error: 0.1867 - lr: 0.0010\n",
            "Epoch 42/500\n",
            "6/6 [==============================] - 2s 284ms/step - loss: 0.0341 - root_mean_squared_error: 0.1846 - val_loss: 0.0348 - val_root_mean_squared_error: 0.1867 - lr: 0.0010\n",
            "Epoch 43/500\n",
            "6/6 [==============================] - 1s 261ms/step - loss: 0.0341 - root_mean_squared_error: 0.1847 - val_loss: 0.0349 - val_root_mean_squared_error: 0.1867 - lr: 0.0010\n",
            "Epoch 44/500\n",
            "6/6 [==============================] - 2s 367ms/step - loss: 0.0341 - root_mean_squared_error: 0.1846 - val_loss: 0.0348 - val_root_mean_squared_error: 0.1867 - lr: 0.0010\n",
            "Epoch 45/500\n",
            "6/6 [==============================] - 1s 222ms/step - loss: 0.0341 - root_mean_squared_error: 0.1847 - val_loss: 0.0349 - val_root_mean_squared_error: 0.1868 - lr: 0.0010\n",
            "Epoch 46/500\n",
            "6/6 [==============================] - 1s 234ms/step - loss: 0.0341 - root_mean_squared_error: 0.1846 - val_loss: 0.0349 - val_root_mean_squared_error: 0.1868 - lr: 0.0010\n",
            "Epoch 47/500\n",
            "6/6 [==============================] - 1s 252ms/step - loss: 0.0341 - root_mean_squared_error: 0.1846 - val_loss: 0.0348 - val_root_mean_squared_error: 0.1866 - lr: 0.0010\n",
            "Epoch 48/500\n",
            "6/6 [==============================] - 1s 222ms/step - loss: 0.0341 - root_mean_squared_error: 0.1847 - val_loss: 0.0348 - val_root_mean_squared_error: 0.1866 - lr: 0.0010\n",
            "Epoch 49/500\n",
            "6/6 [==============================] - 1s 230ms/step - loss: 0.0341 - root_mean_squared_error: 0.1847 - val_loss: 0.0348 - val_root_mean_squared_error: 0.1866 - lr: 0.0010\n",
            "Epoch 50/500\n",
            "6/6 [==============================] - 1s 226ms/step - loss: 0.0341 - root_mean_squared_error: 0.1846 - val_loss: 0.0348 - val_root_mean_squared_error: 0.1866 - lr: 5.0000e-04\n",
            "Epoch 51/500\n",
            "6/6 [==============================] - 1s 260ms/step - loss: 0.0341 - root_mean_squared_error: 0.1846 - val_loss: 0.0348 - val_root_mean_squared_error: 0.1866 - lr: 5.0000e-04\n",
            "Epoch 52/500\n",
            "6/6 [==============================] - 1s 253ms/step - loss: 0.0341 - root_mean_squared_error: 0.1846 - val_loss: 0.0348 - val_root_mean_squared_error: 0.1866 - lr: 5.0000e-04\n",
            "Epoch 53/500\n",
            "6/6 [==============================] - 1s 262ms/step - loss: 0.0341 - root_mean_squared_error: 0.1846 - val_loss: 0.0348 - val_root_mean_squared_error: 0.1866 - lr: 5.0000e-04\n",
            "Epoch 54/500\n",
            "6/6 [==============================] - 1s 227ms/step - loss: 0.0341 - root_mean_squared_error: 0.1846 - val_loss: 0.0348 - val_root_mean_squared_error: 0.1866 - lr: 5.0000e-04\n",
            "Epoch 55/500\n",
            "6/6 [==============================] - 1s 230ms/step - loss: 0.0341 - root_mean_squared_error: 0.1847 - val_loss: 0.0348 - val_root_mean_squared_error: 0.1866 - lr: 5.0000e-04\n",
            "Epoch 56/500\n",
            "6/6 [==============================] - 1s 227ms/step - loss: 0.0341 - root_mean_squared_error: 0.1846 - val_loss: 0.0348 - val_root_mean_squared_error: 0.1866 - lr: 5.0000e-04\n",
            "Epoch 57/500\n",
            "6/6 [==============================] - 1s 228ms/step - loss: 0.0341 - root_mean_squared_error: 0.1846 - val_loss: 0.0348 - val_root_mean_squared_error: 0.1866 - lr: 5.0000e-04\n",
            "Epoch 58/500\n",
            "6/6 [==============================] - 1s 246ms/step - loss: 0.0341 - root_mean_squared_error: 0.1846 - val_loss: 0.0348 - val_root_mean_squared_error: 0.1866 - lr: 5.0000e-04\n",
            "Epoch 59/500\n",
            "6/6 [==============================] - 1s 233ms/step - loss: 0.0341 - root_mean_squared_error: 0.1846 - val_loss: 0.0348 - val_root_mean_squared_error: 0.1866 - lr: 5.0000e-04\n",
            "Epoch 60/500\n",
            "6/6 [==============================] - 1s 230ms/step - loss: 0.0341 - root_mean_squared_error: 0.1846 - val_loss: 0.0348 - val_root_mean_squared_error: 0.1866 - lr: 2.5000e-04\n",
            "Epoch 61/500\n",
            "6/6 [==============================] - 1s 251ms/step - loss: 0.0341 - root_mean_squared_error: 0.1846 - val_loss: 0.0348 - val_root_mean_squared_error: 0.1866 - lr: 2.5000e-04\n",
            "Epoch 62/500\n",
            "6/6 [==============================] - 2s 320ms/step - loss: 0.0341 - root_mean_squared_error: 0.1846 - val_loss: 0.0348 - val_root_mean_squared_error: 0.1866 - lr: 2.5000e-04\n",
            "Epoch 63/500\n",
            "6/6 [==============================] - 2s 317ms/step - loss: 0.0341 - root_mean_squared_error: 0.1846 - val_loss: 0.0348 - val_root_mean_squared_error: 0.1866 - lr: 2.5000e-04\n",
            "Epoch 64/500\n",
            "6/6 [==============================] - 1s 273ms/step - loss: 0.0341 - root_mean_squared_error: 0.1846 - val_loss: 0.0348 - val_root_mean_squared_error: 0.1866 - lr: 2.5000e-04\n",
            "Epoch 65/500\n",
            "6/6 [==============================] - 1s 260ms/step - loss: 0.0341 - root_mean_squared_error: 0.1846 - val_loss: 0.0348 - val_root_mean_squared_error: 0.1865 - lr: 2.5000e-04\n",
            "Epoch 66/500\n",
            "6/6 [==============================] - 1s 255ms/step - loss: 0.0341 - root_mean_squared_error: 0.1846 - val_loss: 0.0348 - val_root_mean_squared_error: 0.1865 - lr: 2.5000e-04\n",
            "Epoch 67/500\n",
            "6/6 [==============================] - 1s 231ms/step - loss: 0.0341 - root_mean_squared_error: 0.1846 - val_loss: 0.0348 - val_root_mean_squared_error: 0.1865 - lr: 2.5000e-04\n",
            "Epoch 68/500\n",
            "6/6 [==============================] - 1s 231ms/step - loss: 0.0341 - root_mean_squared_error: 0.1846 - val_loss: 0.0348 - val_root_mean_squared_error: 0.1865 - lr: 2.5000e-04\n",
            "Epoch 69/500\n",
            "6/6 [==============================] - 1s 271ms/step - loss: 0.0341 - root_mean_squared_error: 0.1846 - val_loss: 0.0348 - val_root_mean_squared_error: 0.1865 - lr: 2.5000e-04\n",
            "Epoch 70/500\n",
            "6/6 [==============================] - 2s 296ms/step - loss: 0.0341 - root_mean_squared_error: 0.1846 - val_loss: 0.0348 - val_root_mean_squared_error: 0.1865 - lr: 1.2500e-04\n",
            "Epoch 71/500\n",
            "6/6 [==============================] - 2s 314ms/step - loss: 0.0341 - root_mean_squared_error: 0.1846 - val_loss: 0.0348 - val_root_mean_squared_error: 0.1865 - lr: 1.2500e-04\n",
            "Epoch 72/500\n",
            "6/6 [==============================] - 1s 274ms/step - loss: 0.0341 - root_mean_squared_error: 0.1846 - val_loss: 0.0348 - val_root_mean_squared_error: 0.1865 - lr: 1.2500e-04\n",
            "Epoch 73/500\n",
            "6/6 [==============================] - 1s 268ms/step - loss: 0.0341 - root_mean_squared_error: 0.1846 - val_loss: 0.0348 - val_root_mean_squared_error: 0.1865 - lr: 1.2500e-04\n",
            "Epoch 74/500\n",
            "6/6 [==============================] - 1s 262ms/step - loss: 0.0341 - root_mean_squared_error: 0.1846 - val_loss: 0.0348 - val_root_mean_squared_error: 0.1865 - lr: 1.2500e-04\n",
            "Epoch 75/500\n",
            "6/6 [==============================] - 1s 263ms/step - loss: 0.0341 - root_mean_squared_error: 0.1846 - val_loss: 0.0348 - val_root_mean_squared_error: 0.1865 - lr: 1.2500e-04\n",
            "Epoch 76/500\n",
            "6/6 [==============================] - 1s 266ms/step - loss: 0.0341 - root_mean_squared_error: 0.1846 - val_loss: 0.0348 - val_root_mean_squared_error: 0.1865 - lr: 1.2500e-04\n",
            "Epoch 77/500\n",
            "6/6 [==============================] - 1s 265ms/step - loss: 0.0341 - root_mean_squared_error: 0.1846 - val_loss: 0.0348 - val_root_mean_squared_error: 0.1865 - lr: 1.2500e-04\n",
            "Epoch 78/500\n",
            "6/6 [==============================] - 1s 277ms/step - loss: 0.0341 - root_mean_squared_error: 0.1846 - val_loss: 0.0348 - val_root_mean_squared_error: 0.1865 - lr: 1.2500e-04\n",
            "Epoch 79/500\n",
            "6/6 [==============================] - 2s 300ms/step - loss: 0.0341 - root_mean_squared_error: 0.1846 - val_loss: 0.0348 - val_root_mean_squared_error: 0.1865 - lr: 1.2500e-04\n",
            "Epoch 80/500\n",
            "6/6 [==============================] - 2s 352ms/step - loss: 0.0341 - root_mean_squared_error: 0.1846 - val_loss: 0.0348 - val_root_mean_squared_error: 0.1864 - lr: 1.2500e-04\n",
            "Epoch 81/500\n",
            "6/6 [==============================] - 1s 265ms/step - loss: 0.0341 - root_mean_squared_error: 0.1846 - val_loss: 0.0348 - val_root_mean_squared_error: 0.1864 - lr: 1.2500e-04\n",
            "Epoch 82/500\n",
            "6/6 [==============================] - 1s 261ms/step - loss: 0.0341 - root_mean_squared_error: 0.1846 - val_loss: 0.0348 - val_root_mean_squared_error: 0.1864 - lr: 1.2500e-04\n",
            "Epoch 83/500\n",
            "6/6 [==============================] - 1s 234ms/step - loss: 0.0341 - root_mean_squared_error: 0.1846 - val_loss: 0.0348 - val_root_mean_squared_error: 0.1864 - lr: 1.2500e-04\n",
            "Epoch 84/500\n",
            "6/6 [==============================] - 1s 231ms/step - loss: 0.0341 - root_mean_squared_error: 0.1846 - val_loss: 0.0348 - val_root_mean_squared_error: 0.1864 - lr: 1.2500e-04\n",
            "Epoch 85/500\n",
            "6/6 [==============================] - 1s 263ms/step - loss: 0.0341 - root_mean_squared_error: 0.1846 - val_loss: 0.0348 - val_root_mean_squared_error: 0.1864 - lr: 1.2500e-04\n",
            "Epoch 86/500\n",
            "6/6 [==============================] - 1s 262ms/step - loss: 0.0341 - root_mean_squared_error: 0.1846 - val_loss: 0.0348 - val_root_mean_squared_error: 0.1864 - lr: 1.2500e-04\n",
            "Epoch 87/500\n",
            "6/6 [==============================] - 2s 302ms/step - loss: 0.0341 - root_mean_squared_error: 0.1846 - val_loss: 0.0348 - val_root_mean_squared_error: 0.1864 - lr: 1.2500e-04\n",
            "Epoch 88/500\n",
            "6/6 [==============================] - 2s 319ms/step - loss: 0.0341 - root_mean_squared_error: 0.1846 - val_loss: 0.0348 - val_root_mean_squared_error: 0.1864 - lr: 1.2500e-04\n",
            "Epoch 89/500\n",
            "6/6 [==============================] - 1s 257ms/step - loss: 0.0341 - root_mean_squared_error: 0.1846 - val_loss: 0.0348 - val_root_mean_squared_error: 0.1864 - lr: 6.2500e-05\n",
            "Epoch 90/500\n",
            "6/6 [==============================] - 1s 267ms/step - loss: 0.0341 - root_mean_squared_error: 0.1846 - val_loss: 0.0348 - val_root_mean_squared_error: 0.1864 - lr: 6.2500e-05\n",
            "Epoch 91/500\n",
            "6/6 [==============================] - 1s 258ms/step - loss: 0.0341 - root_mean_squared_error: 0.1846 - val_loss: 0.0348 - val_root_mean_squared_error: 0.1864 - lr: 6.2500e-05\n",
            "Epoch 92/500\n",
            "6/6 [==============================] - 1s 263ms/step - loss: 0.0341 - root_mean_squared_error: 0.1846 - val_loss: 0.0348 - val_root_mean_squared_error: 0.1864 - lr: 6.2500e-05\n",
            "Epoch 93/500\n",
            "6/6 [==============================] - 1s 227ms/step - loss: 0.0341 - root_mean_squared_error: 0.1846 - val_loss: 0.0348 - val_root_mean_squared_error: 0.1864 - lr: 6.2500e-05\n",
            "Epoch 94/500\n",
            "6/6 [==============================] - 1s 254ms/step - loss: 0.0341 - root_mean_squared_error: 0.1846 - val_loss: 0.0348 - val_root_mean_squared_error: 0.1864 - lr: 6.2500e-05\n",
            "Epoch 95/500\n",
            "6/6 [==============================] - 1s 239ms/step - loss: 0.0341 - root_mean_squared_error: 0.1846 - val_loss: 0.0348 - val_root_mean_squared_error: 0.1864 - lr: 6.2500e-05\n",
            "Epoch 96/500\n",
            "6/6 [==============================] - 2s 309ms/step - loss: 0.0341 - root_mean_squared_error: 0.1846 - val_loss: 0.0348 - val_root_mean_squared_error: 0.1864 - lr: 6.2500e-05\n",
            "Epoch 97/500\n",
            "6/6 [==============================] - 1s 275ms/step - loss: 0.0341 - root_mean_squared_error: 0.1846 - val_loss: 0.0348 - val_root_mean_squared_error: 0.1864 - lr: 6.2500e-05\n",
            "Epoch 98/500\n",
            "6/6 [==============================] - 1s 240ms/step - loss: 0.0341 - root_mean_squared_error: 0.1846 - val_loss: 0.0348 - val_root_mean_squared_error: 0.1864 - lr: 6.2500e-05\n",
            "Epoch 99/500\n",
            "6/6 [==============================] - 1s 232ms/step - loss: 0.0341 - root_mean_squared_error: 0.1846 - val_loss: 0.0348 - val_root_mean_squared_error: 0.1864 - lr: 3.1250e-05\n",
            "Epoch 100/500\n",
            "6/6 [==============================] - 1s 224ms/step - loss: 0.0341 - root_mean_squared_error: 0.1846 - val_loss: 0.0348 - val_root_mean_squared_error: 0.1864 - lr: 3.1250e-05\n",
            "Epoch 101/500\n",
            "6/6 [==============================] - 1s 222ms/step - loss: 0.0341 - root_mean_squared_error: 0.1846 - val_loss: 0.0348 - val_root_mean_squared_error: 0.1864 - lr: 3.1250e-05\n",
            "Epoch 102/500\n",
            "6/6 [==============================] - 2s 354ms/step - loss: 0.0341 - root_mean_squared_error: 0.1846 - val_loss: 0.0347 - val_root_mean_squared_error: 0.1864 - lr: 3.1250e-05\n",
            "Epoch 103/500\n",
            "6/6 [==============================] - 2s 479ms/step - loss: 0.0341 - root_mean_squared_error: 0.1846 - val_loss: 0.0347 - val_root_mean_squared_error: 0.1864 - lr: 3.1250e-05\n",
            "Epoch 104/500\n",
            "6/6 [==============================] - 3s 680ms/step - loss: 0.0341 - root_mean_squared_error: 0.1846 - val_loss: 0.0347 - val_root_mean_squared_error: 0.1864 - lr: 3.1250e-05\n",
            "Epoch 105/500\n",
            "6/6 [==============================] - 3s 634ms/step - loss: 0.0341 - root_mean_squared_error: 0.1846 - val_loss: 0.0347 - val_root_mean_squared_error: 0.1864 - lr: 3.1250e-05\n",
            "Epoch 106/500\n",
            "6/6 [==============================] - 3s 535ms/step - loss: 0.0341 - root_mean_squared_error: 0.1846 - val_loss: 0.0347 - val_root_mean_squared_error: 0.1864 - lr: 3.1250e-05\n",
            "Epoch 107/500\n",
            "6/6 [==============================] - 2s 347ms/step - loss: 0.0341 - root_mean_squared_error: 0.1846 - val_loss: 0.0347 - val_root_mean_squared_error: 0.1864 - lr: 3.1250e-05\n",
            "Epoch 108/500\n",
            "6/6 [==============================] - 1s 249ms/step - loss: 0.0341 - root_mean_squared_error: 0.1846 - val_loss: 0.0347 - val_root_mean_squared_error: 0.1864 - lr: 3.1250e-05\n",
            "Epoch 109/500\n",
            "6/6 [==============================] - 1s 276ms/step - loss: 0.0341 - root_mean_squared_error: 0.1846 - val_loss: 0.0347 - val_root_mean_squared_error: 0.1864 - lr: 1.5625e-05\n",
            "Epoch 110/500\n",
            "6/6 [==============================] - 1s 233ms/step - loss: 0.0341 - root_mean_squared_error: 0.1846 - val_loss: 0.0347 - val_root_mean_squared_error: 0.1864 - lr: 1.5625e-05\n",
            "Epoch 111/500\n",
            "6/6 [==============================] - 1s 280ms/step - loss: 0.0341 - root_mean_squared_error: 0.1846 - val_loss: 0.0347 - val_root_mean_squared_error: 0.1864 - lr: 1.5625e-05\n",
            "Epoch 112/500\n",
            "6/6 [==============================] - 1s 269ms/step - loss: 0.0341 - root_mean_squared_error: 0.1846 - val_loss: 0.0347 - val_root_mean_squared_error: 0.1864 - lr: 1.5625e-05\n",
            "Epoch 113/500\n",
            "6/6 [==============================] - 1s 227ms/step - loss: 0.0341 - root_mean_squared_error: 0.1846 - val_loss: 0.0347 - val_root_mean_squared_error: 0.1864 - lr: 1.5625e-05\n",
            "Epoch 114/500\n",
            "6/6 [==============================] - 1s 273ms/step - loss: 0.0341 - root_mean_squared_error: 0.1846 - val_loss: 0.0347 - val_root_mean_squared_error: 0.1864 - lr: 1.5625e-05\n",
            "Epoch 115/500\n",
            "6/6 [==============================] - 1s 270ms/step - loss: 0.0341 - root_mean_squared_error: 0.1846 - val_loss: 0.0347 - val_root_mean_squared_error: 0.1864 - lr: 1.5625e-05\n",
            "Epoch 116/500\n",
            "6/6 [==============================] - 1s 260ms/step - loss: 0.0341 - root_mean_squared_error: 0.1846 - val_loss: 0.0347 - val_root_mean_squared_error: 0.1864 - lr: 1.5625e-05\n",
            "Epoch 117/500\n",
            "6/6 [==============================] - 1s 237ms/step - loss: 0.0341 - root_mean_squared_error: 0.1846 - val_loss: 0.0347 - val_root_mean_squared_error: 0.1864 - lr: 1.5625e-05\n",
            "Epoch 118/500\n",
            "6/6 [==============================] - 1s 265ms/step - loss: 0.0341 - root_mean_squared_error: 0.1846 - val_loss: 0.0347 - val_root_mean_squared_error: 0.1864 - lr: 1.5625e-05\n",
            "Epoch 119/500\n",
            "6/6 [==============================] - 1s 254ms/step - loss: 0.0341 - root_mean_squared_error: 0.1846 - val_loss: 0.0347 - val_root_mean_squared_error: 0.1864 - lr: 7.8125e-06\n",
            "Epoch 120/500\n",
            "6/6 [==============================] - 1s 265ms/step - loss: 0.0341 - root_mean_squared_error: 0.1846 - val_loss: 0.0347 - val_root_mean_squared_error: 0.1864 - lr: 7.8125e-06\n",
            "Epoch 121/500\n",
            "6/6 [==============================] - 2s 447ms/step - loss: 0.0341 - root_mean_squared_error: 0.1846 - val_loss: 0.0347 - val_root_mean_squared_error: 0.1864 - lr: 7.8125e-06\n",
            "Epoch 122/500\n",
            "6/6 [==============================] - 1s 238ms/step - loss: 0.0341 - root_mean_squared_error: 0.1846 - val_loss: 0.0347 - val_root_mean_squared_error: 0.1864 - lr: 7.8125e-06\n",
            "Epoch 123/500\n",
            "6/6 [==============================] - 1s 245ms/step - loss: 0.0341 - root_mean_squared_error: 0.1846 - val_loss: 0.0347 - val_root_mean_squared_error: 0.1864 - lr: 7.8125e-06\n",
            "Epoch 124/500\n",
            "6/6 [==============================] - 1s 229ms/step - loss: 0.0341 - root_mean_squared_error: 0.1846 - val_loss: 0.0347 - val_root_mean_squared_error: 0.1864 - lr: 7.8125e-06\n",
            "Epoch 125/500\n",
            "6/6 [==============================] - 1s 238ms/step - loss: 0.0341 - root_mean_squared_error: 0.1846 - val_loss: 0.0347 - val_root_mean_squared_error: 0.1864 - lr: 7.8125e-06\n",
            "Epoch 126/500\n",
            "6/6 [==============================] - 1s 239ms/step - loss: 0.0341 - root_mean_squared_error: 0.1846 - val_loss: 0.0347 - val_root_mean_squared_error: 0.1864 - lr: 7.8125e-06\n",
            "Epoch 127/500\n",
            "6/6 [==============================] - 1s 226ms/step - loss: 0.0341 - root_mean_squared_error: 0.1846 - val_loss: 0.0347 - val_root_mean_squared_error: 0.1864 - lr: 7.8125e-06\n",
            "Epoch 128/500\n",
            "6/6 [==============================] - 1s 230ms/step - loss: 0.0341 - root_mean_squared_error: 0.1846 - val_loss: 0.0347 - val_root_mean_squared_error: 0.1864 - lr: 7.8125e-06\n",
            "Epoch 129/500\n",
            "6/6 [==============================] - 1s 268ms/step - loss: 0.0341 - root_mean_squared_error: 0.1846 - val_loss: 0.0347 - val_root_mean_squared_error: 0.1864 - lr: 3.9063e-06\n",
            "Epoch 130/500\n",
            "6/6 [==============================] - 1s 271ms/step - loss: 0.0341 - root_mean_squared_error: 0.1846 - val_loss: 0.0347 - val_root_mean_squared_error: 0.1864 - lr: 3.9063e-06\n",
            "Epoch 131/500\n",
            "6/6 [==============================] - 1s 230ms/step - loss: 0.0341 - root_mean_squared_error: 0.1846 - val_loss: 0.0347 - val_root_mean_squared_error: 0.1864 - lr: 3.9063e-06\n",
            "Epoch 132/500\n",
            "6/6 [==============================] - 1s 239ms/step - loss: 0.0341 - root_mean_squared_error: 0.1846 - val_loss: 0.0347 - val_root_mean_squared_error: 0.1864 - lr: 3.9063e-06\n",
            "Epoch 133/500\n",
            "6/6 [==============================] - 1s 260ms/step - loss: 0.0341 - root_mean_squared_error: 0.1846 - val_loss: 0.0347 - val_root_mean_squared_error: 0.1864 - lr: 3.9063e-06\n",
            "Epoch 134/500\n",
            "6/6 [==============================] - 1s 243ms/step - loss: 0.0341 - root_mean_squared_error: 0.1846 - val_loss: 0.0347 - val_root_mean_squared_error: 0.1864 - lr: 3.9063e-06\n",
            "Epoch 135/500\n",
            "6/6 [==============================] - 1s 229ms/step - loss: 0.0341 - root_mean_squared_error: 0.1846 - val_loss: 0.0347 - val_root_mean_squared_error: 0.1864 - lr: 3.9063e-06\n",
            "Epoch 136/500\n",
            "6/6 [==============================] - 1s 237ms/step - loss: 0.0341 - root_mean_squared_error: 0.1846 - val_loss: 0.0347 - val_root_mean_squared_error: 0.1864 - lr: 3.9063e-06\n",
            "Epoch 137/500\n",
            "6/6 [==============================] - 1s 228ms/step - loss: 0.0341 - root_mean_squared_error: 0.1846 - val_loss: 0.0347 - val_root_mean_squared_error: 0.1864 - lr: 3.9063e-06\n",
            "Epoch 138/500\n",
            "6/6 [==============================] - 1s 282ms/step - loss: 0.0341 - root_mean_squared_error: 0.1846 - val_loss: 0.0347 - val_root_mean_squared_error: 0.1864 - lr: 3.9063e-06\n",
            "Epoch 139/500\n",
            "6/6 [==============================] - 2s 383ms/step - loss: 0.0341 - root_mean_squared_error: 0.1846 - val_loss: 0.0347 - val_root_mean_squared_error: 0.1864 - lr: 1.9531e-06\n",
            "Epoch 140/500\n",
            "6/6 [==============================] - 1s 263ms/step - loss: 0.0341 - root_mean_squared_error: 0.1846 - val_loss: 0.0347 - val_root_mean_squared_error: 0.1864 - lr: 1.9531e-06\n",
            "Epoch 141/500\n",
            "6/6 [==============================] - 1s 236ms/step - loss: 0.0341 - root_mean_squared_error: 0.1846 - val_loss: 0.0347 - val_root_mean_squared_error: 0.1864 - lr: 1.9531e-06\n",
            "Epoch 142/500\n",
            "6/6 [==============================] - 1s 226ms/step - loss: 0.0341 - root_mean_squared_error: 0.1846 - val_loss: 0.0347 - val_root_mean_squared_error: 0.1864 - lr: 1.9531e-06\n",
            "Epoch 143/500\n",
            "6/6 [==============================] - 1s 237ms/step - loss: 0.0341 - root_mean_squared_error: 0.1846 - val_loss: 0.0347 - val_root_mean_squared_error: 0.1864 - lr: 1.9531e-06\n",
            "Epoch 144/500\n",
            "6/6 [==============================] - 1s 232ms/step - loss: 0.0341 - root_mean_squared_error: 0.1846 - val_loss: 0.0347 - val_root_mean_squared_error: 0.1864 - lr: 1.9531e-06\n",
            "Epoch 145/500\n",
            "6/6 [==============================] - 1s 238ms/step - loss: 0.0341 - root_mean_squared_error: 0.1846 - val_loss: 0.0347 - val_root_mean_squared_error: 0.1864 - lr: 1.9531e-06\n",
            "Epoch 146/500\n",
            "6/6 [==============================] - 1s 227ms/step - loss: 0.0341 - root_mean_squared_error: 0.1846 - val_loss: 0.0347 - val_root_mean_squared_error: 0.1864 - lr: 1.9531e-06\n",
            "Epoch 147/500\n",
            "6/6 [==============================] - 1s 249ms/step - loss: 0.0341 - root_mean_squared_error: 0.1846 - val_loss: 0.0347 - val_root_mean_squared_error: 0.1864 - lr: 1.9531e-06\n",
            "Epoch 148/500\n",
            "6/6 [==============================] - 1s 273ms/step - loss: 0.0341 - root_mean_squared_error: 0.1846 - val_loss: 0.0347 - val_root_mean_squared_error: 0.1864 - lr: 1.9531e-06\n",
            "Epoch 149/500\n",
            "6/6 [==============================] - 1s 253ms/step - loss: 0.0341 - root_mean_squared_error: 0.1846 - val_loss: 0.0347 - val_root_mean_squared_error: 0.1864 - lr: 9.7656e-07\n",
            "Epoch 150/500\n",
            "6/6 [==============================] - 1s 239ms/step - loss: 0.0341 - root_mean_squared_error: 0.1846 - val_loss: 0.0347 - val_root_mean_squared_error: 0.1864 - lr: 9.7656e-07\n",
            "Epoch 151/500\n",
            "6/6 [==============================] - 1s 230ms/step - loss: 0.0341 - root_mean_squared_error: 0.1846 - val_loss: 0.0347 - val_root_mean_squared_error: 0.1864 - lr: 9.7656e-07\n",
            "Epoch 152/500\n",
            "6/6 [==============================] - 1s 221ms/step - loss: 0.0341 - root_mean_squared_error: 0.1846 - val_loss: 0.0347 - val_root_mean_squared_error: 0.1864 - lr: 9.7656e-07\n",
            "Epoch 153/500\n",
            "6/6 [==============================] - 1s 231ms/step - loss: 0.0341 - root_mean_squared_error: 0.1846 - val_loss: 0.0347 - val_root_mean_squared_error: 0.1864 - lr: 9.7656e-07\n",
            "Epoch 154/500\n",
            "6/6 [==============================] - 1s 232ms/step - loss: 0.0341 - root_mean_squared_error: 0.1846 - val_loss: 0.0347 - val_root_mean_squared_error: 0.1864 - lr: 9.7656e-07\n",
            "Epoch 155/500\n",
            "6/6 [==============================] - 1s 218ms/step - loss: 0.0341 - root_mean_squared_error: 0.1846 - val_loss: 0.0347 - val_root_mean_squared_error: 0.1864 - lr: 9.7656e-07\n",
            "Epoch 156/500\n",
            "6/6 [==============================] - 1s 230ms/step - loss: 0.0341 - root_mean_squared_error: 0.1846 - val_loss: 0.0347 - val_root_mean_squared_error: 0.1864 - lr: 9.7656e-07\n",
            "Epoch 157/500\n",
            "6/6 [==============================] - 1s 260ms/step - loss: 0.0341 - root_mean_squared_error: 0.1846 - val_loss: 0.0347 - val_root_mean_squared_error: 0.1864 - lr: 9.7656e-07\n",
            "Epoch 158/500\n",
            "6/6 [==============================] - 1s 269ms/step - loss: 0.0341 - root_mean_squared_error: 0.1846 - val_loss: 0.0347 - val_root_mean_squared_error: 0.1864 - lr: 9.7656e-07\n",
            "Epoch 159/500\n",
            "6/6 [==============================] - 2s 321ms/step - loss: 0.0341 - root_mean_squared_error: 0.1846 - val_loss: 0.0347 - val_root_mean_squared_error: 0.1864 - lr: 4.8828e-07\n",
            "Epoch 160/500\n",
            "6/6 [==============================] - 1s 225ms/step - loss: 0.0341 - root_mean_squared_error: 0.1846 - val_loss: 0.0347 - val_root_mean_squared_error: 0.1864 - lr: 4.8828e-07\n",
            "Epoch 160: early stopping\n"
          ]
        }
      ]
    },
    {
      "cell_type": "markdown",
      "source": [
        "# **Testeamos el modelo**"
      ],
      "metadata": {
        "id": "3VjurbTHotw_"
      }
    },
    {
      "cell_type": "code",
      "source": [
        "# testeamos el mejor modelo\n",
        "\n",
        "model = keras.models.load_model('best_model.keras')\n",
        "\n",
        "test_loss, test_acc = model.evaluate(dyn_test, target_test)\n",
        "\n",
        "print(f'Test accuracy: {test_acc}')\n",
        "print(f'Test loss: {test_loss}')\n"
      ],
      "metadata": {
        "id": "2ph-TzzVotTg",
        "colab": {
          "base_uri": "https://localhost:8080/"
        },
        "outputId": "1e818d37-e62a-4e57-fb9a-93b4c6209628"
      },
      "execution_count": 8,
      "outputs": [
        {
          "output_type": "stream",
          "name": "stdout",
          "text": [
            "8/8 [==============================] - 1s 38ms/step - loss: 0.0400 - root_mean_squared_error: 0.1999\n",
            "Test accuracy: 0.19993451237678528\n",
            "Test loss: 0.03997380658984184\n"
          ]
        }
      ]
    },
    {
      "cell_type": "code",
      "source": [
        "# visualizamos el entrenamiento\n",
        "\n",
        "metric = 'root_mean_squared_error'\n",
        "\n",
        "plt.figure(figsize=(15,7))\n",
        "\n",
        "plt.plot(history.history[metric])\n",
        "plt.plot(history.history['val_' + metric])\n",
        "\n",
        "plt.title('model ' + metric)\n",
        "plt.ylabel(metric, fontsize='large')\n",
        "plt.xlabel('epoch', fontsize='large')\n",
        "plt.legend(['train', 'val'], loc='best')\n",
        "plt.show()\n",
        "plt.close()\n"
      ],
      "metadata": {
        "id": "mF2ugfJNoy_O",
        "colab": {
          "base_uri": "https://localhost:8080/",
          "height": 645
        },
        "outputId": "1c476cb8-48c4-47b0-a092-3da17765ee11"
      },
      "execution_count": 9,
      "outputs": [
        {
          "output_type": "display_data",
          "data": {
            "text/plain": [
              "<Figure size 1500x700 with 1 Axes>"
            ],
            "image/png": "[encoded data removed]"
          },
          "metadata": {}
        }
      ]
    },
    {
      "cell_type": "code",
      "source": [
        "# testeo con otras metricas\n",
        "\n",
        "pred_test=model.predict(x=dyn_test)\n"
      ],
      "metadata": {
        "colab": {
          "base_uri": "https://localhost:8080/"
        },
        "outputId": "61dd5774-d2bb-4631-87a3-90c41068b2d6",
        "id": "zXeOEGJ32im4"
      },
      "execution_count": 10,
      "outputs": [
        {
          "output_type": "stream",
          "name": "stdout",
          "text": [
            "8/8 [==============================] - 0s 41ms/step\n"
          ]
        }
      ]
    },
    {
      "cell_type": "code",
      "source": [
        "# graficamos\n",
        "\n",
        "ae=target_test-pred_test\n",
        "\n",
        "# Calcular la media y la desviación estándar\n",
        "mean = np.mean(ae)\n",
        "std_dev = np.std(ae)\n",
        "\n",
        "plt.figure(figsize=(15,5))\n",
        "# Crear el histograma\n",
        "plt.hist(ae, bins=20, alpha=0.7, rwidth=0.85,label='Historigram')\n",
        "\n",
        "# Agregar las líneas verticales\n",
        "plt.axvline(mean, color='red', linestyle='dashed', linewidth=2,label='mean')\n",
        "plt.axvline(mean - 2*std_dev, color='green', linestyle='dashed', linewidth=2, label='mean - 2*std')\n",
        "plt.axvline(mean + 2*std_dev, color='green', linestyle='dashed', linewidth=2, label='mean + 2*std')\n",
        "\n",
        "# Configurar las etiquetas y el título\n",
        "plt.xlabel('Errores')\n",
        "plt.ylabel('Frecuencia')\n",
        "plt.title('Distribución del error absoluto')\n",
        "\n",
        "plt.legend(loc='upper left')\n",
        "# Mostrar el gráfico\n",
        "plt.show()\n",
        "print(f'Mean={np.round(mean,2)}')\n",
        "print(f'Mean-2*std={np.round(mean-2*std_dev,2)}')\n",
        "print(f'Mean+2*std={np.round(mean+2*std_dev,2)}')"
      ],
      "metadata": {
        "colab": {
          "base_uri": "https://localhost:8080/",
          "height": 539
        },
        "id": "q07w4aMJsLNe",
        "outputId": "60838d03-db0e-42b5-c823-5639fc2c7a00"
      },
      "execution_count": 11,
      "outputs": [
        {
          "output_type": "display_data",
          "data": {
            "text/plain": [
              "<Figure size 1500x500 with 1 Axes>"
            ],
            "image/png": "[encoded data removed]"
          },
          "metadata": {}
        },
        {
          "output_type": "stream",
          "name": "stdout",
          "text": [
            "Mean=0.0\n",
            "Mean-2*std=-0.4\n",
            "Mean+2*std=0.4\n"
          ]
        }
      ]
    },
    {
      "cell_type": "markdown",
      "source": [
        "# **Exportamos el modelo**"
      ],
      "metadata": {
        "id": "XOxut_WVfS9K"
      }
    },
    {
      "cell_type": "code",
      "source": [
        "model.save(dir_data_kaggle+'/model_single.keras')"
      ],
      "metadata": {
        "id": "Xi-dPLn0AC_4"
      },
      "execution_count": 12,
      "outputs": []
    }
  ]
}