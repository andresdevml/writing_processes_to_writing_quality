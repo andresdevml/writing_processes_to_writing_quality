{
  "nbformat": 4,
  "nbformat_minor": 0,
  "metadata": {
    "colab": {
      "provenance": []
    },
    "kernelspec": {
      "name": "python3",
      "display_name": "Python 3"
    },
    "language_info": {
      "name": "python"
    },
    "accelerator": "TPU"
  },
  "cells": [
    {
      "cell_type": "markdown",
      "source": [
        "# **Importamos librerias**"
      ],
      "metadata": {
        "id": "glLlsmN7OXJh"
      }
    },
    {
      "cell_type": "code",
      "execution_count": 1,
      "metadata": {
        "id": "NhT-k91tNqY0"
      },
      "outputs": [],
      "source": [
        "import tensorflow as tf\n",
        "import keras\n",
        "import numpy as np\n",
        "import pandas as pd\n",
        "import matplotlib.pyplot as plt\n",
        "from google.colab import drive"
      ]
    },
    {
      "cell_type": "markdown",
      "source": [
        "# **Activamos la TPU**"
      ],
      "metadata": {
        "id": "A-vNx5jCroRJ"
      }
    },
    {
      "cell_type": "code",
      "source": [
        "resolver = tf.distribute.cluster_resolver.TPUClusterResolver(tpu='')\n",
        "tf.config.experimental_connect_to_cluster(resolver)\n",
        "# This is the TPU initialization code that has to be at the beginning.\n",
        "tf.tpu.experimental.initialize_tpu_system(resolver)\n",
        "print(\"All devices: \", tf.config.list_logical_devices('TPU'))\n",
        "strategy = tf.distribute.TPUStrategy(resolver)\n"
      ],
      "metadata": {
        "colab": {
          "base_uri": "https://localhost:8080/"
        },
        "id": "A9Myym5qrrvM",
        "outputId": "3a8a4677-7370-4ae7-80d7-a7819629dc33"
      },
      "execution_count": 2,
      "outputs": [
        {
          "output_type": "stream",
          "name": "stdout",
          "text": [
            "All devices:  [LogicalDevice(name='/job:worker/replica:0/task:0/device:TPU:0', device_type='TPU'), LogicalDevice(name='/job:worker/replica:0/task:0/device:TPU:1', device_type='TPU'), LogicalDevice(name='/job:worker/replica:0/task:0/device:TPU:2', device_type='TPU'), LogicalDevice(name='/job:worker/replica:0/task:0/device:TPU:3', device_type='TPU'), LogicalDevice(name='/job:worker/replica:0/task:0/device:TPU:4', device_type='TPU'), LogicalDevice(name='/job:worker/replica:0/task:0/device:TPU:5', device_type='TPU'), LogicalDevice(name='/job:worker/replica:0/task:0/device:TPU:6', device_type='TPU'), LogicalDevice(name='/job:worker/replica:0/task:0/device:TPU:7', device_type='TPU')]\n"
          ]
        }
      ]
    },
    {
      "cell_type": "markdown",
      "source": [
        "# **Importamos la data**"
      ],
      "metadata": {
        "id": "3ejr_5-uO7CG"
      }
    },
    {
      "cell_type": "code",
      "source": [
        "\n",
        "# conectamos al drive\n",
        "drive.mount('/content/drive')\n",
        "\n",
        "# Definimos el directorio\n",
        "dir_data_kaggle='./drive/MyDrive/lwpwq/data'\n",
        "\n",
        "# extraemos la data\n",
        "\n",
        "dyn_train=np.load(dir_data_kaggle+'/dyn_train_data_prod.npy', allow_pickle=True)\n",
        "dyn_test=np.load(dir_data_kaggle+'/dyn_test_data_prod.npy', allow_pickle=True)\n",
        "\n",
        "target_train=np.load(dir_data_kaggle+'/target_train_data_prod.npy', allow_pickle=True)\n",
        "target_test=np.load(dir_data_kaggle+'/target_test_data_prod.npy', allow_pickle=True)\n"
      ],
      "metadata": {
        "id": "-dA8ma1dO6aO",
        "colab": {
          "base_uri": "https://localhost:8080/"
        },
        "outputId": "5ca62294-7cb5-4b0e-8932-a70875aae98e"
      },
      "execution_count": 3,
      "outputs": [
        {
          "output_type": "stream",
          "name": "stdout",
          "text": [
            "Mounted at /content/drive\n"
          ]
        }
      ]
    },
    {
      "cell_type": "markdown",
      "source": [
        "# **Acomodamos la data**"
      ],
      "metadata": {
        "id": "nEuK5vkIaB3R"
      }
    },
    {
      "cell_type": "code",
      "source": [
        "# escalamos la data\n",
        "\n",
        "target_train=(target_train-0.5)/5.5\n",
        "\n",
        "target_test=(target_test-0.5)/5.5"
      ],
      "metadata": {
        "id": "wJkP69IoaGna"
      },
      "execution_count": 4,
      "outputs": []
    },
    {
      "cell_type": "markdown",
      "source": [
        "# **Construimos el modelo**"
      ],
      "metadata": {
        "id": "8n5m_IGnWBEi"
      }
    },
    {
      "cell_type": "code",
      "source": [
        "input_shape=dyn_train.shape[1:]\n",
        "\n",
        "with strategy.scope():\n",
        "\n",
        "  model = tf.keras.Sequential([\n",
        "\n",
        "  keras.layers.Input(input_shape),\n",
        "\n",
        "  keras.layers.Masking(mask_value=-1),\n",
        "\n",
        "  keras.layers.Conv1D(filters=64, kernel_size=8, padding='same'),\n",
        "  keras.layers.BatchNormalization(),\n",
        "  keras.layers.ReLU(),\n",
        "\n",
        "  keras.layers.Conv1D(filters=64, kernel_size=8, padding='same'),\n",
        "  keras.layers.BatchNormalization(),\n",
        "  keras.layers.ReLU(),\n",
        "\n",
        "  keras.layers.GlobalAveragePooling1D(),\n",
        "\n",
        "  keras.layers.Dense(units=8, activation='sigmoid'),\n",
        "\n",
        "  keras.layers.Dense(units=8, activation='sigmoid'),\n",
        "\n",
        "  keras.layers.Dense(units=1, activation='sigmoid')\n",
        "\n",
        "                                                                ])\n",
        "\n",
        "  model.compile(\n",
        "    optimizer='rmsprop',\n",
        "    loss=keras.losses.MeanSquaredError(),\n",
        "    metrics=[keras.metrics.RootMeanSquaredError()],\n",
        "  )\n"
      ],
      "metadata": {
        "id": "hNYv3YX4WKSJ"
      },
      "execution_count": 5,
      "outputs": []
    },
    {
      "cell_type": "code",
      "source": [
        "# definimos algunos parametros de entrenamiento\n",
        "\n",
        "epochs = 500\n",
        "batch_size = 320\n",
        "\n",
        "callbacks = [\n",
        "    keras.callbacks.ModelCheckpoint(\n",
        "        'best_model.keras', save_best_only=True, monitor='val_loss'),\n",
        "\n",
        "    keras.callbacks.ReduceLROnPlateau(\n",
        "        monitor='val_loss', factor=0.5, patience=10, min_lr=10e-8),\n",
        "\n",
        "    keras.callbacks.EarlyStopping(monitor='val_loss', patience=20, verbose=1),\n",
        "]\n"
      ],
      "metadata": {
        "id": "2FialyiZobIW"
      },
      "execution_count": 6,
      "outputs": []
    },
    {
      "cell_type": "code",
      "source": [
        "\n",
        "# entrenamos\n",
        "\n",
        "history = model.fit(\n",
        "    dyn_train,\n",
        "    target_train,\n",
        "    batch_size=batch_size,\n",
        "    epochs=epochs,\n",
        "    validation_split=0.2,\n",
        "    callbacks=callbacks,\n",
        "    verbose=1,\n",
        ")"
      ],
      "metadata": {
        "id": "GtMa72eXoege",
        "colab": {
          "base_uri": "https://localhost:8080/"
        },
        "outputId": "f167b95f-608a-443a-84ef-e42d48679f19"
      },
      "execution_count": 7,
      "outputs": [
        {
          "output_type": "stream",
          "name": "stdout",
          "text": [
            "Epoch 1/500\n",
            "6/6 [==============================] - 22s 3s/step - loss: 0.0640 - root_mean_squared_error: 0.2530 - val_loss: 0.0600 - val_root_mean_squared_error: 0.2450 - lr: 0.0010\n",
            "Epoch 2/500\n",
            "6/6 [==============================] - 2s 299ms/step - loss: 0.0544 - root_mean_squared_error: 0.2331 - val_loss: 0.0548 - val_root_mean_squared_error: 0.2341 - lr: 0.0010\n",
            "Epoch 3/500\n",
            "6/6 [==============================] - 2s 314ms/step - loss: 0.0492 - root_mean_squared_error: 0.2217 - val_loss: 0.0508 - val_root_mean_squared_error: 0.2253 - lr: 0.0010\n",
            "Epoch 4/500\n",
            "6/6 [==============================] - 2s 400ms/step - loss: 0.0454 - root_mean_squared_error: 0.2130 - val_loss: 0.0475 - val_root_mean_squared_error: 0.2180 - lr: 0.0010\n",
            "Epoch 5/500\n",
            "6/6 [==============================] - 2s 299ms/step - loss: 0.0424 - root_mean_squared_error: 0.2060 - val_loss: 0.0447 - val_root_mean_squared_error: 0.2115 - lr: 0.0010\n",
            "Epoch 6/500\n",
            "6/6 [==============================] - 2s 320ms/step - loss: 0.0401 - root_mean_squared_error: 0.2002 - val_loss: 0.0425 - val_root_mean_squared_error: 0.2061 - lr: 0.0010\n",
            "Epoch 7/500\n",
            "6/6 [==============================] - 2s 325ms/step - loss: 0.0382 - root_mean_squared_error: 0.1955 - val_loss: 0.0405 - val_root_mean_squared_error: 0.2014 - lr: 0.0010\n",
            "Epoch 8/500\n",
            "6/6 [==============================] - 2s 314ms/step - loss: 0.0368 - root_mean_squared_error: 0.1919 - val_loss: 0.0390 - val_root_mean_squared_error: 0.1975 - lr: 0.0010\n",
            "Epoch 9/500\n",
            "6/6 [==============================] - 2s 314ms/step - loss: 0.0358 - root_mean_squared_error: 0.1892 - val_loss: 0.0378 - val_root_mean_squared_error: 0.1944 - lr: 0.0010\n",
            "Epoch 10/500\n",
            "6/6 [==============================] - 2s 326ms/step - loss: 0.0351 - root_mean_squared_error: 0.1873 - val_loss: 0.0369 - val_root_mean_squared_error: 0.1921 - lr: 0.0010\n",
            "Epoch 11/500\n",
            "6/6 [==============================] - 2s 305ms/step - loss: 0.0346 - root_mean_squared_error: 0.1861 - val_loss: 0.0363 - val_root_mean_squared_error: 0.1905 - lr: 0.0010\n",
            "Epoch 12/500\n",
            "6/6 [==============================] - 2s 324ms/step - loss: 0.0344 - root_mean_squared_error: 0.1854 - val_loss: 0.0358 - val_root_mean_squared_error: 0.1892 - lr: 0.0010\n",
            "Epoch 13/500\n",
            "6/6 [==============================] - 2s 361ms/step - loss: 0.0342 - root_mean_squared_error: 0.1850 - val_loss: 0.0355 - val_root_mean_squared_error: 0.1883 - lr: 0.0010\n",
            "Epoch 14/500\n",
            "6/6 [==============================] - 2s 342ms/step - loss: 0.0341 - root_mean_squared_error: 0.1848 - val_loss: 0.0352 - val_root_mean_squared_error: 0.1877 - lr: 0.0010\n",
            "Epoch 15/500\n",
            "6/6 [==============================] - 2s 301ms/step - loss: 0.0341 - root_mean_squared_error: 0.1847 - val_loss: 0.0351 - val_root_mean_squared_error: 0.1874 - lr: 0.0010\n",
            "Epoch 16/500\n",
            "6/6 [==============================] - 2s 319ms/step - loss: 0.0341 - root_mean_squared_error: 0.1847 - val_loss: 0.0351 - val_root_mean_squared_error: 0.1872 - lr: 0.0010\n",
            "Epoch 17/500\n",
            "6/6 [==============================] - 2s 299ms/step - loss: 0.0341 - root_mean_squared_error: 0.1847 - val_loss: 0.0351 - val_root_mean_squared_error: 0.1872 - lr: 0.0010\n",
            "Epoch 18/500\n",
            "6/6 [==============================] - 2s 309ms/step - loss: 0.0341 - root_mean_squared_error: 0.1847 - val_loss: 0.0350 - val_root_mean_squared_error: 0.1871 - lr: 0.0010\n",
            "Epoch 19/500\n",
            "6/6 [==============================] - 2s 316ms/step - loss: 0.0341 - root_mean_squared_error: 0.1847 - val_loss: 0.0350 - val_root_mean_squared_error: 0.1870 - lr: 0.0010\n",
            "Epoch 20/500\n",
            "6/6 [==============================] - 2s 295ms/step - loss: 0.0341 - root_mean_squared_error: 0.1847 - val_loss: 0.0350 - val_root_mean_squared_error: 0.1870 - lr: 0.0010\n",
            "Epoch 21/500\n",
            "6/6 [==============================] - 2s 367ms/step - loss: 0.0341 - root_mean_squared_error: 0.1847 - val_loss: 0.0349 - val_root_mean_squared_error: 0.1869 - lr: 0.0010\n",
            "Epoch 22/500\n",
            "6/6 [==============================] - 2s 416ms/step - loss: 0.0341 - root_mean_squared_error: 0.1847 - val_loss: 0.0349 - val_root_mean_squared_error: 0.1868 - lr: 0.0010\n",
            "Epoch 23/500\n",
            "6/6 [==============================] - 1s 264ms/step - loss: 0.0341 - root_mean_squared_error: 0.1847 - val_loss: 0.0349 - val_root_mean_squared_error: 0.1868 - lr: 0.0010\n",
            "Epoch 24/500\n",
            "6/6 [==============================] - 1s 264ms/step - loss: 0.0341 - root_mean_squared_error: 0.1846 - val_loss: 0.0350 - val_root_mean_squared_error: 0.1871 - lr: 0.0010\n",
            "Epoch 25/500\n",
            "6/6 [==============================] - 1s 256ms/step - loss: 0.0341 - root_mean_squared_error: 0.1847 - val_loss: 0.0349 - val_root_mean_squared_error: 0.1868 - lr: 0.0010\n",
            "Epoch 26/500\n",
            "6/6 [==============================] - 1s 248ms/step - loss: 0.0341 - root_mean_squared_error: 0.1847 - val_loss: 0.0349 - val_root_mean_squared_error: 0.1869 - lr: 0.0010\n",
            "Epoch 27/500\n",
            "6/6 [==============================] - 1s 262ms/step - loss: 0.0341 - root_mean_squared_error: 0.1847 - val_loss: 0.0349 - val_root_mean_squared_error: 0.1868 - lr: 0.0010\n",
            "Epoch 28/500\n",
            "6/6 [==============================] - 1s 272ms/step - loss: 0.0341 - root_mean_squared_error: 0.1846 - val_loss: 0.0349 - val_root_mean_squared_error: 0.1869 - lr: 0.0010\n",
            "Epoch 29/500\n",
            "6/6 [==============================] - 2s 344ms/step - loss: 0.0341 - root_mean_squared_error: 0.1846 - val_loss: 0.0348 - val_root_mean_squared_error: 0.1866 - lr: 0.0010\n",
            "Epoch 30/500\n",
            "6/6 [==============================] - 1s 259ms/step - loss: 0.0341 - root_mean_squared_error: 0.1847 - val_loss: 0.0349 - val_root_mean_squared_error: 0.1868 - lr: 0.0010\n",
            "Epoch 31/500\n",
            "6/6 [==============================] - 1s 273ms/step - loss: 0.0341 - root_mean_squared_error: 0.1846 - val_loss: 0.0348 - val_root_mean_squared_error: 0.1866 - lr: 0.0010\n",
            "Epoch 32/500\n",
            "6/6 [==============================] - 1s 273ms/step - loss: 0.0341 - root_mean_squared_error: 0.1846 - val_loss: 0.0349 - val_root_mean_squared_error: 0.1867 - lr: 0.0010\n",
            "Epoch 33/500\n",
            "6/6 [==============================] - 1s 275ms/step - loss: 0.0341 - root_mean_squared_error: 0.1846 - val_loss: 0.0348 - val_root_mean_squared_error: 0.1866 - lr: 5.0000e-04\n",
            "Epoch 34/500\n",
            "6/6 [==============================] - 2s 300ms/step - loss: 0.0341 - root_mean_squared_error: 0.1846 - val_loss: 0.0348 - val_root_mean_squared_error: 0.1866 - lr: 5.0000e-04\n",
            "Epoch 35/500\n",
            "6/6 [==============================] - 1s 253ms/step - loss: 0.0341 - root_mean_squared_error: 0.1846 - val_loss: 0.0348 - val_root_mean_squared_error: 0.1866 - lr: 5.0000e-04\n",
            "Epoch 36/500\n",
            "6/6 [==============================] - 2s 289ms/step - loss: 0.0341 - root_mean_squared_error: 0.1846 - val_loss: 0.0348 - val_root_mean_squared_error: 0.1866 - lr: 5.0000e-04\n",
            "Epoch 37/500\n",
            "6/6 [==============================] - 2s 365ms/step - loss: 0.0341 - root_mean_squared_error: 0.1846 - val_loss: 0.0348 - val_root_mean_squared_error: 0.1865 - lr: 5.0000e-04\n",
            "Epoch 38/500\n",
            "6/6 [==============================] - 2s 331ms/step - loss: 0.0341 - root_mean_squared_error: 0.1846 - val_loss: 0.0348 - val_root_mean_squared_error: 0.1865 - lr: 5.0000e-04\n",
            "Epoch 39/500\n",
            "6/6 [==============================] - 2s 286ms/step - loss: 0.0341 - root_mean_squared_error: 0.1846 - val_loss: 0.0348 - val_root_mean_squared_error: 0.1865 - lr: 5.0000e-04\n",
            "Epoch 40/500\n",
            "6/6 [==============================] - 2s 306ms/step - loss: 0.0341 - root_mean_squared_error: 0.1846 - val_loss: 0.0348 - val_root_mean_squared_error: 0.1864 - lr: 5.0000e-04\n",
            "Epoch 41/500\n",
            "6/6 [==============================] - 2s 289ms/step - loss: 0.0341 - root_mean_squared_error: 0.1846 - val_loss: 0.0347 - val_root_mean_squared_error: 0.1864 - lr: 5.0000e-04\n",
            "Epoch 42/500\n",
            "6/6 [==============================] - 1s 264ms/step - loss: 0.0341 - root_mean_squared_error: 0.1846 - val_loss: 0.0347 - val_root_mean_squared_error: 0.1864 - lr: 5.0000e-04\n",
            "Epoch 43/500\n",
            "6/6 [==============================] - 2s 389ms/step - loss: 0.0341 - root_mean_squared_error: 0.1846 - val_loss: 0.0347 - val_root_mean_squared_error: 0.1864 - lr: 5.0000e-04\n",
            "Epoch 44/500\n",
            "6/6 [==============================] - 2s 339ms/step - loss: 0.0341 - root_mean_squared_error: 0.1846 - val_loss: 0.0347 - val_root_mean_squared_error: 0.1863 - lr: 5.0000e-04\n",
            "Epoch 45/500\n",
            "6/6 [==============================] - 2s 296ms/step - loss: 0.0341 - root_mean_squared_error: 0.1846 - val_loss: 0.0347 - val_root_mean_squared_error: 0.1864 - lr: 5.0000e-04\n",
            "Epoch 46/500\n",
            "6/6 [==============================] - 1s 268ms/step - loss: 0.0341 - root_mean_squared_error: 0.1846 - val_loss: 0.0347 - val_root_mean_squared_error: 0.1863 - lr: 5.0000e-04\n",
            "Epoch 47/500\n",
            "6/6 [==============================] - 1s 261ms/step - loss: 0.0341 - root_mean_squared_error: 0.1846 - val_loss: 0.0347 - val_root_mean_squared_error: 0.1863 - lr: 5.0000e-04\n",
            "Epoch 48/500\n",
            "6/6 [==============================] - 1s 260ms/step - loss: 0.0341 - root_mean_squared_error: 0.1846 - val_loss: 0.0347 - val_root_mean_squared_error: 0.1863 - lr: 5.0000e-04\n",
            "Epoch 49/500\n",
            "6/6 [==============================] - 2s 298ms/step - loss: 0.0341 - root_mean_squared_error: 0.1846 - val_loss: 0.0347 - val_root_mean_squared_error: 0.1863 - lr: 2.5000e-04\n",
            "Epoch 50/500\n",
            "6/6 [==============================] - 2s 301ms/step - loss: 0.0341 - root_mean_squared_error: 0.1846 - val_loss: 0.0347 - val_root_mean_squared_error: 0.1863 - lr: 2.5000e-04\n",
            "Epoch 51/500\n",
            "6/6 [==============================] - 2s 310ms/step - loss: 0.0341 - root_mean_squared_error: 0.1846 - val_loss: 0.0347 - val_root_mean_squared_error: 0.1863 - lr: 2.5000e-04\n",
            "Epoch 52/500\n",
            "6/6 [==============================] - 2s 324ms/step - loss: 0.0341 - root_mean_squared_error: 0.1846 - val_loss: 0.0347 - val_root_mean_squared_error: 0.1863 - lr: 2.5000e-04\n",
            "Epoch 53/500\n",
            "6/6 [==============================] - 2s 358ms/step - loss: 0.0341 - root_mean_squared_error: 0.1846 - val_loss: 0.0347 - val_root_mean_squared_error: 0.1863 - lr: 2.5000e-04\n",
            "Epoch 54/500\n",
            "6/6 [==============================] - 1s 269ms/step - loss: 0.0341 - root_mean_squared_error: 0.1846 - val_loss: 0.0347 - val_root_mean_squared_error: 0.1863 - lr: 2.5000e-04\n",
            "Epoch 55/500\n",
            "6/6 [==============================] - 1s 267ms/step - loss: 0.0341 - root_mean_squared_error: 0.1846 - val_loss: 0.0347 - val_root_mean_squared_error: 0.1863 - lr: 2.5000e-04\n",
            "Epoch 56/500\n",
            "6/6 [==============================] - 1s 260ms/step - loss: 0.0341 - root_mean_squared_error: 0.1846 - val_loss: 0.0347 - val_root_mean_squared_error: 0.1863 - lr: 2.5000e-04\n",
            "Epoch 57/500\n",
            "6/6 [==============================] - 2s 310ms/step - loss: 0.0341 - root_mean_squared_error: 0.1846 - val_loss: 0.0347 - val_root_mean_squared_error: 0.1863 - lr: 2.5000e-04\n",
            "Epoch 58/500\n",
            "6/6 [==============================] - 1s 262ms/step - loss: 0.0341 - root_mean_squared_error: 0.1846 - val_loss: 0.0347 - val_root_mean_squared_error: 0.1863 - lr: 2.5000e-04\n",
            "Epoch 59/500\n",
            "6/6 [==============================] - 1s 264ms/step - loss: 0.0341 - root_mean_squared_error: 0.1846 - val_loss: 0.0347 - val_root_mean_squared_error: 0.1863 - lr: 1.2500e-04\n",
            "Epoch 60/500\n",
            "6/6 [==============================] - 2s 339ms/step - loss: 0.0341 - root_mean_squared_error: 0.1845 - val_loss: 0.0347 - val_root_mean_squared_error: 0.1863 - lr: 1.2500e-04\n",
            "Epoch 61/500\n",
            "6/6 [==============================] - 1s 261ms/step - loss: 0.0341 - root_mean_squared_error: 0.1846 - val_loss: 0.0347 - val_root_mean_squared_error: 0.1863 - lr: 1.2500e-04\n",
            "Epoch 62/500\n",
            "6/6 [==============================] - 2s 295ms/step - loss: 0.0341 - root_mean_squared_error: 0.1846 - val_loss: 0.0347 - val_root_mean_squared_error: 0.1863 - lr: 1.2500e-04\n",
            "Epoch 63/500\n",
            "6/6 [==============================] - 1s 260ms/step - loss: 0.0341 - root_mean_squared_error: 0.1846 - val_loss: 0.0347 - val_root_mean_squared_error: 0.1863 - lr: 1.2500e-04\n",
            "Epoch 64/500\n",
            "6/6 [==============================] - 1s 259ms/step - loss: 0.0341 - root_mean_squared_error: 0.1846 - val_loss: 0.0347 - val_root_mean_squared_error: 0.1863 - lr: 1.2500e-04\n",
            "Epoch 65/500\n",
            "6/6 [==============================] - 1s 268ms/step - loss: 0.0341 - root_mean_squared_error: 0.1846 - val_loss: 0.0347 - val_root_mean_squared_error: 0.1863 - lr: 1.2500e-04\n",
            "Epoch 66/500\n",
            "6/6 [==============================] - 1s 276ms/step - loss: 0.0341 - root_mean_squared_error: 0.1846 - val_loss: 0.0347 - val_root_mean_squared_error: 0.1863 - lr: 1.2500e-04\n",
            "Epoch 67/500\n",
            "6/6 [==============================] - 1s 266ms/step - loss: 0.0341 - root_mean_squared_error: 0.1846 - val_loss: 0.0347 - val_root_mean_squared_error: 0.1863 - lr: 1.2500e-04\n",
            "Epoch 68/500\n",
            "6/6 [==============================] - 1s 278ms/step - loss: 0.0341 - root_mean_squared_error: 0.1846 - val_loss: 0.0347 - val_root_mean_squared_error: 0.1863 - lr: 1.2500e-04\n",
            "Epoch 69/500\n",
            "6/6 [==============================] - 2s 319ms/step - loss: 0.0341 - root_mean_squared_error: 0.1846 - val_loss: 0.0347 - val_root_mean_squared_error: 0.1863 - lr: 6.2500e-05\n",
            "Epoch 70/500\n",
            "6/6 [==============================] - 2s 322ms/step - loss: 0.0341 - root_mean_squared_error: 0.1846 - val_loss: 0.0347 - val_root_mean_squared_error: 0.1863 - lr: 6.2500e-05\n",
            "Epoch 71/500\n",
            "6/6 [==============================] - 1s 272ms/step - loss: 0.0341 - root_mean_squared_error: 0.1846 - val_loss: 0.0347 - val_root_mean_squared_error: 0.1863 - lr: 6.2500e-05\n",
            "Epoch 72/500\n",
            "6/6 [==============================] - 1s 259ms/step - loss: 0.0341 - root_mean_squared_error: 0.1846 - val_loss: 0.0347 - val_root_mean_squared_error: 0.1863 - lr: 6.2500e-05\n",
            "Epoch 73/500\n",
            "6/6 [==============================] - 1s 274ms/step - loss: 0.0341 - root_mean_squared_error: 0.1846 - val_loss: 0.0347 - val_root_mean_squared_error: 0.1863 - lr: 6.2500e-05\n",
            "Epoch 74/500\n",
            "6/6 [==============================] - 1s 255ms/step - loss: 0.0341 - root_mean_squared_error: 0.1846 - val_loss: 0.0347 - val_root_mean_squared_error: 0.1863 - lr: 6.2500e-05\n",
            "Epoch 75/500\n",
            "6/6 [==============================] - 1s 276ms/step - loss: 0.0340 - root_mean_squared_error: 0.1845 - val_loss: 0.0347 - val_root_mean_squared_error: 0.1863 - lr: 6.2500e-05\n",
            "Epoch 76/500\n",
            "6/6 [==============================] - 1s 263ms/step - loss: 0.0341 - root_mean_squared_error: 0.1845 - val_loss: 0.0347 - val_root_mean_squared_error: 0.1863 - lr: 6.2500e-05\n",
            "Epoch 77/500\n",
            "6/6 [==============================] - 1s 266ms/step - loss: 0.0341 - root_mean_squared_error: 0.1846 - val_loss: 0.0347 - val_root_mean_squared_error: 0.1863 - lr: 6.2500e-05\n",
            "Epoch 77: early stopping\n"
          ]
        }
      ]
    },
    {
      "cell_type": "markdown",
      "source": [
        "# **Testeamos el modelo**"
      ],
      "metadata": {
        "id": "3VjurbTHotw_"
      }
    },
    {
      "cell_type": "code",
      "source": [
        "# testeamos el mejor modelo\n",
        "\n",
        "model = keras.models.load_model('best_model.keras')\n",
        "\n",
        "test_loss, test_acc = model.evaluate(dyn_test, target_test)\n",
        "\n",
        "print(f'Test accuracy: {test_acc}')\n",
        "print(f'Test loss: {test_loss}')\n"
      ],
      "metadata": {
        "id": "2ph-TzzVotTg",
        "colab": {
          "base_uri": "https://localhost:8080/"
        },
        "outputId": "804e6fab-3901-4a7b-8a03-b1e8702f746c"
      },
      "execution_count": 8,
      "outputs": [
        {
          "output_type": "stream",
          "name": "stdout",
          "text": [
            "8/8 [==============================] - 1s 40ms/step - loss: 0.0386 - root_mean_squared_error: 0.1966\n",
            "Test accuracy: 0.1965618133544922\n",
            "Test loss: 0.038636546581983566\n"
          ]
        }
      ]
    },
    {
      "cell_type": "code",
      "source": [
        "# visualizamos el entrenamiento\n",
        "\n",
        "metric = 'root_mean_squared_error'\n",
        "\n",
        "plt.figure(figsize=(15,7))\n",
        "\n",
        "plt.plot(history.history[metric])\n",
        "plt.plot(history.history['val_' + metric])\n",
        "\n",
        "plt.title('model ' + metric)\n",
        "plt.ylabel(metric, fontsize='large')\n",
        "plt.xlabel('epoch', fontsize='large')\n",
        "plt.legend(['train', 'val'], loc='best')\n",
        "plt.show()\n",
        "plt.close()\n"
      ],
      "metadata": {
        "id": "mF2ugfJNoy_O",
        "colab": {
          "base_uri": "https://localhost:8080/",
          "height": 645
        },
        "outputId": "a048f91b-b08f-4422-e913-114faf7be1cc"
      },
      "execution_count": 9,
      "outputs": [
        {
          "output_type": "display_data",
          "data": {
            "text/plain": [
              "<Figure size 1500x700 with 1 Axes>"
            ],
            "image/png": "[encoded data removed]"
          },
          "metadata": {}
        }
      ]
    },
    {
      "cell_type": "code",
      "source": [
        "# testeo con otras metricas\n",
        "\n",
        "pred_test=model.predict(x=dyn_test)\n"
      ],
      "metadata": {
        "colab": {
          "base_uri": "https://localhost:8080/"
        },
        "outputId": "dfe51396-6743-4519-9edc-93a693a392e9",
        "id": "zXeOEGJ32im4"
      },
      "execution_count": 10,
      "outputs": [
        {
          "output_type": "stream",
          "name": "stdout",
          "text": [
            "8/8 [==============================] - 1s 41ms/step\n"
          ]
        }
      ]
    },
    {
      "cell_type": "code",
      "source": [
        "# graficamos\n",
        "\n",
        "ae=target_test-pred_test\n",
        "\n",
        "# Calcular la media y la desviación estándar\n",
        "mean = np.mean(ae)\n",
        "std_dev = np.std(ae)\n",
        "\n",
        "plt.figure(figsize=(15,5))\n",
        "# Crear el histograma\n",
        "plt.hist(ae, bins=20, alpha=0.7, rwidth=0.85,label='Historigram')\n",
        "\n",
        "# Agregar las líneas verticales\n",
        "plt.axvline(mean, color='red', linestyle='dashed', linewidth=2,label='mean')\n",
        "plt.axvline(mean - 2*std_dev, color='green', linestyle='dashed', linewidth=2, label='mean - 2*std')\n",
        "plt.axvline(mean + 2*std_dev, color='green', linestyle='dashed', linewidth=2, label='mean + 2*std')\n",
        "\n",
        "# Configurar las etiquetas y el título\n",
        "plt.xlabel('Errores')\n",
        "plt.ylabel('Frecuencia')\n",
        "plt.title('Distribución del error absoluto')\n",
        "\n",
        "plt.legend(loc='upper left')\n",
        "# Mostrar el gráfico\n",
        "plt.show()\n",
        "print(f'Mean={np.round(mean,2)}')\n",
        "print(f'Mean-2*std={np.round(mean-2*std_dev,2)}')\n",
        "print(f'Mean+2*std={np.round(mean+2*std_dev,2)}')"
      ],
      "metadata": {
        "colab": {
          "base_uri": "https://localhost:8080/",
          "height": 539
        },
        "id": "q07w4aMJsLNe",
        "outputId": "ceb10132-b2c7-4d85-f6c1-a404463e562c"
      },
      "execution_count": 11,
      "outputs": [
        {
          "output_type": "display_data",
          "data": {
            "text/plain": [
              "<Figure size 1500x500 with 1 Axes>"
            ],
            "image/png": "[encoded data removed]"
          },
          "metadata": {}
        },
        {
          "output_type": "stream",
          "name": "stdout",
          "text": [
            "Mean=0.0\n",
            "Mean-2*std=-0.39\n",
            "Mean+2*std=0.4\n"
          ]
        }
      ]
    },
    {
      "cell_type": "code",
      "source": [
        "# analicemos los cuantiles del error absoluto de la nota\n",
        "ae=np.absolute(ae)\n",
        "\n",
        "print(f'q10 = {np.round(np.quantile(ae,  0.10)*100,3)}  pts')\n",
        "print(f'q25 = {np.round(np.quantile(ae,  0.25)*100,3)}  pts')\n",
        "print(f'q50 = {np.round(np.quantile(ae,  0.50)*100,3)} pts')\n",
        "print(f'q70 = {np.round(np.quantile(ae,  0.70)*100,3)} pts')\n",
        "print(f'q90 = {np.round(np.quantile(ae,  0.90)*100,3)} pts')"
      ],
      "metadata": {
        "colab": {
          "base_uri": "https://localhost:8080/"
        },
        "id": "7ws0eLZmNlO_",
        "outputId": "381a5248-4484-4a43-b950-dbf41ca0f75d"
      },
      "execution_count": 12,
      "outputs": [
        {
          "output_type": "stream",
          "name": "stdout",
          "text": [
            "q10 = 3.359  pts\n",
            "q25 = 5.577  pts\n",
            "q50 = 14.386 pts\n",
            "q70 = 21.467 pts\n",
            "q90 = 32.573 pts\n"
          ]
        }
      ]
    },
    {
      "cell_type": "markdown",
      "source": [
        "# **Exportamos el modelo**"
      ],
      "metadata": {
        "id": "XOxut_WVfS9K"
      }
    },
    {
      "cell_type": "code",
      "source": [
        "model.save(dir_data_kaggle+'/model_single.keras')"
      ],
      "metadata": {
        "id": "Xi-dPLn0AC_4"
      },
      "execution_count": 13,
      "outputs": []
    }
  ]
}